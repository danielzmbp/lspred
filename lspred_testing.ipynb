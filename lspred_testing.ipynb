{
 "cells": [
  {
   "cell_type": "code",
   "execution_count": 1,
   "metadata": {},
   "outputs": [],
   "source": [
    "import pandas as pd\n",
    "import glob\n",
    "import os\n",
    "\n",
    "import tensorflow as tf\n",
    "from tensorflow import keras"
   ]
  },
  {
   "cell_type": "markdown",
   "metadata": {},
   "source": [
    "Read input files as a list."
   ]
  },
  {
   "cell_type": "code",
   "execution_count": 2,
   "metadata": {
    "collapsed": false,
    "jupyter": {
     "outputs_hidden": false
    },
    "pycharm": {
     "name": "#%%\n"
    }
   },
   "outputs": [],
   "source": [
    "t = glob.glob(\"test_files/TABLE_*.tsv\") # replace this with your input files"
   ]
  },
  {
   "cell_type": "code",
   "execution_count": 3,
   "metadata": {},
   "outputs": [],
   "source": [
    "classes = [\"saprotroph\",\"necrotroph\",\"hemibiotroph\",\"biotroph\"]"
   ]
  },
  {
   "cell_type": "markdown",
   "metadata": {},
   "source": [
    "Parse input files to a pandas dataframe where the rows correspond to each file and the columns to all annotations."
   ]
  },
  {
   "cell_type": "code",
   "execution_count": 4,
   "metadata": {
    "collapsed": false,
    "jupyter": {
     "outputs_hidden": false
    },
    "pycharm": {
     "name": "#%%\n"
    }
   },
   "outputs": [],
   "source": [
    "l=[]\n",
    "for i in t:\n",
    "    t = pd.read_csv(i,\"\\t\",usecols=[\"step_name\",\"step_value\"])\n",
    "    name = i.split(\"TABLE_\")[-1].split(\".\")[0]\n",
    "    t.columns = [\"name\",name]\n",
    "    t.set_index(\"name\",inplace=True)\n",
    "    l.append(t)"
   ]
  },
  {
   "cell_type": "code",
   "execution_count": 5,
   "metadata": {
    "collapsed": false,
    "jupyter": {
     "outputs_hidden": false
    },
    "pycharm": {
     "name": "#%%\n"
    }
   },
   "outputs": [],
   "source": [
    "Xt= pd.concat(l,axis=1)"
   ]
  },
  {
   "cell_type": "code",
   "execution_count": 6,
   "metadata": {
    "collapsed": false,
    "jupyter": {
     "outputs_hidden": false
    },
    "pycharm": {
     "name": "#%%\n"
    }
   },
   "outputs": [],
   "source": [
    "Xt = Xt.transpose()"
   ]
  },
  {
   "cell_type": "code",
   "execution_count": 7,
   "metadata": {},
   "outputs": [
    {
     "data": {
      "text/plain": [
       "array([[1, 1, 1, ..., 0, 0, 0],\n",
       "       [0, 0, 0, ..., 0, 0, 0]])"
      ]
     },
     "execution_count": 7,
     "metadata": {},
     "output_type": "execute_result"
    }
   ],
   "source": [
    "Xt.values"
   ]
  },
  {
   "cell_type": "code",
   "execution_count": 8,
   "metadata": {},
   "outputs": [
    {
     "data": {
      "text/html": [
       "<div>\n",
       "<style scoped>\n",
       "    .dataframe tbody tr th:only-of-type {\n",
       "        vertical-align: middle;\n",
       "    }\n",
       "\n",
       "    .dataframe tbody tr th {\n",
       "        vertical-align: top;\n",
       "    }\n",
       "\n",
       "    .dataframe thead th {\n",
       "        text-align: right;\n",
       "    }\n",
       "</style>\n",
       "<table border=\"1\" class=\"dataframe\">\n",
       "  <thead>\n",
       "    <tr style=\"text-align: right;\">\n",
       "      <th>name</th>\n",
       "      <th>Phospho-2-dehydro-3-deoxyheptonate aldolase</th>\n",
       "      <th>3-dehydroquinate synthase</th>\n",
       "      <th>3-dehydroquinate dehydratase</th>\n",
       "      <th>Shikimate 5-dehydrogenase</th>\n",
       "      <th>Shikimate kinase</th>\n",
       "      <th>3-phosphoshikimate 1-carboxyvinyltransferase</th>\n",
       "      <th>Chorismate synthase</th>\n",
       "      <th>LLM-family F420-associated subfamilies</th>\n",
       "      <th>F420-dependent oxidoreductase families</th>\n",
       "      <th>Methylene-5,6,7,8-tetrahydromethanopterin dehydrogenase</th>\n",
       "      <th>...</th>\n",
       "      <th>Calcium/calmodulin-dependent protein kinase type II</th>\n",
       "      <th>Insulin release from secretory granules</th>\n",
       "      <th>Glucokinase</th>\n",
       "      <th>TCA cycle</th>\n",
       "      <th>Transient receptor potential cation channel subfamily M member 4</th>\n",
       "      <th>Sodium/potassium-transporting ATPase subunit alpha-1</th>\n",
       "      <th>Sodium/potassium-transporting ATPase subunit beta-1</th>\n",
       "      <th>ATP-binding cassette sub-family C member 8</th>\n",
       "      <th>ATP-sensitive inward rectifier potassium channel 11</th>\n",
       "      <th>Voltage-dependent L-type calcium channel subunits alpha</th>\n",
       "    </tr>\n",
       "  </thead>\n",
       "  <tbody>\n",
       "    <tr>\n",
       "      <th>GCA_000517465</th>\n",
       "      <td>1</td>\n",
       "      <td>1</td>\n",
       "      <td>1</td>\n",
       "      <td>1</td>\n",
       "      <td>1</td>\n",
       "      <td>1</td>\n",
       "      <td>1</td>\n",
       "      <td>0</td>\n",
       "      <td>0</td>\n",
       "      <td>0</td>\n",
       "      <td>...</td>\n",
       "      <td>0</td>\n",
       "      <td>0</td>\n",
       "      <td>0</td>\n",
       "      <td>1</td>\n",
       "      <td>0</td>\n",
       "      <td>0</td>\n",
       "      <td>0</td>\n",
       "      <td>0</td>\n",
       "      <td>0</td>\n",
       "      <td>0</td>\n",
       "    </tr>\n",
       "    <tr>\n",
       "      <th>pseudozyma</th>\n",
       "      <td>0</td>\n",
       "      <td>0</td>\n",
       "      <td>0</td>\n",
       "      <td>0</td>\n",
       "      <td>0</td>\n",
       "      <td>0</td>\n",
       "      <td>0</td>\n",
       "      <td>0</td>\n",
       "      <td>0</td>\n",
       "      <td>0</td>\n",
       "      <td>...</td>\n",
       "      <td>0</td>\n",
       "      <td>0</td>\n",
       "      <td>0</td>\n",
       "      <td>0</td>\n",
       "      <td>0</td>\n",
       "      <td>0</td>\n",
       "      <td>0</td>\n",
       "      <td>0</td>\n",
       "      <td>0</td>\n",
       "      <td>0</td>\n",
       "    </tr>\n",
       "  </tbody>\n",
       "</table>\n",
       "<p>2 rows × 5204 columns</p>\n",
       "</div>"
      ],
      "text/plain": [
       "name           Phospho-2-dehydro-3-deoxyheptonate aldolase  \\\n",
       "GCA_000517465                                            1   \n",
       "pseudozyma                                               0   \n",
       "\n",
       "name           3-dehydroquinate synthase  3-dehydroquinate dehydratase  \\\n",
       "GCA_000517465                          1                             1   \n",
       "pseudozyma                             0                             0   \n",
       "\n",
       "name           Shikimate 5-dehydrogenase  Shikimate kinase  \\\n",
       "GCA_000517465                          1                 1   \n",
       "pseudozyma                             0                 0   \n",
       "\n",
       "name           3-phosphoshikimate 1-carboxyvinyltransferase  \\\n",
       "GCA_000517465                                             1   \n",
       "pseudozyma                                                0   \n",
       "\n",
       "name           Chorismate synthase  LLM-family F420-associated subfamilies  \\\n",
       "GCA_000517465                    1                                       0   \n",
       "pseudozyma                       0                                       0   \n",
       "\n",
       "name           F420-dependent oxidoreductase families  \\\n",
       "GCA_000517465                                       0   \n",
       "pseudozyma                                          0   \n",
       "\n",
       "name           Methylene-5,6,7,8-tetrahydromethanopterin dehydrogenase  ...  \\\n",
       "GCA_000517465                                                  0        ...   \n",
       "pseudozyma                                                     0        ...   \n",
       "\n",
       "name           Calcium/calmodulin-dependent protein kinase type II  \\\n",
       "GCA_000517465                                                  0     \n",
       "pseudozyma                                                     0     \n",
       "\n",
       "name           Insulin release from secretory granules  Glucokinase  \\\n",
       "GCA_000517465                                        0            0   \n",
       "pseudozyma                                           0            0   \n",
       "\n",
       "name           TCA cycle  \\\n",
       "GCA_000517465          1   \n",
       "pseudozyma             0   \n",
       "\n",
       "name           Transient receptor potential cation channel subfamily M member 4  \\\n",
       "GCA_000517465                                                  0                  \n",
       "pseudozyma                                                     0                  \n",
       "\n",
       "name           Sodium/potassium-transporting ATPase subunit alpha-1  \\\n",
       "GCA_000517465                                                  0      \n",
       "pseudozyma                                                     0      \n",
       "\n",
       "name           Sodium/potassium-transporting ATPase subunit beta-1  \\\n",
       "GCA_000517465                                                  0     \n",
       "pseudozyma                                                     0     \n",
       "\n",
       "name           ATP-binding cassette sub-family C member 8  \\\n",
       "GCA_000517465                                           0   \n",
       "pseudozyma                                              0   \n",
       "\n",
       "name           ATP-sensitive inward rectifier potassium channel 11  \\\n",
       "GCA_000517465                                                  0     \n",
       "pseudozyma                                                     0     \n",
       "\n",
       "name           Voltage-dependent L-type calcium channel subunits alpha  \n",
       "GCA_000517465                                                  0        \n",
       "pseudozyma                                                     0        \n",
       "\n",
       "[2 rows x 5204 columns]"
      ]
     },
     "execution_count": 8,
     "metadata": {},
     "output_type": "execute_result"
    }
   ],
   "source": [
    "Xt"
   ]
  },
  {
   "cell_type": "markdown",
   "metadata": {},
   "source": [
    "Read model."
   ]
  },
  {
   "cell_type": "code",
   "execution_count": 9,
   "metadata": {},
   "outputs": [],
   "source": [
    "model = tf.keras.models.load_model('lspred_2_12_20.h5')"
   ]
  },
  {
   "cell_type": "code",
   "execution_count": 10,
   "metadata": {},
   "outputs": [
    {
     "name": "stdout",
     "output_type": "stream",
     "text": [
      "Model: \"sequential\"\n",
      "_________________________________________________________________\n",
      "Layer (type)                 Output Shape              Param #   \n",
      "=================================================================\n",
      "dense (Dense)                (None, 5204)              27086820  \n",
      "_________________________________________________________________\n",
      "dense_1 (Dense)              (None, 224)               1165920   \n",
      "_________________________________________________________________\n",
      "dense_2 (Dense)              (None, 64)                14400     \n",
      "_________________________________________________________________\n",
      "dense_3 (Dense)              (None, 4)                 260       \n",
      "=================================================================\n",
      "Total params: 28,267,400\n",
      "Trainable params: 28,267,400\n",
      "Non-trainable params: 0\n",
      "_________________________________________________________________\n"
     ]
    }
   ],
   "source": [
    "model.summary()"
   ]
  },
  {
   "cell_type": "markdown",
   "metadata": {},
   "source": [
    "Run predict method on the model to get probabilities for all output classes."
   ]
  },
  {
   "cell_type": "code",
   "execution_count": 11,
   "metadata": {},
   "outputs": [],
   "source": [
    "pred = model.predict(Xt)"
   ]
  },
  {
   "cell_type": "code",
   "execution_count": 12,
   "metadata": {},
   "outputs": [
    {
     "name": "stdout",
     "output_type": "stream",
     "text": [
      "['saprotroph', 'necrotroph', 'hemibiotroph', 'biotroph']\n",
      "[[0.00992905 0.00214383 0.10016803 0.8877591 ]\n",
      " [0.30474845 0.25972545 0.24817495 0.18735124]]\n"
     ]
    }
   ],
   "source": [
    "print(classes)\n",
    "print(pred)"
   ]
  },
  {
   "cell_type": "markdown",
   "metadata": {},
   "source": [
    "Format probabilities in a dataframe."
   ]
  },
  {
   "cell_type": "code",
   "execution_count": 13,
   "metadata": {},
   "outputs": [
    {
     "data": {
      "text/html": [
       "<div>\n",
       "<style scoped>\n",
       "    .dataframe tbody tr th:only-of-type {\n",
       "        vertical-align: middle;\n",
       "    }\n",
       "\n",
       "    .dataframe tbody tr th {\n",
       "        vertical-align: top;\n",
       "    }\n",
       "\n",
       "    .dataframe thead th {\n",
       "        text-align: right;\n",
       "    }\n",
       "</style>\n",
       "<table border=\"1\" class=\"dataframe\">\n",
       "  <thead>\n",
       "    <tr style=\"text-align: right;\">\n",
       "      <th></th>\n",
       "      <th>saprotroph</th>\n",
       "      <th>necrotroph</th>\n",
       "      <th>hemibiotroph</th>\n",
       "      <th>biotroph</th>\n",
       "    </tr>\n",
       "  </thead>\n",
       "  <tbody>\n",
       "    <tr>\n",
       "      <th>GCA_000517465</th>\n",
       "      <td>0.009929</td>\n",
       "      <td>0.002144</td>\n",
       "      <td>0.100168</td>\n",
       "      <td>0.887759</td>\n",
       "    </tr>\n",
       "    <tr>\n",
       "      <th>pseudozyma</th>\n",
       "      <td>0.304748</td>\n",
       "      <td>0.259725</td>\n",
       "      <td>0.248175</td>\n",
       "      <td>0.187351</td>\n",
       "    </tr>\n",
       "  </tbody>\n",
       "</table>\n",
       "</div>"
      ],
      "text/plain": [
       "               saprotroph  necrotroph  hemibiotroph  biotroph\n",
       "GCA_000517465    0.009929    0.002144      0.100168  0.887759\n",
       "pseudozyma       0.304748    0.259725      0.248175  0.187351"
      ]
     },
     "execution_count": 13,
     "metadata": {},
     "output_type": "execute_result"
    }
   ],
   "source": [
    "p = pd.DataFrame(pred)\n",
    "p.columns = classes\n",
    "p.index = Xt.index\n",
    "p"
   ]
  }
 ],
 "metadata": {
  "kernelspec": {
   "display_name": "Python 3",
   "language": "python",
   "name": "python3"
  },
  "language_info": {
   "codemirror_mode": {
    "name": "ipython",
    "version": 3
   },
   "file_extension": ".py",
   "mimetype": "text/x-python",
   "name": "python",
   "nbconvert_exporter": "python",
   "pygments_lexer": "ipython3",
   "version": "3.8.6"
  }
 },
 "nbformat": 4,
 "nbformat_minor": 4
}