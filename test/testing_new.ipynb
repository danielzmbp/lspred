{
 "cells": [
  {
   "cell_type": "code",
   "execution_count": 11,
   "metadata": {},
   "outputs": [],
   "source": [
    "import pandas as pd\n",
    "import glob\n",
    "import os\n",
    "\n",
    "import tensorflow as tf\n",
    "from tensorflow import keras"
   ]
  },
  {
   "cell_type": "code",
   "execution_count": 2,
   "metadata": {
    "collapsed": false,
    "jupyter": {
     "outputs_hidden": false
    },
    "pycharm": {
     "name": "#%%\n"
    }
   },
   "outputs": [],
   "source": [
    "t = glob.glob(\"test/TABLE_*.tsv\")"
   ]
  },
  {
   "cell_type": "code",
   "execution_count": 19,
   "metadata": {},
   "outputs": [],
   "source": [
    "classes = [\"saprotroph\",\"necrotroph\",\"hemibiotroph\",\"biotroph\"]"
   ]
  },
  {
   "cell_type": "code",
   "execution_count": 3,
   "metadata": {
    "collapsed": false,
    "jupyter": {
     "outputs_hidden": false
    },
    "pycharm": {
     "name": "#%%\n"
    }
   },
   "outputs": [],
   "source": [
    "l=[]\n",
    "for i in t:\n",
    "    t = pd.read_csv(i,\"\\t\",usecols=[\"step_name\",\"step_value\"])\n",
    "    name = i.split(\"TABLE_\")[-1].split(\".\")[0]\n",
    "    t.columns = [\"name\",name]\n",
    "    t.set_index(\"name\",inplace=True)\n",
    "    l.append(t)"
   ]
  },
  {
   "cell_type": "code",
   "execution_count": 4,
   "metadata": {
    "collapsed": false,
    "jupyter": {
     "outputs_hidden": false
    },
    "pycharm": {
     "name": "#%%\n"
    }
   },
   "outputs": [],
   "source": [
    "Xt= pd.concat(l,axis=1)"
   ]
  },
  {
   "cell_type": "code",
   "execution_count": 5,
   "metadata": {
    "collapsed": false,
    "jupyter": {
     "outputs_hidden": false
    },
    "pycharm": {
     "name": "#%%\n"
    }
   },
   "outputs": [],
   "source": [
    "Xt = Xt.transpose()"
   ]
  },
  {
   "cell_type": "code",
   "execution_count": 8,
   "metadata": {},
   "outputs": [
    {
     "data": {
      "text/plain": [
       "array([[0, 0, 0, ..., 0, 0, 0]])"
      ]
     },
     "execution_count": 8,
     "metadata": {},
     "output_type": "execute_result"
    }
   ],
   "source": [
    "Xt.values"
   ]
  },
  {
   "cell_type": "code",
   "execution_count": 9,
   "metadata": {},
   "outputs": [
    {
     "data": {
      "text/html": [
       "<div>\n",
       "<style scoped>\n",
       "    .dataframe tbody tr th:only-of-type {\n",
       "        vertical-align: middle;\n",
       "    }\n",
       "\n",
       "    .dataframe tbody tr th {\n",
       "        vertical-align: top;\n",
       "    }\n",
       "\n",
       "    .dataframe thead th {\n",
       "        text-align: right;\n",
       "    }\n",
       "</style>\n",
       "<table border=\"1\" class=\"dataframe\">\n",
       "  <thead>\n",
       "    <tr style=\"text-align: right;\">\n",
       "      <th>name</th>\n",
       "      <th>Phospho-2-dehydro-3-deoxyheptonate aldolase</th>\n",
       "      <th>3-dehydroquinate synthase</th>\n",
       "      <th>3-dehydroquinate dehydratase</th>\n",
       "      <th>Shikimate 5-dehydrogenase</th>\n",
       "      <th>Shikimate kinase</th>\n",
       "      <th>3-phosphoshikimate 1-carboxyvinyltransferase</th>\n",
       "      <th>Chorismate synthase</th>\n",
       "      <th>LLM-family F420-associated subfamilies</th>\n",
       "      <th>F420-dependent oxidoreductase families</th>\n",
       "      <th>Methylene-5,6,7,8-tetrahydromethanopterin dehydrogenase</th>\n",
       "      <th>...</th>\n",
       "      <th>Calcium/calmodulin-dependent protein kinase type II</th>\n",
       "      <th>Insulin release from secretory granules</th>\n",
       "      <th>Glucokinase</th>\n",
       "      <th>TCA cycle</th>\n",
       "      <th>Transient receptor potential cation channel subfamily M member 4</th>\n",
       "      <th>Sodium/potassium-transporting ATPase subunit alpha-1</th>\n",
       "      <th>Sodium/potassium-transporting ATPase subunit beta-1</th>\n",
       "      <th>ATP-binding cassette sub-family C member 8</th>\n",
       "      <th>ATP-sensitive inward rectifier potassium channel 11</th>\n",
       "      <th>Voltage-dependent L-type calcium channel subunits alpha</th>\n",
       "    </tr>\n",
       "  </thead>\n",
       "  <tbody>\n",
       "    <tr>\n",
       "      <th>pseudozyma</th>\n",
       "      <td>0</td>\n",
       "      <td>0</td>\n",
       "      <td>0</td>\n",
       "      <td>0</td>\n",
       "      <td>0</td>\n",
       "      <td>0</td>\n",
       "      <td>0</td>\n",
       "      <td>0</td>\n",
       "      <td>0</td>\n",
       "      <td>0</td>\n",
       "      <td>...</td>\n",
       "      <td>0</td>\n",
       "      <td>0</td>\n",
       "      <td>0</td>\n",
       "      <td>0</td>\n",
       "      <td>0</td>\n",
       "      <td>0</td>\n",
       "      <td>0</td>\n",
       "      <td>0</td>\n",
       "      <td>0</td>\n",
       "      <td>0</td>\n",
       "    </tr>\n",
       "  </tbody>\n",
       "</table>\n",
       "<p>1 rows × 5204 columns</p>\n",
       "</div>"
      ],
      "text/plain": [
       "name        Phospho-2-dehydro-3-deoxyheptonate aldolase  \\\n",
       "pseudozyma                                            0   \n",
       "\n",
       "name        3-dehydroquinate synthase  3-dehydroquinate dehydratase  \\\n",
       "pseudozyma                          0                             0   \n",
       "\n",
       "name        Shikimate 5-dehydrogenase  Shikimate kinase  \\\n",
       "pseudozyma                          0                 0   \n",
       "\n",
       "name        3-phosphoshikimate 1-carboxyvinyltransferase  Chorismate synthase  \\\n",
       "pseudozyma                                             0                    0   \n",
       "\n",
       "name        LLM-family F420-associated subfamilies  \\\n",
       "pseudozyma                                       0   \n",
       "\n",
       "name        F420-dependent oxidoreductase families  \\\n",
       "pseudozyma                                       0   \n",
       "\n",
       "name        Methylene-5,6,7,8-tetrahydromethanopterin dehydrogenase  ...  \\\n",
       "pseudozyma                                                  0        ...   \n",
       "\n",
       "name        Calcium/calmodulin-dependent protein kinase type II  \\\n",
       "pseudozyma                                                  0     \n",
       "\n",
       "name        Insulin release from secretory granules  Glucokinase  TCA cycle  \\\n",
       "pseudozyma                                        0            0          0   \n",
       "\n",
       "name        Transient receptor potential cation channel subfamily M member 4  \\\n",
       "pseudozyma                                                  0                  \n",
       "\n",
       "name        Sodium/potassium-transporting ATPase subunit alpha-1  \\\n",
       "pseudozyma                                                  0      \n",
       "\n",
       "name        Sodium/potassium-transporting ATPase subunit beta-1  \\\n",
       "pseudozyma                                                  0     \n",
       "\n",
       "name        ATP-binding cassette sub-family C member 8  \\\n",
       "pseudozyma                                           0   \n",
       "\n",
       "name        ATP-sensitive inward rectifier potassium channel 11  \\\n",
       "pseudozyma                                                  0     \n",
       "\n",
       "name        Voltage-dependent L-type calcium channel subunits alpha  \n",
       "pseudozyma                                                  0        \n",
       "\n",
       "[1 rows x 5204 columns]"
      ]
     },
     "execution_count": 9,
     "metadata": {},
     "output_type": "execute_result"
    }
   ],
   "source": [
    "Xt"
   ]
  },
  {
   "cell_type": "code",
   "execution_count": 12,
   "metadata": {},
   "outputs": [],
   "source": [
    "model = tf.keras.models.load_model('../lspred_2_12_20.h5')\n"
   ]
  },
  {
   "cell_type": "code",
   "execution_count": 13,
   "metadata": {},
   "outputs": [
    {
     "name": "stdout",
     "output_type": "stream",
     "text": [
      "Model: \"sequential\"\n",
      "_________________________________________________________________\n",
      "Layer (type)                 Output Shape              Param #   \n",
      "=================================================================\n",
      "dense (Dense)                (None, 5204)              27086820  \n",
      "_________________________________________________________________\n",
      "dense_1 (Dense)              (None, 224)               1165920   \n",
      "_________________________________________________________________\n",
      "dense_2 (Dense)              (None, 64)                14400     \n",
      "_________________________________________________________________\n",
      "dense_3 (Dense)              (None, 4)                 260       \n",
      "=================================================================\n",
      "Total params: 28,267,400\n",
      "Trainable params: 28,267,400\n",
      "Non-trainable params: 0\n",
      "_________________________________________________________________\n"
     ]
    }
   ],
   "source": [
    "model.summary()"
   ]
  },
  {
   "cell_type": "code",
   "execution_count": 17,
   "metadata": {},
   "outputs": [],
   "source": [
    "pred = model.predict(Xt)"
   ]
  },
  {
   "cell_type": "code",
   "execution_count": 24,
   "metadata": {},
   "outputs": [
    {
     "name": "stdout",
     "output_type": "stream",
     "text": [
      "[[0.3047484  0.25972548 0.2481749  0.18735121]]\n",
      "['saprotroph', 'necrotroph', 'hemibiotroph', 'biotroph']\n"
     ]
    }
   ],
   "source": [
    "print(pred)\n",
    "print(classes)"
   ]
  },
  {
   "cell_type": "code",
   "execution_count": null,
   "metadata": {},
   "outputs": [],
   "source": []
  }
 ],
 "metadata": {
  "kernelspec": {
   "display_name": "Python 3",
   "language": "python",
   "name": "python3"
  },
  "language_info": {
   "codemirror_mode": {
    "name": "ipython",
    "version": 3
   },
   "file_extension": ".py",
   "mimetype": "text/x-python",
   "name": "python",
   "nbconvert_exporter": "python",
   "pygments_lexer": "ipython3",
   "version": "3.8.6"
  }
 },
 "nbformat": 4,
 "nbformat_minor": 4
}
