{
 "nbformat": 4,
 "nbformat_minor": 0,
 "metadata": {
  "kernelspec": {
   "display_name": "Python 3",
   "language": "python",
   "name": "python3"
  },
  "language_info": {
   "codemirror_mode": {
    "name": "ipython",
    "version": 3
   },
   "file_extension": ".py",
   "mimetype": "text/x-python",
   "name": "python",
   "nbconvert_exporter": "python",
   "pygments_lexer": "ipython3",
   "version": "3.8.6"
  },
  "colab": {
   "name": "Copy of ls-pred_training.ipynb",
   "provenance": [
    {
     "file_id": "https://github.com/danielzmbp/ls-pred/blob/main/ls-pred_training.ipynb",
     "timestamp": 1606253746035
    }
   ],
   "toc_visible": true
  }
 },
 "cells": [
  {
   "cell_type": "code",
   "metadata": {
    "id": "aNJ8jOENCsF9",
    "colab": {
     "base_uri": "https://localhost:8080/"
    },
    "executionInfo": {
     "status": "ok",
     "timestamp": 1606253786706,
     "user_tz": -60,
     "elapsed": 7961,
     "user": {
      "displayName": "Daniel Gómez",
      "photoUrl": "https://lh3.googleusercontent.com/a-/AOh14GjjGG1-9QcFVqTiC1A2xbXl7B28fL-MBhUTYRio9A=s64",
      "userId": "14778609337782300534"
     }
    },
    "outputId": "ec25c0a8-383f-44a9-f7f7-ebbfaa2e7a61"
   },
   "source": [
    "!pip install keras-tuner\n"
   ],
   "execution_count": 1,
   "outputs": [
    {
     "output_type": "stream",
     "text": [
      "Collecting keras-tuner\n",
      "\u001B[?25l  Downloading https://files.pythonhosted.org/packages/20/ec/1ef246787174b1e2bb591c95f29d3c1310070cad877824f907faba3dade9/keras-tuner-1.0.2.tar.gz (62kB)\n",
      "\r\u001B[K     |█████▏                          | 10kB 16.2MB/s eta 0:00:01\r\u001B[K     |██████████▍                     | 20kB 21.8MB/s eta 0:00:01\r\u001B[K     |███████████████▋                | 30kB 11.5MB/s eta 0:00:01\r\u001B[K     |████████████████████▉           | 40kB 8.8MB/s eta 0:00:01\r\u001B[K     |██████████████████████████      | 51kB 4.3MB/s eta 0:00:01\r\u001B[K     |███████████████████████████████▎| 61kB 4.9MB/s eta 0:00:01\r\u001B[K     |████████████████████████████████| 71kB 3.3MB/s \n",
      "\u001B[?25hRequirement already satisfied: packaging in /usr/local/lib/python3.6/dist-packages (from keras-tuner) (20.4)\n",
      "Requirement already satisfied: future in /usr/local/lib/python3.6/dist-packages (from keras-tuner) (0.16.0)\n",
      "Requirement already satisfied: numpy in /usr/local/lib/python3.6/dist-packages (from keras-tuner) (1.18.5)\n",
      "Requirement already satisfied: tabulate in /usr/local/lib/python3.6/dist-packages (from keras-tuner) (0.8.7)\n",
      "Collecting terminaltables\n",
      "  Downloading https://files.pythonhosted.org/packages/9b/c4/4a21174f32f8a7e1104798c445dacdc1d4df86f2f26722767034e4de4bff/terminaltables-3.1.0.tar.gz\n",
      "Collecting colorama\n",
      "  Downloading https://files.pythonhosted.org/packages/44/98/5b86278fbbf250d239ae0ecb724f8572af1c91f4a11edf4d36a206189440/colorama-0.4.4-py2.py3-none-any.whl\n",
      "Requirement already satisfied: tqdm in /usr/local/lib/python3.6/dist-packages (from keras-tuner) (4.41.1)\n",
      "Requirement already satisfied: requests in /usr/local/lib/python3.6/dist-packages (from keras-tuner) (2.23.0)\n",
      "Requirement already satisfied: scipy in /usr/local/lib/python3.6/dist-packages (from keras-tuner) (1.4.1)\n",
      "Requirement already satisfied: scikit-learn in /usr/local/lib/python3.6/dist-packages (from keras-tuner) (0.22.2.post1)\n",
      "Requirement already satisfied: pyparsing>=2.0.2 in /usr/local/lib/python3.6/dist-packages (from packaging->keras-tuner) (2.4.7)\n",
      "Requirement already satisfied: six in /usr/local/lib/python3.6/dist-packages (from packaging->keras-tuner) (1.15.0)\n",
      "Requirement already satisfied: idna<3,>=2.5 in /usr/local/lib/python3.6/dist-packages (from requests->keras-tuner) (2.10)\n",
      "Requirement already satisfied: urllib3!=1.25.0,!=1.25.1,<1.26,>=1.21.1 in /usr/local/lib/python3.6/dist-packages (from requests->keras-tuner) (1.24.3)\n",
      "Requirement already satisfied: certifi>=2017.4.17 in /usr/local/lib/python3.6/dist-packages (from requests->keras-tuner) (2020.11.8)\n",
      "Requirement already satisfied: chardet<4,>=3.0.2 in /usr/local/lib/python3.6/dist-packages (from requests->keras-tuner) (3.0.4)\n",
      "Requirement already satisfied: joblib>=0.11 in /usr/local/lib/python3.6/dist-packages (from scikit-learn->keras-tuner) (0.17.0)\n",
      "Building wheels for collected packages: keras-tuner, terminaltables\n",
      "  Building wheel for keras-tuner (setup.py) ... \u001B[?25l\u001B[?25hdone\n",
      "  Created wheel for keras-tuner: filename=keras_tuner-1.0.2-cp36-none-any.whl size=78937 sha256=c97e9a03cab1e9f2d5b0d537d988dd78d74c24d95eea17104c854b03811163d0\n",
      "  Stored in directory: /root/.cache/pip/wheels/bb/a1/8a/7c3de0efb3707a1701b36ebbfdbc4e67aedf6d4943a1f463d6\n",
      "  Building wheel for terminaltables (setup.py) ... \u001B[?25l\u001B[?25hdone\n",
      "  Created wheel for terminaltables: filename=terminaltables-3.1.0-cp36-none-any.whl size=15356 sha256=661ea446d390a52cd90f6c23e4d079f065662d4ee73f3038df41163b2feed21d\n",
      "  Stored in directory: /root/.cache/pip/wheels/30/6b/50/6c75775b681fb36cdfac7f19799888ef9d8813aff9e379663e\n",
      "Successfully built keras-tuner terminaltables\n",
      "Installing collected packages: terminaltables, colorama, keras-tuner\n",
      "Successfully installed colorama-0.4.4 keras-tuner-1.0.2 terminaltables-3.1.0\n"
     ],
     "name": "stdout"
    }
   ]
  },
  {
   "cell_type": "markdown",
   "metadata": {
    "id": "y70d8IPwCjZY"
   },
   "source": [
    "# LS- pred\n",
    "In this notebook I develop a model to predict lifestyle based on InterProScan annotations. The input tsv files consist\n",
    "of the table outputs from the [genome-properties](https://github.com/ebi-pf-team/genome-properties) script."
   ]
  },
  {
   "cell_type": "code",
   "metadata": {
    "id": "4nBLevXcCjZa",
    "executionInfo": {
     "status": "ok",
     "timestamp": 1606253789745,
     "user_tz": -60,
     "elapsed": 7507,
     "user": {
      "displayName": "Daniel Gómez",
      "photoUrl": "https://lh3.googleusercontent.com/a-/AOh14GjjGG1-9QcFVqTiC1A2xbXl7B28fL-MBhUTYRio9A=s64",
      "userId": "14778609337782300534"
     }
    }
   },
   "source": [
    "import pandas as pd\n",
    "import numpy as np\n",
    "import tensorflow as tf\n",
    "from tensorflow import keras\n",
    "import kerastuner as kt\n",
    "import IPython\n",
    "import matplotlib.pyplot as plt\n",
    "from sklearn.model_selection import train_test_split"
   ],
   "execution_count": 2,
   "outputs": []
  },
  {
   "cell_type": "markdown",
   "metadata": {
    "id": "-0iwb3h7CjZc"
   },
   "source": [
    "## Merge dfs"
   ]
  },
  {
   "cell_type": "code",
   "metadata": {
    "id": "eG6f9kaPD3Pq",
    "executionInfo": {
     "status": "ok",
     "timestamp": 1606253955009,
     "user_tz": -60,
     "elapsed": 1145,
     "user": {
      "displayName": "Daniel Gómez",
      "photoUrl": "https://lh3.googleusercontent.com/a-/AOh14GjjGG1-9QcFVqTiC1A2xbXl7B28fL-MBhUTYRio9A=s64",
      "userId": "14778609337782300534"
     }
    }
   },
   "source": [
    "X = pd.read_csv(\"ls-pred.csv\",header=None)"
   ],
   "execution_count": 5,
   "outputs": []
  },
  {
   "cell_type": "code",
   "metadata": {
    "id": "FyIsL8dSEIVf",
    "colab": {
     "base_uri": "https://localhost:8080/",
     "height": 522
    },
    "executionInfo": {
     "status": "ok",
     "timestamp": 1606253955354,
     "user_tz": -60,
     "elapsed": 768,
     "user": {
      "displayName": "Daniel Gómez",
      "photoUrl": "https://lh3.googleusercontent.com/a-/AOh14GjjGG1-9QcFVqTiC1A2xbXl7B28fL-MBhUTYRio9A=s64",
      "userId": "14778609337782300534"
     }
    },
    "outputId": "02393edb-ce7b-4d15-894c-d5dc1ab9c25a"
   },
   "source": [
    "X"
   ],
   "execution_count": 6,
   "outputs": [
    {
     "output_type": "execute_result",
     "data": {
      "text/html": [
       "<div>\n",
       "<style scoped>\n",
       "    .dataframe tbody tr th:only-of-type {\n",
       "        vertical-align: middle;\n",
       "    }\n",
       "\n",
       "    .dataframe tbody tr th {\n",
       "        vertical-align: top;\n",
       "    }\n",
       "\n",
       "    .dataframe thead th {\n",
       "        text-align: right;\n",
       "    }\n",
       "</style>\n",
       "<table border=\"1\" class=\"dataframe\">\n",
       "  <thead>\n",
       "    <tr style=\"text-align: right;\">\n",
       "      <th></th>\n",
       "      <th>0</th>\n",
       "      <th>1</th>\n",
       "      <th>2</th>\n",
       "      <th>3</th>\n",
       "      <th>4</th>\n",
       "      <th>5</th>\n",
       "      <th>6</th>\n",
       "      <th>7</th>\n",
       "      <th>8</th>\n",
       "      <th>9</th>\n",
       "      <th>10</th>\n",
       "      <th>11</th>\n",
       "      <th>12</th>\n",
       "      <th>13</th>\n",
       "      <th>14</th>\n",
       "      <th>15</th>\n",
       "      <th>16</th>\n",
       "      <th>17</th>\n",
       "      <th>18</th>\n",
       "      <th>19</th>\n",
       "      <th>20</th>\n",
       "      <th>21</th>\n",
       "      <th>22</th>\n",
       "      <th>23</th>\n",
       "      <th>24</th>\n",
       "      <th>25</th>\n",
       "      <th>26</th>\n",
       "      <th>27</th>\n",
       "      <th>28</th>\n",
       "      <th>29</th>\n",
       "      <th>30</th>\n",
       "      <th>31</th>\n",
       "      <th>32</th>\n",
       "      <th>33</th>\n",
       "      <th>34</th>\n",
       "      <th>35</th>\n",
       "      <th>36</th>\n",
       "      <th>37</th>\n",
       "      <th>38</th>\n",
       "      <th>39</th>\n",
       "      <th>...</th>\n",
       "      <th>5165</th>\n",
       "      <th>5166</th>\n",
       "      <th>5167</th>\n",
       "      <th>5168</th>\n",
       "      <th>5169</th>\n",
       "      <th>5170</th>\n",
       "      <th>5171</th>\n",
       "      <th>5172</th>\n",
       "      <th>5173</th>\n",
       "      <th>5174</th>\n",
       "      <th>5175</th>\n",
       "      <th>5176</th>\n",
       "      <th>5177</th>\n",
       "      <th>5178</th>\n",
       "      <th>5179</th>\n",
       "      <th>5180</th>\n",
       "      <th>5181</th>\n",
       "      <th>5182</th>\n",
       "      <th>5183</th>\n",
       "      <th>5184</th>\n",
       "      <th>5185</th>\n",
       "      <th>5186</th>\n",
       "      <th>5187</th>\n",
       "      <th>5188</th>\n",
       "      <th>5189</th>\n",
       "      <th>5190</th>\n",
       "      <th>5191</th>\n",
       "      <th>5192</th>\n",
       "      <th>5193</th>\n",
       "      <th>5194</th>\n",
       "      <th>5195</th>\n",
       "      <th>5196</th>\n",
       "      <th>5197</th>\n",
       "      <th>5198</th>\n",
       "      <th>5199</th>\n",
       "      <th>5200</th>\n",
       "      <th>5201</th>\n",
       "      <th>5202</th>\n",
       "      <th>5203</th>\n",
       "      <th>5204</th>\n",
       "    </tr>\n",
       "  </thead>\n",
       "  <tbody>\n",
       "    <tr>\n",
       "      <th>0</th>\n",
       "      <td>3</td>\n",
       "      <td>1</td>\n",
       "      <td>1</td>\n",
       "      <td>1</td>\n",
       "      <td>1</td>\n",
       "      <td>1</td>\n",
       "      <td>1</td>\n",
       "      <td>1</td>\n",
       "      <td>0</td>\n",
       "      <td>0</td>\n",
       "      <td>0</td>\n",
       "      <td>0</td>\n",
       "      <td>0</td>\n",
       "      <td>0</td>\n",
       "      <td>0</td>\n",
       "      <td>0</td>\n",
       "      <td>0</td>\n",
       "      <td>0</td>\n",
       "      <td>0</td>\n",
       "      <td>0</td>\n",
       "      <td>0</td>\n",
       "      <td>0</td>\n",
       "      <td>0</td>\n",
       "      <td>0</td>\n",
       "      <td>0</td>\n",
       "      <td>0</td>\n",
       "      <td>0</td>\n",
       "      <td>0</td>\n",
       "      <td>0</td>\n",
       "      <td>0</td>\n",
       "      <td>0</td>\n",
       "      <td>0</td>\n",
       "      <td>0</td>\n",
       "      <td>0</td>\n",
       "      <td>0</td>\n",
       "      <td>0</td>\n",
       "      <td>0</td>\n",
       "      <td>0</td>\n",
       "      <td>0</td>\n",
       "      <td>0</td>\n",
       "      <td>...</td>\n",
       "      <td>0</td>\n",
       "      <td>0</td>\n",
       "      <td>0</td>\n",
       "      <td>0</td>\n",
       "      <td>1</td>\n",
       "      <td>1</td>\n",
       "      <td>0</td>\n",
       "      <td>0</td>\n",
       "      <td>1</td>\n",
       "      <td>0</td>\n",
       "      <td>1</td>\n",
       "      <td>0</td>\n",
       "      <td>0</td>\n",
       "      <td>0</td>\n",
       "      <td>0</td>\n",
       "      <td>0</td>\n",
       "      <td>0</td>\n",
       "      <td>0</td>\n",
       "      <td>0</td>\n",
       "      <td>0</td>\n",
       "      <td>0</td>\n",
       "      <td>0</td>\n",
       "      <td>0</td>\n",
       "      <td>0</td>\n",
       "      <td>0</td>\n",
       "      <td>0</td>\n",
       "      <td>0</td>\n",
       "      <td>0</td>\n",
       "      <td>0</td>\n",
       "      <td>0</td>\n",
       "      <td>0</td>\n",
       "      <td>0</td>\n",
       "      <td>0</td>\n",
       "      <td>1</td>\n",
       "      <td>0</td>\n",
       "      <td>0</td>\n",
       "      <td>0</td>\n",
       "      <td>0</td>\n",
       "      <td>0</td>\n",
       "      <td>0</td>\n",
       "    </tr>\n",
       "    <tr>\n",
       "      <th>1</th>\n",
       "      <td>3</td>\n",
       "      <td>1</td>\n",
       "      <td>1</td>\n",
       "      <td>1</td>\n",
       "      <td>1</td>\n",
       "      <td>1</td>\n",
       "      <td>1</td>\n",
       "      <td>1</td>\n",
       "      <td>0</td>\n",
       "      <td>0</td>\n",
       "      <td>0</td>\n",
       "      <td>0</td>\n",
       "      <td>0</td>\n",
       "      <td>0</td>\n",
       "      <td>0</td>\n",
       "      <td>0</td>\n",
       "      <td>0</td>\n",
       "      <td>0</td>\n",
       "      <td>0</td>\n",
       "      <td>0</td>\n",
       "      <td>0</td>\n",
       "      <td>0</td>\n",
       "      <td>0</td>\n",
       "      <td>0</td>\n",
       "      <td>0</td>\n",
       "      <td>0</td>\n",
       "      <td>0</td>\n",
       "      <td>0</td>\n",
       "      <td>0</td>\n",
       "      <td>0</td>\n",
       "      <td>0</td>\n",
       "      <td>0</td>\n",
       "      <td>0</td>\n",
       "      <td>0</td>\n",
       "      <td>0</td>\n",
       "      <td>0</td>\n",
       "      <td>0</td>\n",
       "      <td>0</td>\n",
       "      <td>0</td>\n",
       "      <td>0</td>\n",
       "      <td>...</td>\n",
       "      <td>0</td>\n",
       "      <td>0</td>\n",
       "      <td>0</td>\n",
       "      <td>0</td>\n",
       "      <td>1</td>\n",
       "      <td>1</td>\n",
       "      <td>0</td>\n",
       "      <td>0</td>\n",
       "      <td>1</td>\n",
       "      <td>0</td>\n",
       "      <td>0</td>\n",
       "      <td>0</td>\n",
       "      <td>0</td>\n",
       "      <td>0</td>\n",
       "      <td>0</td>\n",
       "      <td>0</td>\n",
       "      <td>0</td>\n",
       "      <td>0</td>\n",
       "      <td>0</td>\n",
       "      <td>0</td>\n",
       "      <td>0</td>\n",
       "      <td>0</td>\n",
       "      <td>0</td>\n",
       "      <td>0</td>\n",
       "      <td>0</td>\n",
       "      <td>0</td>\n",
       "      <td>0</td>\n",
       "      <td>0</td>\n",
       "      <td>0</td>\n",
       "      <td>0</td>\n",
       "      <td>0</td>\n",
       "      <td>0</td>\n",
       "      <td>0</td>\n",
       "      <td>1</td>\n",
       "      <td>0</td>\n",
       "      <td>0</td>\n",
       "      <td>0</td>\n",
       "      <td>0</td>\n",
       "      <td>0</td>\n",
       "      <td>0</td>\n",
       "    </tr>\n",
       "    <tr>\n",
       "      <th>2</th>\n",
       "      <td>3</td>\n",
       "      <td>1</td>\n",
       "      <td>1</td>\n",
       "      <td>1</td>\n",
       "      <td>0</td>\n",
       "      <td>1</td>\n",
       "      <td>1</td>\n",
       "      <td>1</td>\n",
       "      <td>0</td>\n",
       "      <td>0</td>\n",
       "      <td>0</td>\n",
       "      <td>0</td>\n",
       "      <td>0</td>\n",
       "      <td>0</td>\n",
       "      <td>0</td>\n",
       "      <td>0</td>\n",
       "      <td>0</td>\n",
       "      <td>0</td>\n",
       "      <td>0</td>\n",
       "      <td>0</td>\n",
       "      <td>0</td>\n",
       "      <td>0</td>\n",
       "      <td>0</td>\n",
       "      <td>0</td>\n",
       "      <td>0</td>\n",
       "      <td>0</td>\n",
       "      <td>0</td>\n",
       "      <td>0</td>\n",
       "      <td>0</td>\n",
       "      <td>0</td>\n",
       "      <td>0</td>\n",
       "      <td>0</td>\n",
       "      <td>0</td>\n",
       "      <td>0</td>\n",
       "      <td>0</td>\n",
       "      <td>0</td>\n",
       "      <td>0</td>\n",
       "      <td>0</td>\n",
       "      <td>0</td>\n",
       "      <td>0</td>\n",
       "      <td>...</td>\n",
       "      <td>0</td>\n",
       "      <td>0</td>\n",
       "      <td>0</td>\n",
       "      <td>0</td>\n",
       "      <td>1</td>\n",
       "      <td>1</td>\n",
       "      <td>0</td>\n",
       "      <td>0</td>\n",
       "      <td>1</td>\n",
       "      <td>0</td>\n",
       "      <td>1</td>\n",
       "      <td>0</td>\n",
       "      <td>0</td>\n",
       "      <td>0</td>\n",
       "      <td>0</td>\n",
       "      <td>0</td>\n",
       "      <td>0</td>\n",
       "      <td>0</td>\n",
       "      <td>0</td>\n",
       "      <td>0</td>\n",
       "      <td>0</td>\n",
       "      <td>0</td>\n",
       "      <td>0</td>\n",
       "      <td>0</td>\n",
       "      <td>0</td>\n",
       "      <td>0</td>\n",
       "      <td>0</td>\n",
       "      <td>0</td>\n",
       "      <td>0</td>\n",
       "      <td>0</td>\n",
       "      <td>0</td>\n",
       "      <td>0</td>\n",
       "      <td>0</td>\n",
       "      <td>1</td>\n",
       "      <td>0</td>\n",
       "      <td>0</td>\n",
       "      <td>0</td>\n",
       "      <td>0</td>\n",
       "      <td>0</td>\n",
       "      <td>0</td>\n",
       "    </tr>\n",
       "    <tr>\n",
       "      <th>3</th>\n",
       "      <td>3</td>\n",
       "      <td>1</td>\n",
       "      <td>0</td>\n",
       "      <td>0</td>\n",
       "      <td>0</td>\n",
       "      <td>0</td>\n",
       "      <td>0</td>\n",
       "      <td>1</td>\n",
       "      <td>0</td>\n",
       "      <td>0</td>\n",
       "      <td>0</td>\n",
       "      <td>0</td>\n",
       "      <td>0</td>\n",
       "      <td>0</td>\n",
       "      <td>0</td>\n",
       "      <td>0</td>\n",
       "      <td>0</td>\n",
       "      <td>0</td>\n",
       "      <td>0</td>\n",
       "      <td>0</td>\n",
       "      <td>0</td>\n",
       "      <td>0</td>\n",
       "      <td>0</td>\n",
       "      <td>0</td>\n",
       "      <td>0</td>\n",
       "      <td>0</td>\n",
       "      <td>0</td>\n",
       "      <td>0</td>\n",
       "      <td>0</td>\n",
       "      <td>0</td>\n",
       "      <td>0</td>\n",
       "      <td>0</td>\n",
       "      <td>0</td>\n",
       "      <td>0</td>\n",
       "      <td>0</td>\n",
       "      <td>0</td>\n",
       "      <td>0</td>\n",
       "      <td>0</td>\n",
       "      <td>0</td>\n",
       "      <td>0</td>\n",
       "      <td>...</td>\n",
       "      <td>0</td>\n",
       "      <td>0</td>\n",
       "      <td>0</td>\n",
       "      <td>0</td>\n",
       "      <td>1</td>\n",
       "      <td>1</td>\n",
       "      <td>0</td>\n",
       "      <td>0</td>\n",
       "      <td>1</td>\n",
       "      <td>0</td>\n",
       "      <td>1</td>\n",
       "      <td>0</td>\n",
       "      <td>0</td>\n",
       "      <td>0</td>\n",
       "      <td>0</td>\n",
       "      <td>0</td>\n",
       "      <td>0</td>\n",
       "      <td>0</td>\n",
       "      <td>0</td>\n",
       "      <td>0</td>\n",
       "      <td>1</td>\n",
       "      <td>0</td>\n",
       "      <td>0</td>\n",
       "      <td>0</td>\n",
       "      <td>0</td>\n",
       "      <td>0</td>\n",
       "      <td>0</td>\n",
       "      <td>0</td>\n",
       "      <td>0</td>\n",
       "      <td>0</td>\n",
       "      <td>0</td>\n",
       "      <td>0</td>\n",
       "      <td>0</td>\n",
       "      <td>1</td>\n",
       "      <td>0</td>\n",
       "      <td>0</td>\n",
       "      <td>0</td>\n",
       "      <td>0</td>\n",
       "      <td>0</td>\n",
       "      <td>0</td>\n",
       "    </tr>\n",
       "    <tr>\n",
       "      <th>4</th>\n",
       "      <td>3</td>\n",
       "      <td>1</td>\n",
       "      <td>1</td>\n",
       "      <td>1</td>\n",
       "      <td>1</td>\n",
       "      <td>1</td>\n",
       "      <td>1</td>\n",
       "      <td>1</td>\n",
       "      <td>0</td>\n",
       "      <td>0</td>\n",
       "      <td>0</td>\n",
       "      <td>0</td>\n",
       "      <td>0</td>\n",
       "      <td>0</td>\n",
       "      <td>0</td>\n",
       "      <td>0</td>\n",
       "      <td>0</td>\n",
       "      <td>0</td>\n",
       "      <td>0</td>\n",
       "      <td>0</td>\n",
       "      <td>0</td>\n",
       "      <td>0</td>\n",
       "      <td>0</td>\n",
       "      <td>0</td>\n",
       "      <td>0</td>\n",
       "      <td>0</td>\n",
       "      <td>0</td>\n",
       "      <td>0</td>\n",
       "      <td>0</td>\n",
       "      <td>0</td>\n",
       "      <td>0</td>\n",
       "      <td>0</td>\n",
       "      <td>0</td>\n",
       "      <td>0</td>\n",
       "      <td>0</td>\n",
       "      <td>0</td>\n",
       "      <td>0</td>\n",
       "      <td>0</td>\n",
       "      <td>0</td>\n",
       "      <td>0</td>\n",
       "      <td>...</td>\n",
       "      <td>0</td>\n",
       "      <td>0</td>\n",
       "      <td>0</td>\n",
       "      <td>0</td>\n",
       "      <td>1</td>\n",
       "      <td>1</td>\n",
       "      <td>0</td>\n",
       "      <td>0</td>\n",
       "      <td>1</td>\n",
       "      <td>0</td>\n",
       "      <td>1</td>\n",
       "      <td>0</td>\n",
       "      <td>0</td>\n",
       "      <td>0</td>\n",
       "      <td>0</td>\n",
       "      <td>0</td>\n",
       "      <td>0</td>\n",
       "      <td>0</td>\n",
       "      <td>0</td>\n",
       "      <td>0</td>\n",
       "      <td>0</td>\n",
       "      <td>0</td>\n",
       "      <td>0</td>\n",
       "      <td>0</td>\n",
       "      <td>0</td>\n",
       "      <td>0</td>\n",
       "      <td>0</td>\n",
       "      <td>0</td>\n",
       "      <td>0</td>\n",
       "      <td>0</td>\n",
       "      <td>0</td>\n",
       "      <td>0</td>\n",
       "      <td>0</td>\n",
       "      <td>1</td>\n",
       "      <td>0</td>\n",
       "      <td>0</td>\n",
       "      <td>0</td>\n",
       "      <td>0</td>\n",
       "      <td>0</td>\n",
       "      <td>0</td>\n",
       "    </tr>\n",
       "    <tr>\n",
       "      <th>...</th>\n",
       "      <td>...</td>\n",
       "      <td>...</td>\n",
       "      <td>...</td>\n",
       "      <td>...</td>\n",
       "      <td>...</td>\n",
       "      <td>...</td>\n",
       "      <td>...</td>\n",
       "      <td>...</td>\n",
       "      <td>...</td>\n",
       "      <td>...</td>\n",
       "      <td>...</td>\n",
       "      <td>...</td>\n",
       "      <td>...</td>\n",
       "      <td>...</td>\n",
       "      <td>...</td>\n",
       "      <td>...</td>\n",
       "      <td>...</td>\n",
       "      <td>...</td>\n",
       "      <td>...</td>\n",
       "      <td>...</td>\n",
       "      <td>...</td>\n",
       "      <td>...</td>\n",
       "      <td>...</td>\n",
       "      <td>...</td>\n",
       "      <td>...</td>\n",
       "      <td>...</td>\n",
       "      <td>...</td>\n",
       "      <td>...</td>\n",
       "      <td>...</td>\n",
       "      <td>...</td>\n",
       "      <td>...</td>\n",
       "      <td>...</td>\n",
       "      <td>...</td>\n",
       "      <td>...</td>\n",
       "      <td>...</td>\n",
       "      <td>...</td>\n",
       "      <td>...</td>\n",
       "      <td>...</td>\n",
       "      <td>...</td>\n",
       "      <td>...</td>\n",
       "      <td>...</td>\n",
       "      <td>...</td>\n",
       "      <td>...</td>\n",
       "      <td>...</td>\n",
       "      <td>...</td>\n",
       "      <td>...</td>\n",
       "      <td>...</td>\n",
       "      <td>...</td>\n",
       "      <td>...</td>\n",
       "      <td>...</td>\n",
       "      <td>...</td>\n",
       "      <td>...</td>\n",
       "      <td>...</td>\n",
       "      <td>...</td>\n",
       "      <td>...</td>\n",
       "      <td>...</td>\n",
       "      <td>...</td>\n",
       "      <td>...</td>\n",
       "      <td>...</td>\n",
       "      <td>...</td>\n",
       "      <td>...</td>\n",
       "      <td>...</td>\n",
       "      <td>...</td>\n",
       "      <td>...</td>\n",
       "      <td>...</td>\n",
       "      <td>...</td>\n",
       "      <td>...</td>\n",
       "      <td>...</td>\n",
       "      <td>...</td>\n",
       "      <td>...</td>\n",
       "      <td>...</td>\n",
       "      <td>...</td>\n",
       "      <td>...</td>\n",
       "      <td>...</td>\n",
       "      <td>...</td>\n",
       "      <td>...</td>\n",
       "      <td>...</td>\n",
       "      <td>...</td>\n",
       "      <td>...</td>\n",
       "      <td>...</td>\n",
       "      <td>...</td>\n",
       "    </tr>\n",
       "    <tr>\n",
       "      <th>373</th>\n",
       "      <td>0</td>\n",
       "      <td>1</td>\n",
       "      <td>1</td>\n",
       "      <td>1</td>\n",
       "      <td>1</td>\n",
       "      <td>1</td>\n",
       "      <td>1</td>\n",
       "      <td>1</td>\n",
       "      <td>0</td>\n",
       "      <td>0</td>\n",
       "      <td>0</td>\n",
       "      <td>0</td>\n",
       "      <td>0</td>\n",
       "      <td>0</td>\n",
       "      <td>0</td>\n",
       "      <td>0</td>\n",
       "      <td>0</td>\n",
       "      <td>0</td>\n",
       "      <td>0</td>\n",
       "      <td>0</td>\n",
       "      <td>0</td>\n",
       "      <td>0</td>\n",
       "      <td>0</td>\n",
       "      <td>0</td>\n",
       "      <td>0</td>\n",
       "      <td>0</td>\n",
       "      <td>0</td>\n",
       "      <td>0</td>\n",
       "      <td>0</td>\n",
       "      <td>0</td>\n",
       "      <td>0</td>\n",
       "      <td>0</td>\n",
       "      <td>0</td>\n",
       "      <td>0</td>\n",
       "      <td>0</td>\n",
       "      <td>0</td>\n",
       "      <td>0</td>\n",
       "      <td>0</td>\n",
       "      <td>0</td>\n",
       "      <td>0</td>\n",
       "      <td>...</td>\n",
       "      <td>0</td>\n",
       "      <td>0</td>\n",
       "      <td>0</td>\n",
       "      <td>0</td>\n",
       "      <td>1</td>\n",
       "      <td>1</td>\n",
       "      <td>0</td>\n",
       "      <td>0</td>\n",
       "      <td>1</td>\n",
       "      <td>0</td>\n",
       "      <td>1</td>\n",
       "      <td>0</td>\n",
       "      <td>0</td>\n",
       "      <td>0</td>\n",
       "      <td>0</td>\n",
       "      <td>0</td>\n",
       "      <td>0</td>\n",
       "      <td>0</td>\n",
       "      <td>0</td>\n",
       "      <td>0</td>\n",
       "      <td>0</td>\n",
       "      <td>0</td>\n",
       "      <td>0</td>\n",
       "      <td>0</td>\n",
       "      <td>0</td>\n",
       "      <td>0</td>\n",
       "      <td>0</td>\n",
       "      <td>0</td>\n",
       "      <td>0</td>\n",
       "      <td>0</td>\n",
       "      <td>0</td>\n",
       "      <td>0</td>\n",
       "      <td>0</td>\n",
       "      <td>1</td>\n",
       "      <td>0</td>\n",
       "      <td>0</td>\n",
       "      <td>0</td>\n",
       "      <td>0</td>\n",
       "      <td>0</td>\n",
       "      <td>0</td>\n",
       "    </tr>\n",
       "    <tr>\n",
       "      <th>374</th>\n",
       "      <td>0</td>\n",
       "      <td>1</td>\n",
       "      <td>1</td>\n",
       "      <td>1</td>\n",
       "      <td>1</td>\n",
       "      <td>1</td>\n",
       "      <td>1</td>\n",
       "      <td>1</td>\n",
       "      <td>0</td>\n",
       "      <td>0</td>\n",
       "      <td>0</td>\n",
       "      <td>0</td>\n",
       "      <td>0</td>\n",
       "      <td>0</td>\n",
       "      <td>0</td>\n",
       "      <td>0</td>\n",
       "      <td>0</td>\n",
       "      <td>0</td>\n",
       "      <td>0</td>\n",
       "      <td>0</td>\n",
       "      <td>0</td>\n",
       "      <td>0</td>\n",
       "      <td>0</td>\n",
       "      <td>0</td>\n",
       "      <td>0</td>\n",
       "      <td>0</td>\n",
       "      <td>0</td>\n",
       "      <td>0</td>\n",
       "      <td>0</td>\n",
       "      <td>0</td>\n",
       "      <td>0</td>\n",
       "      <td>0</td>\n",
       "      <td>0</td>\n",
       "      <td>0</td>\n",
       "      <td>0</td>\n",
       "      <td>0</td>\n",
       "      <td>0</td>\n",
       "      <td>0</td>\n",
       "      <td>0</td>\n",
       "      <td>0</td>\n",
       "      <td>...</td>\n",
       "      <td>0</td>\n",
       "      <td>0</td>\n",
       "      <td>0</td>\n",
       "      <td>0</td>\n",
       "      <td>1</td>\n",
       "      <td>1</td>\n",
       "      <td>0</td>\n",
       "      <td>0</td>\n",
       "      <td>1</td>\n",
       "      <td>0</td>\n",
       "      <td>1</td>\n",
       "      <td>0</td>\n",
       "      <td>0</td>\n",
       "      <td>0</td>\n",
       "      <td>0</td>\n",
       "      <td>0</td>\n",
       "      <td>0</td>\n",
       "      <td>0</td>\n",
       "      <td>0</td>\n",
       "      <td>0</td>\n",
       "      <td>0</td>\n",
       "      <td>0</td>\n",
       "      <td>0</td>\n",
       "      <td>0</td>\n",
       "      <td>0</td>\n",
       "      <td>0</td>\n",
       "      <td>0</td>\n",
       "      <td>0</td>\n",
       "      <td>0</td>\n",
       "      <td>0</td>\n",
       "      <td>0</td>\n",
       "      <td>0</td>\n",
       "      <td>0</td>\n",
       "      <td>1</td>\n",
       "      <td>0</td>\n",
       "      <td>0</td>\n",
       "      <td>0</td>\n",
       "      <td>0</td>\n",
       "      <td>0</td>\n",
       "      <td>0</td>\n",
       "    </tr>\n",
       "    <tr>\n",
       "      <th>375</th>\n",
       "      <td>0</td>\n",
       "      <td>1</td>\n",
       "      <td>1</td>\n",
       "      <td>1</td>\n",
       "      <td>1</td>\n",
       "      <td>1</td>\n",
       "      <td>1</td>\n",
       "      <td>1</td>\n",
       "      <td>0</td>\n",
       "      <td>0</td>\n",
       "      <td>0</td>\n",
       "      <td>0</td>\n",
       "      <td>0</td>\n",
       "      <td>0</td>\n",
       "      <td>0</td>\n",
       "      <td>0</td>\n",
       "      <td>0</td>\n",
       "      <td>0</td>\n",
       "      <td>0</td>\n",
       "      <td>0</td>\n",
       "      <td>0</td>\n",
       "      <td>0</td>\n",
       "      <td>0</td>\n",
       "      <td>0</td>\n",
       "      <td>0</td>\n",
       "      <td>0</td>\n",
       "      <td>0</td>\n",
       "      <td>0</td>\n",
       "      <td>0</td>\n",
       "      <td>0</td>\n",
       "      <td>0</td>\n",
       "      <td>0</td>\n",
       "      <td>0</td>\n",
       "      <td>0</td>\n",
       "      <td>0</td>\n",
       "      <td>0</td>\n",
       "      <td>0</td>\n",
       "      <td>0</td>\n",
       "      <td>0</td>\n",
       "      <td>0</td>\n",
       "      <td>...</td>\n",
       "      <td>0</td>\n",
       "      <td>0</td>\n",
       "      <td>0</td>\n",
       "      <td>0</td>\n",
       "      <td>1</td>\n",
       "      <td>1</td>\n",
       "      <td>0</td>\n",
       "      <td>0</td>\n",
       "      <td>1</td>\n",
       "      <td>0</td>\n",
       "      <td>1</td>\n",
       "      <td>0</td>\n",
       "      <td>0</td>\n",
       "      <td>0</td>\n",
       "      <td>0</td>\n",
       "      <td>0</td>\n",
       "      <td>0</td>\n",
       "      <td>0</td>\n",
       "      <td>0</td>\n",
       "      <td>0</td>\n",
       "      <td>0</td>\n",
       "      <td>0</td>\n",
       "      <td>0</td>\n",
       "      <td>0</td>\n",
       "      <td>0</td>\n",
       "      <td>0</td>\n",
       "      <td>0</td>\n",
       "      <td>0</td>\n",
       "      <td>0</td>\n",
       "      <td>0</td>\n",
       "      <td>0</td>\n",
       "      <td>0</td>\n",
       "      <td>0</td>\n",
       "      <td>1</td>\n",
       "      <td>0</td>\n",
       "      <td>0</td>\n",
       "      <td>0</td>\n",
       "      <td>0</td>\n",
       "      <td>0</td>\n",
       "      <td>0</td>\n",
       "    </tr>\n",
       "    <tr>\n",
       "      <th>376</th>\n",
       "      <td>0</td>\n",
       "      <td>1</td>\n",
       "      <td>1</td>\n",
       "      <td>1</td>\n",
       "      <td>1</td>\n",
       "      <td>1</td>\n",
       "      <td>1</td>\n",
       "      <td>1</td>\n",
       "      <td>0</td>\n",
       "      <td>0</td>\n",
       "      <td>0</td>\n",
       "      <td>0</td>\n",
       "      <td>0</td>\n",
       "      <td>0</td>\n",
       "      <td>0</td>\n",
       "      <td>0</td>\n",
       "      <td>0</td>\n",
       "      <td>0</td>\n",
       "      <td>0</td>\n",
       "      <td>0</td>\n",
       "      <td>0</td>\n",
       "      <td>0</td>\n",
       "      <td>0</td>\n",
       "      <td>0</td>\n",
       "      <td>0</td>\n",
       "      <td>0</td>\n",
       "      <td>0</td>\n",
       "      <td>0</td>\n",
       "      <td>0</td>\n",
       "      <td>0</td>\n",
       "      <td>0</td>\n",
       "      <td>0</td>\n",
       "      <td>0</td>\n",
       "      <td>0</td>\n",
       "      <td>0</td>\n",
       "      <td>0</td>\n",
       "      <td>0</td>\n",
       "      <td>0</td>\n",
       "      <td>0</td>\n",
       "      <td>0</td>\n",
       "      <td>...</td>\n",
       "      <td>0</td>\n",
       "      <td>0</td>\n",
       "      <td>0</td>\n",
       "      <td>0</td>\n",
       "      <td>1</td>\n",
       "      <td>1</td>\n",
       "      <td>0</td>\n",
       "      <td>0</td>\n",
       "      <td>1</td>\n",
       "      <td>0</td>\n",
       "      <td>1</td>\n",
       "      <td>0</td>\n",
       "      <td>0</td>\n",
       "      <td>0</td>\n",
       "      <td>0</td>\n",
       "      <td>0</td>\n",
       "      <td>0</td>\n",
       "      <td>0</td>\n",
       "      <td>0</td>\n",
       "      <td>0</td>\n",
       "      <td>0</td>\n",
       "      <td>0</td>\n",
       "      <td>0</td>\n",
       "      <td>0</td>\n",
       "      <td>0</td>\n",
       "      <td>0</td>\n",
       "      <td>0</td>\n",
       "      <td>0</td>\n",
       "      <td>0</td>\n",
       "      <td>0</td>\n",
       "      <td>0</td>\n",
       "      <td>0</td>\n",
       "      <td>0</td>\n",
       "      <td>1</td>\n",
       "      <td>0</td>\n",
       "      <td>0</td>\n",
       "      <td>0</td>\n",
       "      <td>0</td>\n",
       "      <td>0</td>\n",
       "      <td>0</td>\n",
       "    </tr>\n",
       "    <tr>\n",
       "      <th>377</th>\n",
       "      <td>0</td>\n",
       "      <td>1</td>\n",
       "      <td>1</td>\n",
       "      <td>1</td>\n",
       "      <td>1</td>\n",
       "      <td>1</td>\n",
       "      <td>1</td>\n",
       "      <td>1</td>\n",
       "      <td>0</td>\n",
       "      <td>0</td>\n",
       "      <td>0</td>\n",
       "      <td>0</td>\n",
       "      <td>0</td>\n",
       "      <td>0</td>\n",
       "      <td>0</td>\n",
       "      <td>0</td>\n",
       "      <td>0</td>\n",
       "      <td>0</td>\n",
       "      <td>0</td>\n",
       "      <td>0</td>\n",
       "      <td>0</td>\n",
       "      <td>0</td>\n",
       "      <td>0</td>\n",
       "      <td>0</td>\n",
       "      <td>0</td>\n",
       "      <td>0</td>\n",
       "      <td>0</td>\n",
       "      <td>0</td>\n",
       "      <td>0</td>\n",
       "      <td>0</td>\n",
       "      <td>0</td>\n",
       "      <td>0</td>\n",
       "      <td>0</td>\n",
       "      <td>0</td>\n",
       "      <td>0</td>\n",
       "      <td>0</td>\n",
       "      <td>0</td>\n",
       "      <td>0</td>\n",
       "      <td>0</td>\n",
       "      <td>0</td>\n",
       "      <td>...</td>\n",
       "      <td>0</td>\n",
       "      <td>0</td>\n",
       "      <td>0</td>\n",
       "      <td>0</td>\n",
       "      <td>1</td>\n",
       "      <td>1</td>\n",
       "      <td>0</td>\n",
       "      <td>0</td>\n",
       "      <td>1</td>\n",
       "      <td>0</td>\n",
       "      <td>1</td>\n",
       "      <td>0</td>\n",
       "      <td>0</td>\n",
       "      <td>0</td>\n",
       "      <td>0</td>\n",
       "      <td>0</td>\n",
       "      <td>0</td>\n",
       "      <td>0</td>\n",
       "      <td>0</td>\n",
       "      <td>0</td>\n",
       "      <td>0</td>\n",
       "      <td>0</td>\n",
       "      <td>0</td>\n",
       "      <td>0</td>\n",
       "      <td>0</td>\n",
       "      <td>0</td>\n",
       "      <td>0</td>\n",
       "      <td>0</td>\n",
       "      <td>0</td>\n",
       "      <td>0</td>\n",
       "      <td>0</td>\n",
       "      <td>0</td>\n",
       "      <td>0</td>\n",
       "      <td>1</td>\n",
       "      <td>0</td>\n",
       "      <td>0</td>\n",
       "      <td>0</td>\n",
       "      <td>0</td>\n",
       "      <td>0</td>\n",
       "      <td>0</td>\n",
       "    </tr>\n",
       "  </tbody>\n",
       "</table>\n",
       "<p>378 rows × 5205 columns</p>\n",
       "</div>"
      ],
      "text/plain": [
       "     0     1     2     3     4     5     ...  5199  5200  5201  5202  5203  5204\n",
       "0       3     1     1     1     1     1  ...     0     0     0     0     0     0\n",
       "1       3     1     1     1     1     1  ...     0     0     0     0     0     0\n",
       "2       3     1     1     1     0     1  ...     0     0     0     0     0     0\n",
       "3       3     1     0     0     0     0  ...     0     0     0     0     0     0\n",
       "4       3     1     1     1     1     1  ...     0     0     0     0     0     0\n",
       "..    ...   ...   ...   ...   ...   ...  ...   ...   ...   ...   ...   ...   ...\n",
       "373     0     1     1     1     1     1  ...     0     0     0     0     0     0\n",
       "374     0     1     1     1     1     1  ...     0     0     0     0     0     0\n",
       "375     0     1     1     1     1     1  ...     0     0     0     0     0     0\n",
       "376     0     1     1     1     1     1  ...     0     0     0     0     0     0\n",
       "377     0     1     1     1     1     1  ...     0     0     0     0     0     0\n",
       "\n",
       "[378 rows x 5205 columns]"
      ]
     },
     "metadata": {
      "tags": []
     },
     "execution_count": 6
    }
   ]
  },
  {
   "cell_type": "code",
   "metadata": {
    "id": "W9vigN2UCjZe",
    "executionInfo": {
     "status": "ok",
     "timestamp": 1606253957578,
     "user_tz": -60,
     "elapsed": 648,
     "user": {
      "displayName": "Daniel Gómez",
      "photoUrl": "https://lh3.googleusercontent.com/a-/AOh14GjjGG1-9QcFVqTiC1A2xbXl7B28fL-MBhUTYRio9A=s64",
      "userId": "14778609337782300534"
     }
    }
   },
   "source": [
    "y = X.iloc[:,0]"
   ],
   "execution_count": 7,
   "outputs": []
  },
  {
   "cell_type": "code",
   "metadata": {
    "id": "MX17g0DwCjZe",
    "executionInfo": {
     "status": "ok",
     "timestamp": 1606253957866,
     "user_tz": -60,
     "elapsed": 453,
     "user": {
      "displayName": "Daniel Gómez",
      "photoUrl": "https://lh3.googleusercontent.com/a-/AOh14GjjGG1-9QcFVqTiC1A2xbXl7B28fL-MBhUTYRio9A=s64",
      "userId": "14778609337782300534"
     }
    }
   },
   "source": [
    "X = X.iloc[:,1:]"
   ],
   "execution_count": 8,
   "outputs": []
  },
  {
   "cell_type": "code",
   "metadata": {
    "id": "_0w_hlb8CjZe",
    "executionInfo": {
     "status": "ok",
     "timestamp": 1606253958626,
     "user_tz": -60,
     "elapsed": 826,
     "user": {
      "displayName": "Daniel Gómez",
      "photoUrl": "https://lh3.googleusercontent.com/a-/AOh14GjjGG1-9QcFVqTiC1A2xbXl7B28fL-MBhUTYRio9A=s64",
      "userId": "14778609337782300534"
     }
    }
   },
   "source": [
    "y = np.array(y)"
   ],
   "execution_count": 9,
   "outputs": []
  },
  {
   "cell_type": "code",
   "metadata": {
    "id": "E9xtNsRcCjZe",
    "executionInfo": {
     "status": "ok",
     "timestamp": 1606253958928,
     "user_tz": -60,
     "elapsed": 697,
     "user": {
      "displayName": "Daniel Gómez",
      "photoUrl": "https://lh3.googleusercontent.com/a-/AOh14GjjGG1-9QcFVqTiC1A2xbXl7B28fL-MBhUTYRio9A=s64",
      "userId": "14778609337782300534"
     }
    }
   },
   "source": [
    "X = X.values"
   ],
   "execution_count": 10,
   "outputs": []
  },
  {
   "cell_type": "code",
   "metadata": {
    "id": "XKlTI0tiCjZe",
    "colab": {
     "base_uri": "https://localhost:8080/"
    },
    "executionInfo": {
     "status": "ok",
     "timestamp": 1606253959233,
     "user_tz": -60,
     "elapsed": 520,
     "user": {
      "displayName": "Daniel Gómez",
      "photoUrl": "https://lh3.googleusercontent.com/a-/AOh14GjjGG1-9QcFVqTiC1A2xbXl7B28fL-MBhUTYRio9A=s64",
      "userId": "14778609337782300534"
     }
    },
    "outputId": "e0d209bb-e3c3-457f-f715-b496c8c44e24"
   },
   "source": [
    "X.shape"
   ],
   "execution_count": 11,
   "outputs": [
    {
     "output_type": "execute_result",
     "data": {
      "text/plain": [
       "(378, 5204)"
      ]
     },
     "metadata": {
      "tags": []
     },
     "execution_count": 11
    }
   ]
  },
  {
   "cell_type": "code",
   "metadata": {
    "id": "42hBHR2kCjZi",
    "executionInfo": {
     "status": "ok",
     "timestamp": 1606253959780,
     "user_tz": -60,
     "elapsed": 437,
     "user": {
      "displayName": "Daniel Gómez",
      "photoUrl": "https://lh3.googleusercontent.com/a-/AOh14GjjGG1-9QcFVqTiC1A2xbXl7B28fL-MBhUTYRio9A=s64",
      "userId": "14778609337782300534"
     }
    }
   },
   "source": [
    "X_train, X_test, y_train, y_test = train_test_split(X,y,train_size=0.8)"
   ],
   "execution_count": 12,
   "outputs": []
  },
  {
   "cell_type": "code",
   "metadata": {
    "id": "5Yux1PZkCjZj",
    "executionInfo": {
     "status": "ok",
     "timestamp": 1606253964676,
     "user_tz": -60,
     "elapsed": 857,
     "user": {
      "displayName": "Daniel Gómez",
      "photoUrl": "https://lh3.googleusercontent.com/a-/AOh14GjjGG1-9QcFVqTiC1A2xbXl7B28fL-MBhUTYRio9A=s64",
      "userId": "14778609337782300534"
     }
    }
   },
   "source": [
    "X_test, X_valid, y_test, y_valid = train_test_split(X_test, y_test, test_size=0.5)"
   ],
   "execution_count": 13,
   "outputs": []
  },
  {
   "cell_type": "code",
   "metadata": {
    "id": "N9YnvwEpCjZj",
    "executionInfo": {
     "status": "ok",
     "timestamp": 1606253965860,
     "user_tz": -60,
     "elapsed": 543,
     "user": {
      "displayName": "Daniel Gómez",
      "photoUrl": "https://lh3.googleusercontent.com/a-/AOh14GjjGG1-9QcFVqTiC1A2xbXl7B28fL-MBhUTYRio9A=s64",
      "userId": "14778609337782300534"
     }
    }
   },
   "source": [
    "def model_builder(hp):\n",
    "  model = keras.Sequential()\n",
    "  model.add(keras.layers.Dense(5204))\n",
    "  \n",
    "  # Tune the number of units in the first Dense layer\n",
    "  # Choose an optimal value between 32-512\n",
    "  model.add(keras.layers.Dense(units = hp.Int('u1', min_value = 32, max_value = 512, step = 32),\n",
    "                               activation=hp.Choice(name='a_1',\n",
    "                               values=['relu','elu','selu'])))\n",
    "  model.add(keras.layers.Dense(units = hp.Int('u2', min_value = 32, max_value = 512, step = 32),\n",
    "                               activation=hp.Choice(name='a_2',\n",
    "                               values=['relu','elu','selu'])))\n",
    "  model.add(keras.layers.Dense(4,activation='softmax'))\n",
    "\n",
    "  # Tune the learning rate for the optimizer \n",
    "  hp_learning_rate = hp.Choice('learning_rate', values = [1e-3,1e-4, 1e-5]) \n",
    "  \n",
    "  model.compile(optimizer = keras.optimizers.Adam(learning_rate = hp_learning_rate),\n",
    "                loss = keras.losses.SparseCategoricalCrossentropy(from_logits = True), \n",
    "                metrics = ['accuracy'])\n",
    "  \n",
    "  return model"
   ],
   "execution_count": 14,
   "outputs": []
  },
  {
   "cell_type": "code",
   "metadata": {
    "id": "TkVSdT33CjZj",
    "executionInfo": {
     "status": "ok",
     "timestamp": 1606253968763,
     "user_tz": -60,
     "elapsed": 775,
     "user": {
      "displayName": "Daniel Gómez",
      "photoUrl": "https://lh3.googleusercontent.com/a-/AOh14GjjGG1-9QcFVqTiC1A2xbXl7B28fL-MBhUTYRio9A=s64",
      "userId": "14778609337782300534"
     }
    }
   },
   "source": [
    "tuner = kt.Hyperband(model_builder,\n",
    "                     objective = 'val_accuracy', \n",
    "                     max_epochs = 40,\n",
    "                     factor = 3,\n",
    "                     directory = 'tuner',\n",
    "                     project_name = 'hyperband_test')                       "
   ],
   "execution_count": 15,
   "outputs": []
  },
  {
   "cell_type": "code",
   "metadata": {
    "id": "odx9YO9lCjZj",
    "executionInfo": {
     "status": "ok",
     "timestamp": 1606253970709,
     "user_tz": -60,
     "elapsed": 1011,
     "user": {
      "displayName": "Daniel Gómez",
      "photoUrl": "https://lh3.googleusercontent.com/a-/AOh14GjjGG1-9QcFVqTiC1A2xbXl7B28fL-MBhUTYRio9A=s64",
      "userId": "14778609337782300534"
     }
    }
   },
   "source": [
    "class ClearTrainingOutput(tf.keras.callbacks.Callback):\n",
    "  def on_train_end(*args, **kwargs):\n",
    "    IPython.display.clear_output(wait = True)"
   ],
   "execution_count": 16,
   "outputs": []
  },
  {
   "cell_type": "code",
   "metadata": {
    "id": "1nG7sWTwCjZj",
    "colab": {
     "base_uri": "https://localhost:8080/"
    },
    "executionInfo": {
     "status": "ok",
     "timestamp": 1606255628536,
     "user_tz": -60,
     "elapsed": 1657383,
     "user": {
      "displayName": "Daniel Gómez",
      "photoUrl": "https://lh3.googleusercontent.com/a-/AOh14GjjGG1-9QcFVqTiC1A2xbXl7B28fL-MBhUTYRio9A=s64",
      "userId": "14778609337782300534"
     }
    },
    "outputId": "f323bfaa-1fc9-47ff-9291-9b0bd2e42266"
   },
   "source": [
    "tuner.search(X_train, y_train, epochs = 40, \n",
    "             validation_data = (X_valid, y_valid), callbacks = [ClearTrainingOutput()])\n",
    "\n",
    "# Get the optimal hyperparameters\n",
    "best_hps = tuner.get_best_hyperparameters(num_trials = 1)[0]"
   ],
   "execution_count": 17,
   "outputs": [
    {
     "output_type": "stream",
     "text": [
      "Trial 90 Complete [00h 01m 18s]\n",
      "val_accuracy: 0.5263158082962036\n",
      "\n",
      "Best val_accuracy So Far: 0.9210526347160339\n",
      "Total elapsed time: 00h 27m 36s\n",
      "INFO:tensorflow:Oracle triggered exit\n"
     ],
     "name": "stdout"
    }
   ]
  },
  {
   "cell_type": "code",
   "metadata": {
    "id": "vOkCT4RpCjZj",
    "colab": {
     "base_uri": "https://localhost:8080/"
    },
    "executionInfo": {
     "status": "ok",
     "timestamp": 1606255699869,
     "user_tz": -60,
     "elapsed": 1723125,
     "user": {
      "displayName": "Daniel Gómez",
      "photoUrl": "https://lh3.googleusercontent.com/a-/AOh14GjjGG1-9QcFVqTiC1A2xbXl7B28fL-MBhUTYRio9A=s64",
      "userId": "14778609337782300534"
     }
    },
    "outputId": "2722d6d3-6302-42e7-a4fa-8118abf954c1"
   },
   "source": [
    "# Build the model with the optimal hyperparameters and train it on the data\n",
    "model = tuner.hypermodel.build(best_hps)\n",
    "history = model.fit(X_train, y_train, epochs = 40, validation_data = (X_valid, y_valid))"
   ],
   "execution_count": 18,
   "outputs": [
    {
     "output_type": "stream",
     "text": [
      "Epoch 1/40\n",
      "10/10 [==============================] - 2s 170ms/step - loss: 1.2312 - accuracy: 0.5033 - val_loss: 1.1528 - val_accuracy: 0.6842\n",
      "Epoch 2/40\n",
      "10/10 [==============================] - 2s 158ms/step - loss: 1.1111 - accuracy: 0.6192 - val_loss: 1.1330 - val_accuracy: 0.5526\n",
      "Epoch 3/40\n",
      "10/10 [==============================] - 2s 158ms/step - loss: 1.0776 - accuracy: 0.6689 - val_loss: 1.0913 - val_accuracy: 0.6842\n",
      "Epoch 4/40\n",
      "10/10 [==============================] - 2s 158ms/step - loss: 1.0625 - accuracy: 0.6987 - val_loss: 1.0793 - val_accuracy: 0.6842\n",
      "Epoch 5/40\n",
      "10/10 [==============================] - 2s 157ms/step - loss: 1.0409 - accuracy: 0.7318 - val_loss: 1.0926 - val_accuracy: 0.6579\n",
      "Epoch 6/40\n",
      "10/10 [==============================] - 2s 158ms/step - loss: 1.0294 - accuracy: 0.7483 - val_loss: 1.0995 - val_accuracy: 0.6053\n",
      "Epoch 7/40\n",
      "10/10 [==============================] - 2s 159ms/step - loss: 1.0261 - accuracy: 0.7384 - val_loss: 1.0779 - val_accuracy: 0.6842\n",
      "Epoch 8/40\n",
      "10/10 [==============================] - 2s 158ms/step - loss: 1.0151 - accuracy: 0.7450 - val_loss: 1.0620 - val_accuracy: 0.6842\n",
      "Epoch 9/40\n",
      "10/10 [==============================] - 2s 156ms/step - loss: 1.0120 - accuracy: 0.7517 - val_loss: 1.0611 - val_accuracy: 0.6842\n",
      "Epoch 10/40\n",
      "10/10 [==============================] - 2s 155ms/step - loss: 1.0027 - accuracy: 0.7550 - val_loss: 1.0643 - val_accuracy: 0.6842\n",
      "Epoch 11/40\n",
      "10/10 [==============================] - 2s 161ms/step - loss: 0.9979 - accuracy: 0.7583 - val_loss: 1.0558 - val_accuracy: 0.6842\n",
      "Epoch 12/40\n",
      "10/10 [==============================] - 2s 154ms/step - loss: 0.9914 - accuracy: 0.7583 - val_loss: 1.0436 - val_accuracy: 0.6842\n",
      "Epoch 13/40\n",
      "10/10 [==============================] - 2s 158ms/step - loss: 0.9831 - accuracy: 0.7848 - val_loss: 1.0226 - val_accuracy: 0.7368\n",
      "Epoch 14/40\n",
      "10/10 [==============================] - 2s 156ms/step - loss: 0.9643 - accuracy: 0.8079 - val_loss: 1.0075 - val_accuracy: 0.7895\n",
      "Epoch 15/40\n",
      "10/10 [==============================] - 2s 163ms/step - loss: 0.9532 - accuracy: 0.8377 - val_loss: 0.9962 - val_accuracy: 0.7895\n",
      "Epoch 16/40\n",
      "10/10 [==============================] - 2s 155ms/step - loss: 0.9332 - accuracy: 0.8543 - val_loss: 0.9782 - val_accuracy: 0.7895\n",
      "Epoch 17/40\n",
      "10/10 [==============================] - 2s 159ms/step - loss: 0.9256 - accuracy: 0.8576 - val_loss: 0.9969 - val_accuracy: 0.7895\n",
      "Epoch 18/40\n",
      "10/10 [==============================] - 2s 155ms/step - loss: 0.9208 - accuracy: 0.8510 - val_loss: 0.9773 - val_accuracy: 0.7368\n",
      "Epoch 19/40\n",
      "10/10 [==============================] - 2s 158ms/step - loss: 0.9177 - accuracy: 0.8444 - val_loss: 0.9639 - val_accuracy: 0.7895\n",
      "Epoch 20/40\n",
      "10/10 [==============================] - 2s 156ms/step - loss: 0.9061 - accuracy: 0.8642 - val_loss: 0.9749 - val_accuracy: 0.7895\n",
      "Epoch 21/40\n",
      "10/10 [==============================] - 2s 156ms/step - loss: 0.9024 - accuracy: 0.8642 - val_loss: 0.9751 - val_accuracy: 0.7895\n",
      "Epoch 22/40\n",
      "10/10 [==============================] - 2s 157ms/step - loss: 0.8989 - accuracy: 0.8609 - val_loss: 0.9651 - val_accuracy: 0.7895\n",
      "Epoch 23/40\n",
      "10/10 [==============================] - 2s 158ms/step - loss: 0.8976 - accuracy: 0.8609 - val_loss: 0.9635 - val_accuracy: 0.7895\n",
      "Epoch 24/40\n",
      "10/10 [==============================] - 2s 156ms/step - loss: 0.8990 - accuracy: 0.8576 - val_loss: 0.9627 - val_accuracy: 0.7895\n",
      "Epoch 25/40\n",
      "10/10 [==============================] - 2s 162ms/step - loss: 0.8900 - accuracy: 0.8675 - val_loss: 0.9599 - val_accuracy: 0.7895\n",
      "Epoch 26/40\n",
      "10/10 [==============================] - 2s 165ms/step - loss: 0.8833 - accuracy: 0.8642 - val_loss: 0.9190 - val_accuracy: 0.8158\n",
      "Epoch 27/40\n",
      "10/10 [==============================] - 2s 156ms/step - loss: 0.8753 - accuracy: 0.9238 - val_loss: 0.9460 - val_accuracy: 0.7895\n",
      "Epoch 28/40\n",
      "10/10 [==============================] - 2s 158ms/step - loss: 0.8630 - accuracy: 0.9007 - val_loss: 0.8785 - val_accuracy: 0.9474\n",
      "Epoch 29/40\n",
      "10/10 [==============================] - 2s 157ms/step - loss: 0.8328 - accuracy: 0.9702 - val_loss: 0.8709 - val_accuracy: 0.9211\n",
      "Epoch 30/40\n",
      "10/10 [==============================] - 2s 157ms/step - loss: 0.8194 - accuracy: 0.9669 - val_loss: 0.8762 - val_accuracy: 0.9211\n",
      "Epoch 31/40\n",
      "10/10 [==============================] - 2s 156ms/step - loss: 0.8165 - accuracy: 0.9702 - val_loss: 0.8582 - val_accuracy: 0.9211\n",
      "Epoch 32/40\n",
      "10/10 [==============================] - 2s 159ms/step - loss: 0.8105 - accuracy: 0.9735 - val_loss: 0.8556 - val_accuracy: 0.9474\n",
      "Epoch 33/40\n",
      "10/10 [==============================] - 2s 154ms/step - loss: 0.7990 - accuracy: 0.9636 - val_loss: 0.8416 - val_accuracy: 0.9474\n",
      "Epoch 34/40\n",
      "10/10 [==============================] - 2s 156ms/step - loss: 0.7947 - accuracy: 0.9901 - val_loss: 0.8536 - val_accuracy: 0.9211\n",
      "Epoch 35/40\n",
      "10/10 [==============================] - 2s 158ms/step - loss: 0.7962 - accuracy: 0.9834 - val_loss: 0.8537 - val_accuracy: 0.9211\n",
      "Epoch 36/40\n",
      "10/10 [==============================] - 2s 156ms/step - loss: 0.7909 - accuracy: 0.9834 - val_loss: 0.8304 - val_accuracy: 0.9474\n",
      "Epoch 37/40\n",
      "10/10 [==============================] - 2s 159ms/step - loss: 0.7839 - accuracy: 0.9901 - val_loss: 0.8393 - val_accuracy: 0.9474\n",
      "Epoch 38/40\n",
      "10/10 [==============================] - 2s 157ms/step - loss: 0.7803 - accuracy: 0.9901 - val_loss: 0.8302 - val_accuracy: 0.9474\n",
      "Epoch 39/40\n",
      "10/10 [==============================] - 2s 160ms/step - loss: 0.7788 - accuracy: 0.9967 - val_loss: 0.8390 - val_accuracy: 0.9474\n",
      "Epoch 40/40\n",
      "10/10 [==============================] - 2s 157ms/step - loss: 0.7768 - accuracy: 0.9967 - val_loss: 0.8336 - val_accuracy: 0.9474\n"
     ],
     "name": "stdout"
    }
   ]
  },
  {
   "cell_type": "code",
   "metadata": {
    "id": "i1dZuFHeCjZk",
    "colab": {
     "base_uri": "https://localhost:8080/"
    },
    "executionInfo": {
     "status": "ok",
     "timestamp": 1606255852120,
     "user_tz": -60,
     "elapsed": 753,
     "user": {
      "displayName": "Daniel Gómez",
      "photoUrl": "https://lh3.googleusercontent.com/a-/AOh14GjjGG1-9QcFVqTiC1A2xbXl7B28fL-MBhUTYRio9A=s64",
      "userId": "14778609337782300534"
     }
    },
    "outputId": "decbdffe-35d2-4f96-c191-715d992a2886"
   },
   "source": [
    "model.summary()"
   ],
   "execution_count": 20,
   "outputs": [
    {
     "output_type": "stream",
     "text": [
      "Model: \"sequential\"\n",
      "_________________________________________________________________\n",
      "Layer (type)                 Output Shape              Param #   \n",
      "=================================================================\n",
      "dense (Dense)                (None, 5204)              27086820  \n",
      "_________________________________________________________________\n",
      "dense_1 (Dense)              (None, 96)                499680    \n",
      "_________________________________________________________________\n",
      "dense_2 (Dense)              (None, 160)               15520     \n",
      "_________________________________________________________________\n",
      "dense_3 (Dense)              (None, 4)                 644       \n",
      "=================================================================\n",
      "Total params: 27,602,664\n",
      "Trainable params: 27,602,664\n",
      "Non-trainable params: 0\n",
      "_________________________________________________________________\n"
     ],
     "name": "stdout"
    }
   ]
  },
  {
   "cell_type": "code",
   "metadata": {
    "id": "FuI_X_CcCjZl",
    "colab": {
     "base_uri": "https://localhost:8080/"
    },
    "executionInfo": {
     "status": "ok",
     "timestamp": 1606255858680,
     "user_tz": -60,
     "elapsed": 887,
     "user": {
      "displayName": "Daniel Gómez",
      "photoUrl": "https://lh3.googleusercontent.com/a-/AOh14GjjGG1-9QcFVqTiC1A2xbXl7B28fL-MBhUTYRio9A=s64",
      "userId": "14778609337782300534"
     }
    },
    "outputId": "d5d3b80f-82ca-4dde-d1c0-c03f4d21efbf"
   },
   "source": [
    "results = model.evaluate(X_test, y_test)"
   ],
   "execution_count": 21,
   "outputs": [
    {
     "output_type": "stream",
     "text": [
      "2/2 [==============================] - 0s 17ms/step - loss: 0.8097 - accuracy: 0.9737\n"
     ],
     "name": "stdout"
    }
   ]
  },
  {
   "cell_type": "code",
   "metadata": {
    "id": "K0oC8WLrCjZl",
    "executionInfo": {
     "status": "ok",
     "timestamp": 1606255871712,
     "user_tz": -60,
     "elapsed": 2192,
     "user": {
      "displayName": "Daniel Gómez",
      "photoUrl": "https://lh3.googleusercontent.com/a-/AOh14GjjGG1-9QcFVqTiC1A2xbXl7B28fL-MBhUTYRio9A=s64",
      "userId": "14778609337782300534"
     }
    }
   },
   "source": [
    "model.save(\"lspred_24_11_20.h5\")"
   ],
   "execution_count": 23,
   "outputs": []
  },
  {
   "cell_type": "markdown",
   "metadata": {
    "pycharm": {
     "name": "#%% md\n"
    },
    "id": "qH1xGf5vCjZl"
   },
   "source": [
    "## Stats"
   ]
  },
  {
   "cell_type": "code",
   "metadata": {
    "id": "Hx-yEAofCjZl",
    "colab": {
     "base_uri": "https://localhost:8080/"
    },
    "executionInfo": {
     "status": "ok",
     "timestamp": 1606255878848,
     "user_tz": -60,
     "elapsed": 747,
     "user": {
      "displayName": "Daniel Gómez",
      "photoUrl": "https://lh3.googleusercontent.com/a-/AOh14GjjGG1-9QcFVqTiC1A2xbXl7B28fL-MBhUTYRio9A=s64",
      "userId": "14778609337782300534"
     }
    },
    "outputId": "223f00b0-2651-4ca9-dc61-3c605fbc36cb"
   },
   "source": [
    "history_dict = history.history\n",
    "history_dict.keys()"
   ],
   "execution_count": 24,
   "outputs": [
    {
     "output_type": "execute_result",
     "data": {
      "text/plain": [
       "dict_keys(['loss', 'accuracy', 'val_loss', 'val_accuracy'])"
      ]
     },
     "metadata": {
      "tags": []
     },
     "execution_count": 24
    }
   ]
  },
  {
   "cell_type": "code",
   "metadata": {
    "pycharm": {
     "name": "#%%\n"
    },
    "id": "GfzN_W8QCjZl",
    "colab": {
     "base_uri": "https://localhost:8080/",
     "height": 295
    },
    "executionInfo": {
     "status": "ok",
     "timestamp": 1606255880039,
     "user_tz": -60,
     "elapsed": 1324,
     "user": {
      "displayName": "Daniel Gómez",
      "photoUrl": "https://lh3.googleusercontent.com/a-/AOh14GjjGG1-9QcFVqTiC1A2xbXl7B28fL-MBhUTYRio9A=s64",
      "userId": "14778609337782300534"
     }
    },
    "outputId": "69dc1302-67ae-4d82-8bbf-fa7547a8bfa5"
   },
   "source": [
    "acc = history_dict['accuracy']\n",
    "val_acc = history_dict['val_accuracy']\n",
    "loss = history_dict['loss']\n",
    "val_loss = history_dict['val_loss']\n",
    "\n",
    "epochs = range(1, len(acc) + 1)\n",
    "\n",
    "# \"bo\" is for \"blue dot\"\n",
    "plt.plot(epochs, loss, 'bo', label='Training loss')\n",
    "# b is for \"solid blue line\"\n",
    "plt.plot(epochs, val_loss, 'b', label='Validation loss')\n",
    "plt.title('Training and validation loss')\n",
    "plt.xlabel('Epochs')\n",
    "plt.ylabel('Loss')\n",
    "plt.legend()\n",
    "\n",
    "plt.show()"
   ],
   "execution_count": 25,
   "outputs": [
    {
     "output_type": "display_data",
     "data": {
      "image/png": "[encoded data removed]",
      "text/plain": [
       "<Figure size 432x288 with 1 Axes>"
      ]
     },
     "metadata": {
      "tags": [],
      "needs_background": "light"
     }
    }
   ]
  },
  {
   "cell_type": "code",
   "metadata": {
    "id": "EJgnu-TICjZl",
    "colab": {
     "base_uri": "https://localhost:8080/",
     "height": 295
    },
    "executionInfo": {
     "status": "ok",
     "timestamp": 1606255881002,
     "user_tz": -60,
     "elapsed": 1405,
     "user": {
      "displayName": "Daniel Gómez",
      "photoUrl": "https://lh3.googleusercontent.com/a-/AOh14GjjGG1-9QcFVqTiC1A2xbXl7B28fL-MBhUTYRio9A=s64",
      "userId": "14778609337782300534"
     }
    },
    "outputId": "94635567-7732-4882-8435-abf3ba1c93c8"
   },
   "source": [
    "plt.clf()   # clear figure\n",
    "\n",
    "plt.plot(epochs, acc, 'bo', label='Training acc')\n",
    "plt.plot(epochs, val_acc, 'b', label='Validation acc')\n",
    "plt.title('Training and validation accuracy')\n",
    "plt.xlabel('Epochs')\n",
    "plt.ylabel('Accuracy')\n",
    "plt.legend()\n",
    "\n",
    "plt.show()"
   ],
   "execution_count": 26,
   "outputs": [
    {
     "output_type": "display_data",
     "data": {
      "image/png": "[encoded data removed]",
      "text/plain": [
       "<Figure size 432x288 with 1 Axes>"
      ]
     },
     "metadata": {
      "tags": [],
      "needs_background": "light"
     }
    }
   ]
  },
  {
   "cell_type": "code",
   "metadata": {
    "id": "92sONhVLCjZl",
    "executionInfo": {
     "status": "ok",
     "timestamp": 1606255881444,
     "user_tz": -60,
     "elapsed": 992,
     "user": {
      "displayName": "Daniel Gómez",
      "photoUrl": "https://lh3.googleusercontent.com/a-/AOh14GjjGG1-9QcFVqTiC1A2xbXl7B28fL-MBhUTYRio9A=s64",
      "userId": "14778609337782300534"
     }
    }
   },
   "source": [
    "from sklearn.metrics import confusion_matrix\n"
   ],
   "execution_count": 27,
   "outputs": []
  },
  {
   "cell_type": "code",
   "metadata": {
    "id": "z9jqhLhzCjZl",
    "executionInfo": {
     "status": "ok",
     "timestamp": 1606255883537,
     "user_tz": -60,
     "elapsed": 919,
     "user": {
      "displayName": "Daniel Gómez",
      "photoUrl": "https://lh3.googleusercontent.com/a-/AOh14GjjGG1-9QcFVqTiC1A2xbXl7B28fL-MBhUTYRio9A=s64",
      "userId": "14778609337782300534"
     }
    }
   },
   "source": [
    "predictions = model.predict(\n",
    "      x=X_test\n",
    "    , batch_size=10\n",
    "    , verbose=0\n",
    ")  "
   ],
   "execution_count": 28,
   "outputs": []
  },
  {
   "cell_type": "code",
   "metadata": {
    "id": "pzwdjHhOCjZm",
    "executionInfo": {
     "status": "ok",
     "timestamp": 1606255885686,
     "user_tz": -60,
     "elapsed": 880,
     "user": {
      "displayName": "Daniel Gómez",
      "photoUrl": "https://lh3.googleusercontent.com/a-/AOh14GjjGG1-9QcFVqTiC1A2xbXl7B28fL-MBhUTYRio9A=s64",
      "userId": "14778609337782300534"
     }
    }
   },
   "source": [
    "rounded_predictions = np.argmax(predictions, axis=-1)\n"
   ],
   "execution_count": 29,
   "outputs": []
  },
  {
   "cell_type": "code",
   "metadata": {
    "id": "AaN_TbFJCjZm",
    "executionInfo": {
     "status": "ok",
     "timestamp": 1606255888270,
     "user_tz": -60,
     "elapsed": 752,
     "user": {
      "displayName": "Daniel Gómez",
      "photoUrl": "https://lh3.googleusercontent.com/a-/AOh14GjjGG1-9QcFVqTiC1A2xbXl7B28fL-MBhUTYRio9A=s64",
      "userId": "14778609337782300534"
     }
    }
   },
   "source": [
    "cm = confusion_matrix(y_true=y_test, y_pred=rounded_predictions)\n"
   ],
   "execution_count": 30,
   "outputs": []
  },
  {
   "cell_type": "code",
   "metadata": {
    "id": "DxU_nNL2CjZm",
    "executionInfo": {
     "status": "ok",
     "timestamp": 1606255889831,
     "user_tz": -60,
     "elapsed": 1258,
     "user": {
      "displayName": "Daniel Gómez",
      "photoUrl": "https://lh3.googleusercontent.com/a-/AOh14GjjGG1-9QcFVqTiC1A2xbXl7B28fL-MBhUTYRio9A=s64",
      "userId": "14778609337782300534"
     }
    }
   },
   "source": [
    "def plot_confusion_matrix(cm, classes,\n",
    "                        normalize=False,\n",
    "                        title='Confusion matrix',\n",
    "                        cmap=plt.cm.Blues):\n",
    "    \"\"\"\n",
    "    This function prints and plots the confusion matrix.\n",
    "    Normalization can be applied by setting `normalize=True`.\n",
    "    \"\"\"\n",
    "    plt.imshow(cm, interpolation='nearest', cmap=cmap)\n",
    "    plt.title(title)\n",
    "    plt.colorbar()\n",
    "    tick_marks = np.arange(len(classes))\n",
    "    plt.xticks(tick_marks, classes, rotation=45)\n",
    "    plt.yticks(tick_marks, classes)\n",
    "\n",
    "    if normalize:\n",
    "        cm = cm.astype('float') / cm.sum(axis=1)[:, np.newaxis]\n",
    "        print(\"Normalized confusion matrix\")\n",
    "    else:\n",
    "        print('Confusion matrix, without normalization')\n",
    "\n",
    "    print(cm)\n",
    "\n",
    "    thresh = cm.max() / 2.\n",
    "    for i, j in itertools.product(range(cm.shape[0]), range(cm.shape[1])):\n",
    "        plt.text(j, i, cm[i, j],\n",
    "            horizontalalignment=\"center\",\n",
    "            color=\"white\" if cm[i, j] > thresh else \"black\")\n",
    "\n",
    "    plt.tight_layout()\n",
    "    plt.ylabel('True label')\n",
    "    plt.xlabel('Predicted label')"
   ],
   "execution_count": 31,
   "outputs": []
  },
  {
   "cell_type": "code",
   "metadata": {
    "id": "O2yXSP1GCjZm",
    "executionInfo": {
     "status": "ok",
     "timestamp": 1606255889831,
     "user_tz": -60,
     "elapsed": 606,
     "user": {
      "displayName": "Daniel Gómez",
      "photoUrl": "https://lh3.googleusercontent.com/a-/AOh14GjjGG1-9QcFVqTiC1A2xbXl7B28fL-MBhUTYRio9A=s64",
      "userId": "14778609337782300534"
     }
    }
   },
   "source": [
    "cm_plot_labels = ['saprotroph','necrotroph','hemibiotroph','biotroph']\n"
   ],
   "execution_count": 32,
   "outputs": []
  },
  {
   "cell_type": "code",
   "metadata": {
    "id": "CEjEN_n2CjZm",
    "executionInfo": {
     "status": "ok",
     "timestamp": 1606255890278,
     "user_tz": -60,
     "elapsed": 540,
     "user": {
      "displayName": "Daniel Gómez",
      "photoUrl": "https://lh3.googleusercontent.com/a-/AOh14GjjGG1-9QcFVqTiC1A2xbXl7B28fL-MBhUTYRio9A=s64",
      "userId": "14778609337782300534"
     }
    }
   },
   "source": [
    "import itertools"
   ],
   "execution_count": 33,
   "outputs": []
  },
  {
   "cell_type": "code",
   "metadata": {
    "pycharm": {
     "name": "#%%\n"
    },
    "id": "668dTto9CjZm",
    "colab": {
     "base_uri": "https://localhost:8080/",
     "height": 416
    },
    "executionInfo": {
     "status": "ok",
     "timestamp": 1606255933279,
     "user_tz": -60,
     "elapsed": 1306,
     "user": {
      "displayName": "Daniel Gómez",
      "photoUrl": "https://lh3.googleusercontent.com/a-/AOh14GjjGG1-9QcFVqTiC1A2xbXl7B28fL-MBhUTYRio9A=s64",
      "userId": "14778609337782300534"
     }
    },
    "outputId": "a1f4bdd9-a4b3-4a03-d344-36f242328982"
   },
   "source": [
    "plot_confusion_matrix(cm=cm, classes=cm_plot_labels, title='Confusion Matrix')\n",
    "plt.savefig(\"confusion_matrix_221120.pdf\",bbox_inches='tight',dpi=300)"
   ],
   "execution_count": 44,
   "outputs": [
    {
     "output_type": "stream",
     "text": [
      "Confusion matrix, without normalization\n",
      "[[19  0  0  0]\n",
      " [ 0  8  1  0]\n",
      " [ 0  0  8  0]\n",
      " [ 0  0  0  2]]\n"
     ],
     "name": "stdout"
    },
    {
     "output_type": "display_data",
     "data": {
      "image/png": "[encoded data removed]",
      "text/plain": [
       "<Figure size 432x288 with 2 Axes>"
      ]
     },
     "metadata": {
      "tags": [],
      "needs_background": "light"
     }
    }
   ]
  },
  {
   "cell_type": "code",
   "metadata": {
    "jupyter": {
     "outputs_hidden": false
    },
    "pycharm": {
     "name": "#%%\n"
    },
    "id": "jvXUnxdsCjZm",
    "executionInfo": {
     "status": "ok",
     "timestamp": 1606255891764,
     "user_tz": -60,
     "elapsed": 885,
     "user": {
      "displayName": "Daniel Gómez",
      "photoUrl": "https://lh3.googleusercontent.com/a-/AOh14GjjGG1-9QcFVqTiC1A2xbXl7B28fL-MBhUTYRio9A=s64",
      "userId": "14778609337782300534"
     }
    }
   },
   "source": [
    "from scipy import interp\n",
    "from itertools import cycle\n",
    "from sklearn.metrics import roc_curve, auc\n",
    "from sklearn.preprocessing import label_binarize"
   ],
   "execution_count": 35,
   "outputs": []
  },
  {
   "cell_type": "code",
   "metadata": {
    "jupyter": {
     "outputs_hidden": false
    },
    "pycharm": {
     "name": "#%%\n"
    },
    "id": "2_QsOLkpCjZm",
    "executionInfo": {
     "status": "ok",
     "timestamp": 1606255895023,
     "user_tz": -60,
     "elapsed": 956,
     "user": {
      "displayName": "Daniel Gómez",
      "photoUrl": "https://lh3.googleusercontent.com/a-/AOh14GjjGG1-9QcFVqTiC1A2xbXl7B28fL-MBhUTYRio9A=s64",
      "userId": "14778609337782300534"
     }
    }
   },
   "source": [
    "y_test_b = label_binarize(y_test, classes=[0, 1, 2, 3])\n",
    "n_classes= 4"
   ],
   "execution_count": 36,
   "outputs": []
  },
  {
   "cell_type": "code",
   "metadata": {
    "jupyter": {
     "outputs_hidden": false
    },
    "pycharm": {
     "name": "#%%\n"
    },
    "id": "O1bH_b5SCjZm",
    "executionInfo": {
     "status": "ok",
     "timestamp": 1606255896861,
     "user_tz": -60,
     "elapsed": 833,
     "user": {
      "displayName": "Daniel Gómez",
      "photoUrl": "https://lh3.googleusercontent.com/a-/AOh14GjjGG1-9QcFVqTiC1A2xbXl7B28fL-MBhUTYRio9A=s64",
      "userId": "14778609337782300534"
     }
    }
   },
   "source": [
    "fpr = dict()\n",
    "tpr = dict()\n",
    "roc_auc = dict()\n",
    "for i in range(n_classes):\n",
    "    fpr[i], tpr[i], _ = roc_curve(y_test_b[:, i], predictions[:, i])\n",
    "    roc_auc[i] = auc(fpr[i], tpr[i])\n"
   ],
   "execution_count": 37,
   "outputs": []
  },
  {
   "cell_type": "code",
   "metadata": {
    "jupyter": {
     "outputs_hidden": false
    },
    "pycharm": {
     "name": "#%%\n"
    },
    "id": "YROc67ELCjZm",
    "executionInfo": {
     "status": "ok",
     "timestamp": 1606255897472,
     "user_tz": -60,
     "elapsed": 558,
     "user": {
      "displayName": "Daniel Gómez",
      "photoUrl": "https://lh3.googleusercontent.com/a-/AOh14GjjGG1-9QcFVqTiC1A2xbXl7B28fL-MBhUTYRio9A=s64",
      "userId": "14778609337782300534"
     }
    }
   },
   "source": [
    "fpr[\"micro\"], tpr[\"micro\"], _ = roc_curve(y_test_b.ravel(), predictions.ravel())\n",
    "roc_auc[\"micro\"] = auc(fpr[\"micro\"], tpr[\"micro\"])"
   ],
   "execution_count": 38,
   "outputs": []
  },
  {
   "cell_type": "code",
   "metadata": {
    "jupyter": {
     "outputs_hidden": false
    },
    "pycharm": {
     "name": "#%%\n"
    },
    "id": "dQnBs96NCjZn",
    "executionInfo": {
     "status": "ok",
     "timestamp": 1606255900890,
     "user_tz": -60,
     "elapsed": 1062,
     "user": {
      "displayName": "Daniel Gómez",
      "photoUrl": "https://lh3.googleusercontent.com/a-/AOh14GjjGG1-9QcFVqTiC1A2xbXl7B28fL-MBhUTYRio9A=s64",
      "userId": "14778609337782300534"
     }
    }
   },
   "source": [
    "all_fpr = np.unique(np.concatenate([fpr[i] for i in range(n_classes)]))"
   ],
   "execution_count": 39,
   "outputs": []
  },
  {
   "cell_type": "code",
   "metadata": {
    "jupyter": {
     "outputs_hidden": false
    },
    "pycharm": {
     "name": "#%%\n"
    },
    "id": "vsiBtTsNCjZn",
    "executionInfo": {
     "status": "ok",
     "timestamp": 1606255904348,
     "user_tz": -60,
     "elapsed": 685,
     "user": {
      "displayName": "Daniel Gómez",
      "photoUrl": "https://lh3.googleusercontent.com/a-/AOh14GjjGG1-9QcFVqTiC1A2xbXl7B28fL-MBhUTYRio9A=s64",
      "userId": "14778609337782300534"
     }
    }
   },
   "source": [
    "mean_tpr = np.zeros_like(all_fpr)\n",
    "for i in range(n_classes):\n",
    "    mean_tpr += np.interp(all_fpr, fpr[i], tpr[i])"
   ],
   "execution_count": 40,
   "outputs": []
  },
  {
   "cell_type": "code",
   "metadata": {
    "jupyter": {
     "outputs_hidden": false
    },
    "pycharm": {
     "name": "#%%\n"
    },
    "id": "57_bLmUkCjZn",
    "executionInfo": {
     "status": "ok",
     "timestamp": 1606255909552,
     "user_tz": -60,
     "elapsed": 607,
     "user": {
      "displayName": "Daniel Gómez",
      "photoUrl": "https://lh3.googleusercontent.com/a-/AOh14GjjGG1-9QcFVqTiC1A2xbXl7B28fL-MBhUTYRio9A=s64",
      "userId": "14778609337782300534"
     }
    }
   },
   "source": [
    "mean_tpr /= n_classes"
   ],
   "execution_count": 41,
   "outputs": []
  },
  {
   "cell_type": "code",
   "metadata": {
    "jupyter": {
     "outputs_hidden": false
    },
    "pycharm": {
     "name": "#%%\n"
    },
    "id": "WwxWLLnsCjZn",
    "executionInfo": {
     "status": "ok",
     "timestamp": 1606255909821,
     "user_tz": -60,
     "elapsed": 456,
     "user": {
      "displayName": "Daniel Gómez",
      "photoUrl": "https://lh3.googleusercontent.com/a-/AOh14GjjGG1-9QcFVqTiC1A2xbXl7B28fL-MBhUTYRio9A=s64",
      "userId": "14778609337782300534"
     }
    }
   },
   "source": [
    "fpr[\"macro\"] = all_fpr\n",
    "tpr[\"macro\"] = mean_tpr\n",
    "roc_auc[\"macro\"] = auc(fpr[\"macro\"], tpr[\"macro\"])"
   ],
   "execution_count": 42,
   "outputs": []
  },
  {
   "cell_type": "code",
   "metadata": {
    "jupyter": {
     "outputs_hidden": false
    },
    "pycharm": {
     "name": "#%%\n"
    },
    "id": "OAbmJ4vjCjZn",
    "colab": {
     "base_uri": "https://localhost:8080/",
     "height": 573
    },
    "executionInfo": {
     "status": "ok",
     "timestamp": 1606255911881,
     "user_tz": -60,
     "elapsed": 1122,
     "user": {
      "displayName": "Daniel Gómez",
      "photoUrl": "https://lh3.googleusercontent.com/a-/AOh14GjjGG1-9QcFVqTiC1A2xbXl7B28fL-MBhUTYRio9A=s64",
      "userId": "14778609337782300534"
     }
    },
    "outputId": "00738fe6-5dee-42a8-9c99-1c33cbe1b739"
   },
   "source": [
    "lw=2\n",
    "plt.figure(1)\n",
    "plt.plot(fpr[\"micro\"], tpr[\"micro\"],\n",
    "         label='micro-average ROC curve (area = {0:0.2f})'\n",
    "               ''.format(roc_auc[\"micro\"]),\n",
    "         color='deeppink', linestyle=':', linewidth=4)\n",
    "\n",
    "plt.plot(fpr[\"macro\"], tpr[\"macro\"],\n",
    "         label='macro-average ROC curve (area = {0:0.2f})'\n",
    "               ''.format(roc_auc[\"macro\"]),\n",
    "         color='navy', linestyle=':', linewidth=4)\n",
    "\n",
    "colors = cycle(['C0','C1','C2','C3'])\n",
    "for i, color in zip(range(n_classes), colors):\n",
    "    plt.plot(fpr[i], tpr[i], color=color, lw=lw,\n",
    "             label='ROC curve of class {0} (area = {1:0.2f})'\n",
    "             ''.format(i, roc_auc[i]))\n",
    "\n",
    "plt.plot([0, 1], [0, 1], 'k--', lw=lw)\n",
    "plt.xlim([0.0, 1.0])\n",
    "plt.ylim([0.0, 1.05])\n",
    "plt.xlabel('False Positive Rate')\n",
    "plt.ylabel('True Positive Rate')\n",
    "plt.title('Some extension of Receiver operating characteristic to multi-class')\n",
    "plt.legend(loc=\"lower right\")\n",
    "plt.show()\n",
    "\n",
    "\n",
    "# Zoom in view of the upper left corner.\n",
    "plt.figure(2)\n",
    "plt.xlim(0, 0.2)\n",
    "plt.ylim(0.8, 1)\n",
    "plt.plot(fpr[\"micro\"], tpr[\"micro\"],\n",
    "         label='micro-average ROC curve (area = {0:0.2f})'\n",
    "               ''.format(roc_auc[\"micro\"]),\n",
    "         color='deeppink', linestyle=':', linewidth=4)\n",
    "\n",
    "plt.plot(fpr[\"macro\"], tpr[\"macro\"],\n",
    "         label='macro-average ROC curve (area = {0:0.2f})'\n",
    "               ''.format(roc_auc[\"macro\"]),\n",
    "         color='navy', linestyle=':', linewidth=4)\n",
    "\n",
    "colors = cycle(['C0', 'C1', 'C2', 'C4'])\n",
    "for i, color in zip(range(n_classes), colors):\n",
    "    plt.plot(fpr[i], tpr[i], color=color, lw=lw,\n",
    "             label='ROC curve of class {0} (area = {1:0.2f})'\n",
    "             ''.format(i, roc_auc[i]))\n",
    "\n",
    "plt.plot([0, 1], [0, 1], 'k--', lw=lw)\n",
    "plt.xlabel('False Positive Rate')\n",
    "plt.ylabel('True Positive Rate')\n",
    "plt.title('Some extension of Receiver operating characteristic to multi-class')\n",
    "plt.legend(loc=\"lower right\")\n",
    "plt.show()"
   ],
   "execution_count": 43,
   "outputs": [
    {
     "output_type": "display_data",
     "data": {
      "image/png": "[encoded data removed]",
      "text/plain": [
       "<Figure size 432x288 with 1 Axes>"
      ]
     },
     "metadata": {
      "tags": [],
      "needs_background": "light"
     }
    },
    {
     "output_type": "display_data",
     "data": {
      "image/png": "[encoded data removed]",
      "text/plain": [
       "<Figure size 432x288 with 1 Axes>"
      ]
     },
     "metadata": {
      "tags": [],
      "needs_background": "light"
     }
    }
   ]
  },
  {
   "cell_type": "code",
   "metadata": {
    "id": "_QQOgyMeCjZo"
   },
   "source": [
    ""
   ],
   "execution_count": null,
   "outputs": []
  },
  {
   "cell_type": "code",
   "metadata": {
    "id": "wAzs1bYhCjZo"
   },
   "source": [
    ""
   ],
   "execution_count": null,
   "outputs": []
  },
  {
   "cell_type": "code",
   "metadata": {
    "id": "p4Q307TbDzu4"
   },
   "source": [
    ""
   ],
   "execution_count": null,
   "outputs": []
  }
 ]
}