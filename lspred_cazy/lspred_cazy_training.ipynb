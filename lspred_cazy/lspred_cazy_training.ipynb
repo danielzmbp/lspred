{
 "cells": [
  {
   "cell_type": "markdown",
   "metadata": {
    "id": "view-in-github"
   },
   "source": [
    "<a href=\"https://colab.research.google.com/github/danielzmbp/lspred/blob/main/ls-pred_training.ipynb\" target=\"_parent\"><img src=\"https://colab.research.google.com/assets/colab-badge.svg\" alt=\"Open In Colab\"/></a>"
   ]
  },
  {
   "cell_type": "code",
   "execution_count": 1,
   "metadata": {
    "colab": {
     "base_uri": "https://localhost:8080/"
    },
    "id": "aNJ8jOENCsF9",
    "outputId": "10b29106-dce8-47e4-d5f8-168f50905b17"
   },
   "outputs": [
    {
     "name": "stdout",
     "output_type": "stream",
     "text": [
      "Collecting keras-tuner\n",
      "\u001b[?25l  Downloading https://files.pythonhosted.org/packages/20/ec/1ef246787174b1e2bb591c95f29d3c1310070cad877824f907faba3dade9/keras-tuner-1.0.2.tar.gz (62kB)\n",
      "\u001b[K     |████████████████████████████████| 71kB 9.0MB/s  eta 0:00:01\n",
      "\u001b[?25hRequirement already satisfied: packaging in /usr/local/lib/python3.7/dist-packages (from keras-tuner) (20.9)\n",
      "Requirement already satisfied: future in /usr/local/lib/python3.7/dist-packages (from keras-tuner) (0.16.0)\n",
      "Requirement already satisfied: numpy in /usr/local/lib/python3.7/dist-packages (from keras-tuner) (1.19.5)\n",
      "Requirement already satisfied: tabulate in /usr/local/lib/python3.7/dist-packages (from keras-tuner) (0.8.9)\n",
      "Collecting terminaltables\n",
      "  Downloading https://files.pythonhosted.org/packages/9b/c4/4a21174f32f8a7e1104798c445dacdc1d4df86f2f26722767034e4de4bff/terminaltables-3.1.0.tar.gz\n",
      "Collecting colorama\n",
      "  Downloading https://files.pythonhosted.org/packages/44/98/5b86278fbbf250d239ae0ecb724f8572af1c91f4a11edf4d36a206189440/colorama-0.4.4-py2.py3-none-any.whl\n",
      "Requirement already satisfied: tqdm in /usr/local/lib/python3.7/dist-packages (from keras-tuner) (4.41.1)\n",
      "Requirement already satisfied: requests in /usr/local/lib/python3.7/dist-packages (from keras-tuner) (2.23.0)\n",
      "Requirement already satisfied: scipy in /usr/local/lib/python3.7/dist-packages (from keras-tuner) (1.4.1)\n",
      "Requirement already satisfied: scikit-learn in /usr/local/lib/python3.7/dist-packages (from keras-tuner) (0.22.2.post1)\n",
      "Requirement already satisfied: pyparsing>=2.0.2 in /usr/local/lib/python3.7/dist-packages (from packaging->keras-tuner) (2.4.7)\n",
      "Requirement already satisfied: urllib3!=1.25.0,!=1.25.1,<1.26,>=1.21.1 in /usr/local/lib/python3.7/dist-packages (from requests->keras-tuner) (1.24.3)\n",
      "Requirement already satisfied: chardet<4,>=3.0.2 in /usr/local/lib/python3.7/dist-packages (from requests->keras-tuner) (3.0.4)\n",
      "Requirement already satisfied: certifi>=2017.4.17 in /usr/local/lib/python3.7/dist-packages (from requests->keras-tuner) (2020.12.5)\n",
      "Requirement already satisfied: idna<3,>=2.5 in /usr/local/lib/python3.7/dist-packages (from requests->keras-tuner) (2.10)\n",
      "Requirement already satisfied: joblib>=0.11 in /usr/local/lib/python3.7/dist-packages (from scikit-learn->keras-tuner) (1.0.1)\n",
      "Building wheels for collected packages: keras-tuner, terminaltables\n",
      "  Building wheel for keras-tuner (setup.py) ... \u001b[?25l\u001b[?25hdone\n",
      "  Created wheel for keras-tuner: filename=keras_tuner-1.0.2-cp37-none-any.whl size=78935 sha256=561f3460d1b17e266d43db6e7e0d65a3417287a067acdccd2d2475a9c273b4ed\n",
      "  Stored in directory: /root/.cache/pip/wheels/bb/a1/8a/7c3de0efb3707a1701b36ebbfdbc4e67aedf6d4943a1f463d6\n",
      "  Building wheel for terminaltables (setup.py) ... \u001b[?25l\u001b[?25hdone\n",
      "  Created wheel for terminaltables: filename=terminaltables-3.1.0-cp37-none-any.whl size=15356 sha256=35ec5ce03b9bdaa48a69b05571c293e6bed952283110632efdbaab453b810bcb\n",
      "  Stored in directory: /root/.cache/pip/wheels/30/6b/50/6c75775b681fb36cdfac7f19799888ef9d8813aff9e379663e\n",
      "Successfully built keras-tuner terminaltables\n",
      "Installing collected packages: terminaltables, colorama, keras-tuner\n",
      "Successfully installed colorama-0.4.4 keras-tuner-1.0.2 terminaltables-3.1.0\n"
     ]
    }
   ],
   "source": [
    "!pip install keras-tuner\n"
   ]
  },
  {
   "cell_type": "markdown",
   "metadata": {
    "id": "y70d8IPwCjZY"
   },
   "source": [
    "# LS- pred\n",
    "In this notebook I develop a model to predict lifestyle based on InterProScan annotations. The input tsv files consist\n",
    "of the table outputs from the [genome-properties](https://github.com/ebi-pf-team/genome-properties) script."
   ]
  },
  {
   "cell_type": "code",
   "execution_count": 2,
   "metadata": {
    "id": "4nBLevXcCjZa"
   },
   "outputs": [],
   "source": [
    "import pandas as pd\n",
    "import numpy as np\n",
    "import tensorflow as tf\n",
    "from tensorflow import keras\n",
    "import kerastuner as kt\n",
    "import IPython\n",
    "import matplotlib.pyplot as plt\n",
    "from sklearn.model_selection import train_test_split"
   ]
  },
  {
   "cell_type": "markdown",
   "metadata": {
    "id": "-0iwb3h7CjZc"
   },
   "source": [
    "## Merge dfs"
   ]
  },
  {
   "cell_type": "code",
   "execution_count": 3,
   "metadata": {
    "id": "eG6f9kaPD3Pq"
   },
   "outputs": [],
   "source": [
    "X = pd.read_csv(\"ls-pred_cazy.csv\",header=None)"
   ]
  },
  {
   "cell_type": "code",
   "execution_count": 4,
   "metadata": {
    "id": "FyIsL8dSEIVf"
   },
   "outputs": [],
   "source": [
    "X = X.drop_duplicates()"
   ]
  },
  {
   "cell_type": "code",
   "execution_count": 5,
   "metadata": {
    "id": "W9vigN2UCjZe"
   },
   "outputs": [],
   "source": [
    "y = X.iloc[:,0]"
   ]
  },
  {
   "cell_type": "code",
   "execution_count": 6,
   "metadata": {
    "id": "MX17g0DwCjZe"
   },
   "outputs": [],
   "source": [
    "X = X.iloc[:,1:]"
   ]
  },
  {
   "cell_type": "code",
   "execution_count": 7,
   "metadata": {
    "id": "_0w_hlb8CjZe"
   },
   "outputs": [],
   "source": [
    "y = np.array(y)"
   ]
  },
  {
   "cell_type": "code",
   "execution_count": 8,
   "metadata": {
    "id": "E9xtNsRcCjZe"
   },
   "outputs": [],
   "source": [
    "X = X.values"
   ]
  },
  {
   "cell_type": "code",
   "execution_count": 9,
   "metadata": {
    "colab": {
     "base_uri": "https://localhost:8080/"
    },
    "id": "XKlTI0tiCjZe",
    "outputId": "3e4305f0-0ddd-487f-ae38-677bf9dbbba8"
   },
   "outputs": [
    {
     "data": {
      "text/plain": [
       "(313, 593)"
      ]
     },
     "execution_count": 9,
     "metadata": {
      "tags": []
     },
     "output_type": "execute_result"
    }
   ],
   "source": [
    "X.shape"
   ]
  },
  {
   "cell_type": "code",
   "execution_count": 10,
   "metadata": {
    "id": "42hBHR2kCjZi"
   },
   "outputs": [],
   "source": [
    "X_train, X_test, y_train, y_test = train_test_split(X,y,train_size=0.6,random_state=42,stratify=y)"
   ]
  },
  {
   "cell_type": "code",
   "execution_count": 11,
   "metadata": {
    "id": "5Yux1PZkCjZj"
   },
   "outputs": [],
   "source": [
    "X_test, X_valid, y_test, y_valid = train_test_split(X_test, y_test, test_size=0.5,random_state=42,stratify=y_test)"
   ]
  },
  {
   "cell_type": "code",
   "execution_count": 12,
   "metadata": {
    "id": "N9YnvwEpCjZj"
   },
   "outputs": [],
   "source": [
    "def model_builder(hp):\n",
    "  model = keras.Sequential()\n",
    "  model.add(keras.layers.Dense(593))\n",
    "  \n",
    "  # Tune the number of units in the first Dense layer\n",
    "  # Choose an optimal value between 32-512\n",
    "  model.add(keras.layers.Dense(units = hp.Int('u1', min_value = 32, max_value = 512, step = 32),\n",
    "                               activation=hp.Choice(name='a_1',\n",
    "                               values=['relu','elu','selu'])))\n",
    "  model.add(keras.layers.Dense(units = hp.Int('u2', min_value = 32, max_value = 512, step = 32),\n",
    "                               activation=hp.Choice(name='a_2',\n",
    "                               values=['relu','elu','selu'])))\n",
    "  model.add(keras.layers.Dense(4,activation='softmax'))\n",
    "\n",
    "  # Tune the learning rate for the optimizer \n",
    "  hp_learning_rate = hp.Choice('learning_rate', values = [1e-3,1e-4, 1e-5]) \n",
    "  \n",
    "  model.compile(optimizer = keras.optimizers.Adam(learning_rate = hp_learning_rate),\n",
    "                loss = keras.losses.SparseCategoricalCrossentropy(from_logits = True), \n",
    "                metrics = ['accuracy'])\n",
    "  \n",
    "  return model"
   ]
  },
  {
   "cell_type": "code",
   "execution_count": 13,
   "metadata": {
    "id": "TkVSdT33CjZj"
   },
   "outputs": [],
   "source": [
    "tuner = kt.Hyperband(model_builder,\n",
    "                     objective = 'val_accuracy', \n",
    "                     max_epochs = 40,\n",
    "                     factor = 3,\n",
    "                     directory = 'tuner',\n",
    "                     project_name = 'hyperband_test')                       "
   ]
  },
  {
   "cell_type": "code",
   "execution_count": 14,
   "metadata": {
    "id": "odx9YO9lCjZj"
   },
   "outputs": [],
   "source": [
    "class ClearTrainingOutput(tf.keras.callbacks.Callback):\n",
    "  def on_train_end(*args, **kwargs):\n",
    "    IPython.display.clear_output(wait = True)"
   ]
  },
  {
   "cell_type": "code",
   "execution_count": 15,
   "metadata": {
    "colab": {
     "base_uri": "https://localhost:8080/"
    },
    "id": "1nG7sWTwCjZj",
    "outputId": "67cac69b-906c-48a6-e570-56c982ff94ef"
   },
   "outputs": [
    {
     "name": "stdout",
     "output_type": "stream",
     "text": [
      "Trial 90 Complete [00h 00m 05s]\n",
      "val_accuracy: 0.9523809552192688\n",
      "\n",
      "Best val_accuracy So Far: 0.9841269850730896\n",
      "Total elapsed time: 00h 02m 34s\n",
      "INFO:tensorflow:Oracle triggered exit\n"
     ]
    }
   ],
   "source": [
    "tuner.search(X_train, y_train, epochs = 40, \n",
    "             validation_data = (X_valid, y_valid), callbacks = [ClearTrainingOutput()])\n",
    "\n",
    "# Get the optimal hyperparameters\n",
    "best_hps = tuner.get_best_hyperparameters(num_trials = 1)[0]"
   ]
  },
  {
   "cell_type": "code",
   "execution_count": 16,
   "metadata": {
    "colab": {
     "base_uri": "https://localhost:8080/"
    },
    "id": "vOkCT4RpCjZj",
    "outputId": "aae0121b-f379-4963-e5f8-1c8b93a69bb8"
   },
   "outputs": [
    {
     "name": "stdout",
     "output_type": "stream",
     "text": [
      "Epoch 1/40\n"
     ]
    },
    {
     "name": "stderr",
     "output_type": "stream",
     "text": [
      "/usr/local/lib/python3.7/dist-packages/tensorflow/python/keras/backend.py:4930: UserWarning: \"`sparse_categorical_crossentropy` received `from_logits=True`, but the `output` argument was produced by a sigmoid or softmax activation and thus does not represent logits. Was this intended?\"\n",
      "  '\"`sparse_categorical_crossentropy` received `from_logits=True`, but '\n"
     ]
    },
    {
     "name": "stdout",
     "output_type": "stream",
     "text": [
      "6/6 [==============================] - 1s 40ms/step - loss: 3.5772 - accuracy: 0.4866 - val_loss: 1.4024 - val_accuracy: 0.6349\n",
      "Epoch 2/40\n",
      "6/6 [==============================] - 0s 13ms/step - loss: 0.6847 - accuracy: 0.8717 - val_loss: 0.4385 - val_accuracy: 0.8889\n",
      "Epoch 3/40\n",
      "6/6 [==============================] - 0s 13ms/step - loss: 0.3414 - accuracy: 0.9037 - val_loss: 0.2135 - val_accuracy: 0.9365\n",
      "Epoch 4/40\n",
      "6/6 [==============================] - 0s 16ms/step - loss: 0.2415 - accuracy: 0.9412 - val_loss: 0.6232 - val_accuracy: 0.8095\n",
      "Epoch 5/40\n",
      "6/6 [==============================] - 0s 14ms/step - loss: 0.1329 - accuracy: 0.9572 - val_loss: 0.2484 - val_accuracy: 0.9524\n",
      "Epoch 6/40\n",
      "6/6 [==============================] - 0s 14ms/step - loss: 0.0383 - accuracy: 0.9840 - val_loss: 0.2180 - val_accuracy: 0.9683\n",
      "Epoch 7/40\n",
      "6/6 [==============================] - 0s 15ms/step - loss: 0.0177 - accuracy: 0.9947 - val_loss: 0.1835 - val_accuracy: 0.9683\n",
      "Epoch 8/40\n",
      "6/6 [==============================] - 0s 14ms/step - loss: 0.0119 - accuracy: 0.9947 - val_loss: 0.2824 - val_accuracy: 0.9524\n",
      "Epoch 9/40\n",
      "6/6 [==============================] - 0s 16ms/step - loss: 0.0084 - accuracy: 0.9947 - val_loss: 0.3152 - val_accuracy: 0.9683\n",
      "Epoch 10/40\n",
      "6/6 [==============================] - 0s 14ms/step - loss: 0.0045 - accuracy: 1.0000 - val_loss: 0.3405 - val_accuracy: 0.9683\n",
      "Epoch 11/40\n",
      "6/6 [==============================] - 0s 13ms/step - loss: 0.0030 - accuracy: 1.0000 - val_loss: 0.3778 - val_accuracy: 0.9365\n",
      "Epoch 12/40\n",
      "6/6 [==============================] - 0s 16ms/step - loss: 0.0036 - accuracy: 1.0000 - val_loss: 0.3627 - val_accuracy: 0.9524\n",
      "Epoch 13/40\n",
      "6/6 [==============================] - 0s 16ms/step - loss: 0.0033 - accuracy: 1.0000 - val_loss: 0.3605 - val_accuracy: 0.9524\n",
      "Epoch 14/40\n",
      "6/6 [==============================] - 0s 16ms/step - loss: 0.0015 - accuracy: 1.0000 - val_loss: 0.3774 - val_accuracy: 0.9365\n",
      "Epoch 15/40\n",
      "6/6 [==============================] - 0s 14ms/step - loss: 0.0016 - accuracy: 1.0000 - val_loss: 0.3638 - val_accuracy: 0.9365\n",
      "Epoch 16/40\n",
      "6/6 [==============================] - 0s 14ms/step - loss: 0.0011 - accuracy: 1.0000 - val_loss: 0.3555 - val_accuracy: 0.9524\n",
      "Epoch 17/40\n",
      "6/6 [==============================] - 0s 16ms/step - loss: 0.0011 - accuracy: 1.0000 - val_loss: 0.3541 - val_accuracy: 0.9524\n",
      "Epoch 18/40\n",
      "6/6 [==============================] - 0s 15ms/step - loss: 9.6257e-04 - accuracy: 1.0000 - val_loss: 0.3578 - val_accuracy: 0.9524\n",
      "Epoch 19/40\n",
      "6/6 [==============================] - 0s 16ms/step - loss: 8.9483e-04 - accuracy: 1.0000 - val_loss: 0.3608 - val_accuracy: 0.9365\n",
      "Epoch 20/40\n",
      "6/6 [==============================] - 0s 16ms/step - loss: 8.1937e-04 - accuracy: 1.0000 - val_loss: 0.3575 - val_accuracy: 0.9524\n",
      "Epoch 21/40\n",
      "6/6 [==============================] - 0s 16ms/step - loss: 8.1462e-04 - accuracy: 1.0000 - val_loss: 0.3535 - val_accuracy: 0.9524\n",
      "Epoch 22/40\n",
      "6/6 [==============================] - 0s 14ms/step - loss: 7.2540e-04 - accuracy: 1.0000 - val_loss: 0.3552 - val_accuracy: 0.9524\n",
      "Epoch 23/40\n",
      "6/6 [==============================] - 0s 13ms/step - loss: 6.7346e-04 - accuracy: 1.0000 - val_loss: 0.3616 - val_accuracy: 0.9365\n",
      "Epoch 24/40\n",
      "6/6 [==============================] - 0s 16ms/step - loss: 6.8919e-04 - accuracy: 1.0000 - val_loss: 0.3637 - val_accuracy: 0.9365\n",
      "Epoch 25/40\n",
      "6/6 [==============================] - 0s 13ms/step - loss: 5.9989e-04 - accuracy: 1.0000 - val_loss: 0.3570 - val_accuracy: 0.9524\n",
      "Epoch 26/40\n",
      "6/6 [==============================] - 0s 14ms/step - loss: 5.6146e-04 - accuracy: 1.0000 - val_loss: 0.3553 - val_accuracy: 0.9524\n",
      "Epoch 27/40\n",
      "6/6 [==============================] - 0s 14ms/step - loss: 5.6671e-04 - accuracy: 1.0000 - val_loss: 0.3544 - val_accuracy: 0.9524\n",
      "Epoch 28/40\n",
      "6/6 [==============================] - 0s 14ms/step - loss: 5.1024e-04 - accuracy: 1.0000 - val_loss: 0.3583 - val_accuracy: 0.9524\n",
      "Epoch 29/40\n",
      "6/6 [==============================] - 0s 16ms/step - loss: 4.8835e-04 - accuracy: 1.0000 - val_loss: 0.3607 - val_accuracy: 0.9524\n",
      "Epoch 30/40\n",
      "6/6 [==============================] - 0s 13ms/step - loss: 4.7340e-04 - accuracy: 1.0000 - val_loss: 0.3593 - val_accuracy: 0.9524\n",
      "Epoch 31/40\n",
      "6/6 [==============================] - 0s 15ms/step - loss: 4.5011e-04 - accuracy: 1.0000 - val_loss: 0.3577 - val_accuracy: 0.9524\n",
      "Epoch 32/40\n",
      "6/6 [==============================] - 0s 14ms/step - loss: 4.2812e-04 - accuracy: 1.0000 - val_loss: 0.3587 - val_accuracy: 0.9524\n",
      "Epoch 33/40\n",
      "6/6 [==============================] - 0s 13ms/step - loss: 4.1360e-04 - accuracy: 1.0000 - val_loss: 0.3610 - val_accuracy: 0.9524\n",
      "Epoch 34/40\n",
      "6/6 [==============================] - 0s 16ms/step - loss: 3.9361e-04 - accuracy: 1.0000 - val_loss: 0.3612 - val_accuracy: 0.9524\n",
      "Epoch 35/40\n",
      "6/6 [==============================] - 0s 15ms/step - loss: 3.8036e-04 - accuracy: 1.0000 - val_loss: 0.3601 - val_accuracy: 0.9524\n",
      "Epoch 36/40\n",
      "6/6 [==============================] - 0s 14ms/step - loss: 3.6741e-04 - accuracy: 1.0000 - val_loss: 0.3616 - val_accuracy: 0.9524\n",
      "Epoch 37/40\n",
      "6/6 [==============================] - 0s 14ms/step - loss: 3.4790e-04 - accuracy: 1.0000 - val_loss: 0.3618 - val_accuracy: 0.9524\n",
      "Epoch 38/40\n",
      "6/6 [==============================] - 0s 15ms/step - loss: 3.4273e-04 - accuracy: 1.0000 - val_loss: 0.3605 - val_accuracy: 0.9524\n",
      "Epoch 39/40\n",
      "6/6 [==============================] - 0s 16ms/step - loss: 3.2731e-04 - accuracy: 1.0000 - val_loss: 0.3614 - val_accuracy: 0.9524\n",
      "Epoch 40/40\n",
      "6/6 [==============================] - 0s 15ms/step - loss: 3.1418e-04 - accuracy: 1.0000 - val_loss: 0.3627 - val_accuracy: 0.9524\n"
     ]
    }
   ],
   "source": [
    "# Build the model with the optimal hyperparameters and train it on the data\n",
    "model = tuner.hypermodel.build(best_hps)\n",
    "history = model.fit(X_train, y_train, epochs = 40, validation_data = (X_valid, y_valid))"
   ]
  },
  {
   "cell_type": "code",
   "execution_count": 17,
   "metadata": {
    "colab": {
     "base_uri": "https://localhost:8080/"
    },
    "id": "i1dZuFHeCjZk",
    "outputId": "5e0d6a46-ecde-432d-e639-757fdfe9cc8a"
   },
   "outputs": [
    {
     "name": "stdout",
     "output_type": "stream",
     "text": [
      "Model: \"sequential\"\n",
      "_________________________________________________________________\n",
      "Layer (type)                 Output Shape              Param #   \n",
      "=================================================================\n",
      "dense (Dense)                (None, 593)               352242    \n",
      "_________________________________________________________________\n",
      "dense_1 (Dense)              (None, 512)               304128    \n",
      "_________________________________________________________________\n",
      "dense_2 (Dense)              (None, 480)               246240    \n",
      "_________________________________________________________________\n",
      "dense_3 (Dense)              (None, 4)                 1924      \n",
      "=================================================================\n",
      "Total params: 904,534\n",
      "Trainable params: 904,534\n",
      "Non-trainable params: 0\n",
      "_________________________________________________________________\n"
     ]
    }
   ],
   "source": [
    "model.summary()"
   ]
  },
  {
   "cell_type": "code",
   "execution_count": 18,
   "metadata": {
    "colab": {
     "base_uri": "https://localhost:8080/"
    },
    "id": "FuI_X_CcCjZl",
    "outputId": "c7076a64-fd0d-4dd1-ce23-1acb7897e9c7"
   },
   "outputs": [
    {
     "name": "stdout",
     "output_type": "stream",
     "text": [
      "2/2 [==============================] - 0s 8ms/step - loss: 0.1442 - accuracy: 0.9683\n"
     ]
    }
   ],
   "source": [
    "results = model.evaluate(X_test, y_test)"
   ]
  },
  {
   "cell_type": "code",
   "execution_count": 19,
   "metadata": {
    "id": "K0oC8WLrCjZl"
   },
   "outputs": [],
   "source": [
    "model.save(\"lspred_6_6_21.h5\")"
   ]
  },
  {
   "cell_type": "markdown",
   "metadata": {
    "id": "qH1xGf5vCjZl",
    "pycharm": {
     "name": "#%% md\n"
    }
   },
   "source": [
    "## Stats"
   ]
  },
  {
   "cell_type": "code",
   "execution_count": 20,
   "metadata": {
    "colab": {
     "base_uri": "https://localhost:8080/"
    },
    "id": "Hx-yEAofCjZl",
    "outputId": "ff066464-c74b-4f82-ea0b-f24cb8e3e445"
   },
   "outputs": [
    {
     "data": {
      "text/plain": [
       "dict_keys(['loss', 'accuracy', 'val_loss', 'val_accuracy'])"
      ]
     },
     "execution_count": 20,
     "metadata": {
      "tags": []
     },
     "output_type": "execute_result"
    }
   ],
   "source": [
    "history_dict = history.history\n",
    "history_dict.keys()"
   ]
  },
  {
   "cell_type": "code",
   "execution_count": 21,
   "metadata": {
    "colab": {
     "base_uri": "https://localhost:8080/",
     "height": 295
    },
    "id": "GfzN_W8QCjZl",
    "outputId": "b1407da3-8430-421e-b2de-411e7f70d7fb",
    "pycharm": {
     "name": "#%%\n"
    }
   },
   "outputs": [
    {
     "data": {
      "image/png": "[encoded data removed]",
      "text/plain": [
       "<Figure size 432x288 with 1 Axes>"
      ]
     },
     "metadata": {
      "needs_background": "light",
      "tags": []
     },
     "output_type": "display_data"
    }
   ],
   "source": [
    "acc = history_dict['accuracy']\n",
    "val_acc = history_dict['val_accuracy']\n",
    "loss = history_dict['loss']\n",
    "val_loss = history_dict['val_loss']\n",
    "\n",
    "epochs = range(1, len(acc) + 1)\n",
    "\n",
    "# \"bo\" is for \"blue dot\"\n",
    "plt.plot(epochs, loss, 'bo', label='Training loss')\n",
    "# b is for \"solid blue line\"\n",
    "plt.plot(epochs, val_loss, 'b', label='Validation loss')\n",
    "plt.title('Training and validation loss')\n",
    "plt.xlabel('Epochs')\n",
    "plt.ylabel('Loss')\n",
    "plt.legend()\n",
    "\n",
    "plt.show()"
   ]
  },
  {
   "cell_type": "code",
   "execution_count": 22,
   "metadata": {
    "colab": {
     "base_uri": "https://localhost:8080/",
     "height": 295
    },
    "id": "EJgnu-TICjZl",
    "outputId": "c7831ac4-3441-46f0-943b-6dce9077f388"
   },
   "outputs": [
    {
     "data": {
      "image/png": "[encoded data removed]",
      "text/plain": [
       "<Figure size 432x288 with 1 Axes>"
      ]
     },
     "metadata": {
      "needs_background": "light",
      "tags": []
     },
     "output_type": "display_data"
    }
   ],
   "source": [
    "plt.clf()   # clear figure\n",
    "\n",
    "plt.plot(epochs, acc, 'bo', label='Training acc')\n",
    "plt.plot(epochs, val_acc, 'b', label='Validation acc')\n",
    "plt.title('Training and validation accuracy')\n",
    "plt.xlabel('Epochs')\n",
    "plt.ylabel('Accuracy')\n",
    "plt.legend()\n",
    "\n",
    "plt.show()"
   ]
  },
  {
   "cell_type": "code",
   "execution_count": 23,
   "metadata": {
    "id": "92sONhVLCjZl"
   },
   "outputs": [],
   "source": [
    "from sklearn.metrics import confusion_matrix\n"
   ]
  },
  {
   "cell_type": "code",
   "execution_count": 24,
   "metadata": {
    "id": "z9jqhLhzCjZl"
   },
   "outputs": [],
   "source": [
    "predictions = model.predict(\n",
    "      x=X_test\n",
    "    , batch_size=10\n",
    "    , verbose=0\n",
    ")  "
   ]
  },
  {
   "cell_type": "code",
   "execution_count": 25,
   "metadata": {
    "id": "pzwdjHhOCjZm"
   },
   "outputs": [],
   "source": [
    "rounded_predictions = np.argmax(predictions, axis=-1)\n"
   ]
  },
  {
   "cell_type": "code",
   "execution_count": 26,
   "metadata": {
    "id": "AaN_TbFJCjZm"
   },
   "outputs": [],
   "source": [
    "cm = confusion_matrix(y_true=y_test, y_pred=rounded_predictions)\n"
   ]
  },
  {
   "cell_type": "code",
   "execution_count": 27,
   "metadata": {
    "id": "DxU_nNL2CjZm"
   },
   "outputs": [],
   "source": [
    "def plot_confusion_matrix(cm, classes,\n",
    "                        normalize=False,\n",
    "                        title='Confusion matrix',\n",
    "                        cmap=plt.cm.Blues):\n",
    "    \"\"\"\n",
    "    This function prints and plots the confusion matrix.\n",
    "    Normalization can be applied by setting `normalize=True`.\n",
    "    \"\"\"\n",
    "    plt.imshow(cm, interpolation='nearest', cmap=cmap)\n",
    "    plt.title(title)\n",
    "    plt.colorbar()\n",
    "    tick_marks = np.arange(len(classes))\n",
    "    plt.xticks(tick_marks, classes, rotation=45)\n",
    "    plt.yticks(tick_marks, classes)\n",
    "\n",
    "    if normalize:\n",
    "        cm = cm.astype('float') / cm.sum(axis=1)[:, np.newaxis]\n",
    "        print(\"Normalized confusion matrix\")\n",
    "    else:\n",
    "        print('Confusion matrix, without normalization')\n",
    "\n",
    "    print(cm)\n",
    "\n",
    "    thresh = cm.max() / 2.\n",
    "    for i, j in itertools.product(range(cm.shape[0]), range(cm.shape[1])):\n",
    "        plt.text(j, i, cm[i, j],\n",
    "            horizontalalignment=\"center\",\n",
    "            color=\"white\" if cm[i, j] > thresh else \"black\")\n",
    "\n",
    "    plt.tight_layout()\n",
    "    plt.ylabel('True label')\n",
    "    plt.xlabel('Predicted label')"
   ]
  },
  {
   "cell_type": "code",
   "execution_count": 28,
   "metadata": {
    "id": "O2yXSP1GCjZm"
   },
   "outputs": [],
   "source": [
    "cm_plot_labels = ['saprotroph','necrotroph','hemibiotroph','biotroph']\n"
   ]
  },
  {
   "cell_type": "code",
   "execution_count": 29,
   "metadata": {
    "id": "CEjEN_n2CjZm"
   },
   "outputs": [],
   "source": [
    "import itertools"
   ]
  },
  {
   "cell_type": "code",
   "execution_count": 30,
   "metadata": {
    "colab": {
     "base_uri": "https://localhost:8080/",
     "height": 396
    },
    "id": "668dTto9CjZm",
    "outputId": "aff938be-3735-47b7-9612-68ad3fcbe7b2",
    "pycharm": {
     "name": "#%%\n"
    }
   },
   "outputs": [
    {
     "name": "stdout",
     "output_type": "stream",
     "text": [
      "Confusion matrix, without normalization\n",
      "[[23  0  0  0]\n",
      " [ 0 11  0  1]\n",
      " [ 0  0 19  0]\n",
      " [ 1  0  0  8]]\n"
     ]
    },
    {
     "data": {
      "image/png": "[encoded data removed]",
      "text/plain": [
       "<Figure size 432x288 with 2 Axes>"
      ]
     },
     "metadata": {
      "needs_background": "light",
      "tags": []
     },
     "output_type": "display_data"
    }
   ],
   "source": [
    "plot_confusion_matrix(cm=cm, classes=cm_plot_labels, title='Confusion Matrix')\n",
    "plt.savefig(\"confusion_matrix_6621.pdf\",bbox_inches='tight',dpi=300)"
   ]
  },
  {
   "cell_type": "code",
   "execution_count": 31,
   "metadata": {
    "collapsed": false,
    "id": "jvXUnxdsCjZm",
    "jupyter": {
     "outputs_hidden": false
    },
    "pycharm": {
     "name": "#%%\n"
    }
   },
   "outputs": [],
   "source": [
    "from scipy import interp\n",
    "from itertools import cycle\n",
    "from sklearn.metrics import roc_curve, auc\n",
    "from sklearn.preprocessing import label_binarize"
   ]
  },
  {
   "cell_type": "code",
   "execution_count": 32,
   "metadata": {
    "collapsed": false,
    "id": "2_QsOLkpCjZm",
    "jupyter": {
     "outputs_hidden": false
    },
    "pycharm": {
     "name": "#%%\n"
    }
   },
   "outputs": [],
   "source": [
    "y_test_b = label_binarize(y_test, classes=[0, 1, 2, 3])\n",
    "n_classes= 4"
   ]
  },
  {
   "cell_type": "code",
   "execution_count": 33,
   "metadata": {
    "collapsed": false,
    "id": "O1bH_b5SCjZm",
    "jupyter": {
     "outputs_hidden": false
    },
    "pycharm": {
     "name": "#%%\n"
    }
   },
   "outputs": [],
   "source": [
    "fpr = dict()\n",
    "tpr = dict()\n",
    "roc_auc = dict()\n",
    "for i in range(n_classes):\n",
    "    fpr[i], tpr[i], _ = roc_curve(y_test_b[:, i], predictions[:, i])\n",
    "    roc_auc[i] = auc(fpr[i], tpr[i])\n"
   ]
  },
  {
   "cell_type": "code",
   "execution_count": 34,
   "metadata": {
    "collapsed": false,
    "id": "YROc67ELCjZm",
    "jupyter": {
     "outputs_hidden": false
    },
    "pycharm": {
     "name": "#%%\n"
    }
   },
   "outputs": [],
   "source": [
    "fpr[\"micro\"], tpr[\"micro\"], _ = roc_curve(y_test_b.ravel(), predictions.ravel())\n",
    "roc_auc[\"micro\"] = auc(fpr[\"micro\"], tpr[\"micro\"])"
   ]
  },
  {
   "cell_type": "code",
   "execution_count": 35,
   "metadata": {
    "collapsed": false,
    "id": "dQnBs96NCjZn",
    "jupyter": {
     "outputs_hidden": false
    },
    "pycharm": {
     "name": "#%%\n"
    }
   },
   "outputs": [],
   "source": [
    "all_fpr = np.unique(np.concatenate([fpr[i] for i in range(n_classes)]))"
   ]
  },
  {
   "cell_type": "code",
   "execution_count": 36,
   "metadata": {
    "collapsed": false,
    "id": "vsiBtTsNCjZn",
    "jupyter": {
     "outputs_hidden": false
    },
    "pycharm": {
     "name": "#%%\n"
    }
   },
   "outputs": [],
   "source": [
    "mean_tpr = np.zeros_like(all_fpr)\n",
    "for i in range(n_classes):\n",
    "    mean_tpr += np.interp(all_fpr, fpr[i], tpr[i])"
   ]
  },
  {
   "cell_type": "code",
   "execution_count": 37,
   "metadata": {
    "collapsed": false,
    "id": "57_bLmUkCjZn",
    "jupyter": {
     "outputs_hidden": false
    },
    "pycharm": {
     "name": "#%%\n"
    }
   },
   "outputs": [],
   "source": [
    "mean_tpr /= n_classes"
   ]
  },
  {
   "cell_type": "code",
   "execution_count": 38,
   "metadata": {
    "collapsed": false,
    "id": "WwxWLLnsCjZn",
    "jupyter": {
     "outputs_hidden": false
    },
    "pycharm": {
     "name": "#%%\n"
    }
   },
   "outputs": [],
   "source": [
    "fpr[\"macro\"] = all_fpr\n",
    "tpr[\"macro\"] = mean_tpr\n",
    "roc_auc[\"macro\"] = auc(fpr[\"macro\"], tpr[\"macro\"])"
   ]
  },
  {
   "cell_type": "code",
   "execution_count": 39,
   "metadata": {
    "colab": {
     "base_uri": "https://localhost:8080/",
     "height": 573
    },
    "collapsed": false,
    "id": "OAbmJ4vjCjZn",
    "jupyter": {
     "outputs_hidden": false
    },
    "outputId": "3bfd9a1f-b78d-4c5b-cb0d-2501104f442f",
    "pycharm": {
     "name": "#%%\n"
    }
   },
   "outputs": [
    {
     "data": {
      "image/png": "[encoded data removed]",
      "text/plain": [
       "<Figure size 432x288 with 1 Axes>"
      ]
     },
     "metadata": {
      "needs_background": "light",
      "tags": []
     },
     "output_type": "display_data"
    },
    {
     "data": {
      "image/png": "[encoded data removed]",
      "text/plain": [
       "<Figure size 432x288 with 1 Axes>"
      ]
     },
     "metadata": {
      "needs_background": "light",
      "tags": []
     },
     "output_type": "display_data"
    }
   ],
   "source": [
    "lw=2\n",
    "plt.figure(1)\n",
    "plt.plot(fpr[\"micro\"], tpr[\"micro\"],\n",
    "         label='micro-average ROC curve (area = {0:0.2f})'\n",
    "               ''.format(roc_auc[\"micro\"]),\n",
    "         color='deeppink', linestyle=':', linewidth=4)\n",
    "\n",
    "plt.plot(fpr[\"macro\"], tpr[\"macro\"],\n",
    "         label='macro-average ROC curve (area = {0:0.2f})'\n",
    "               ''.format(roc_auc[\"macro\"]),\n",
    "         color='navy', linestyle=':', linewidth=4)\n",
    "\n",
    "colors = cycle(['C0','C1','C2','C3'])\n",
    "for i, color in zip(range(n_classes), colors):\n",
    "    plt.plot(fpr[i], tpr[i], color=color, lw=lw,\n",
    "             label='ROC curve of class {0} (area = {1:0.2f})'\n",
    "             ''.format(i, roc_auc[i]))\n",
    "\n",
    "plt.plot([0, 1], [0, 1], 'k--', lw=lw)\n",
    "plt.xlim([0.0, 1.0])\n",
    "plt.ylim([0.0, 1.05])\n",
    "plt.xlabel('False Positive Rate')\n",
    "plt.ylabel('True Positive Rate')\n",
    "plt.title('Some extension of Receiver operating characteristic to multi-class')\n",
    "plt.legend(loc=\"lower right\")\n",
    "plt.show()\n",
    "\n",
    "\n",
    "# Zoom in view of the upper left corner.\n",
    "plt.figure(2)\n",
    "plt.xlim(0, 0.2)\n",
    "plt.ylim(0.8, 1)\n",
    "plt.plot(fpr[\"micro\"], tpr[\"micro\"],\n",
    "         label='micro-average ROC curve (area = {0:0.2f})'\n",
    "               ''.format(roc_auc[\"micro\"]),\n",
    "         color='deeppink', linestyle=':', linewidth=4)\n",
    "\n",
    "plt.plot(fpr[\"macro\"], tpr[\"macro\"],\n",
    "         label='macro-average ROC curve (area = {0:0.2f})'\n",
    "               ''.format(roc_auc[\"macro\"]),\n",
    "         color='navy', linestyle=':', linewidth=4)\n",
    "\n",
    "colors = cycle(['C0', 'C1', 'C2', 'C4'])\n",
    "for i, color in zip(range(n_classes), colors):\n",
    "    plt.plot(fpr[i], tpr[i], color=color, lw=lw,\n",
    "             label='ROC curve of class {0} (area = {1:0.2f})'\n",
    "             ''.format(i, roc_auc[i]))\n",
    "\n",
    "plt.plot([0, 1], [0, 1], 'k--', lw=lw)\n",
    "plt.xlabel('False Positive Rate')\n",
    "plt.ylabel('True Positive Rate')\n",
    "plt.title('Some extension of Receiver operating characteristic to multi-class')\n",
    "plt.legend(loc=\"lower right\")\n",
    "plt.show()"
   ]
  },
  {
   "cell_type": "code",
   "execution_count": null,
   "metadata": {
    "id": "LrOSCmCPEpDS"
   },
   "outputs": [],
   "source": []
  }
 ],
 "metadata": {
  "colab": {
   "collapsed_sections": [],
   "name": "lspred_cazy_training.ipynb",
   "provenance": [],
   "toc_visible": true
  },
  "kernelspec": {
   "display_name": "Python 3 (ipykernel)",
   "language": "python",
   "name": "python3"
  },
  "language_info": {
   "codemirror_mode": {
    "name": "ipython",
    "version": 3
   },
   "file_extension": ".py",
   "mimetype": "text/x-python",
   "name": "python",
   "nbconvert_exporter": "python",
   "pygments_lexer": "ipython3",
   "version": "3.9.6"
  }
 },
 "nbformat": 4,
 "nbformat_minor": 4
}
