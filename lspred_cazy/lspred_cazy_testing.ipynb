{
  "nbformat": 4,
  "nbformat_minor": 0,
  "metadata": {
    "kernelspec": {
      "display_name": "Python 3 (ipykernel)",
      "language": "python",
      "name": "python3"
    },
    "language_info": {
      "codemirror_mode": {
        "name": "ipython",
        "version": 3
      },
      "file_extension": ".py",
      "mimetype": "text/x-python",
      "name": "python",
      "nbconvert_exporter": "python",
      "pygments_lexer": "ipython3",
      "version": "3.9.6"
    },
    "colab": {
      "name": "lspred_cazy_testing.ipynb",
      "provenance": []
    }
  },
  "cells": [
    {
      "cell_type": "code",
      "metadata": {
        "id": "CQ8-W43qPSRe"
      },
      "source": [
        "import pandas as pd\n",
        "import glob\n",
        "import os\n",
        "import numpy as np\n",
        "\n",
        "import tensorflow as tf\n",
        "from tensorflow import keras"
      ],
      "execution_count": 1,
      "outputs": []
    },
    {
      "cell_type": "markdown",
      "metadata": {
        "id": "3TTpJ0tZPSRg"
      },
      "source": [
        "Read input files as a list."
      ]
    },
    {
      "cell_type": "code",
      "metadata": {
        "id": "-tgPv1XwPSRg"
      },
      "source": [
        "df = pd.read_csv(\"cazy_df.csv\",index_col=0)"
      ],
      "execution_count": 2,
      "outputs": []
    },
    {
      "cell_type": "code",
      "metadata": {
        "id": "BjPtn8KPPSRg"
      },
      "source": [
        "df_names = df.columns[:-1]"
      ],
      "execution_count": 3,
      "outputs": []
    },
    {
      "cell_type": "code",
      "metadata": {
        "id": "y013hkuEPSRh"
      },
      "source": [
        "d = pd.DataFrame( data={\"classes\" : df_names})"
      ],
      "execution_count": 4,
      "outputs": []
    },
    {
      "cell_type": "code",
      "metadata": {
        "jupyter": {
          "outputs_hidden": false
        },
        "pycharm": {
          "name": "#%%\n"
        },
        "id": "pQNIYZ68PSRh"
      },
      "source": [
        "t = glob.glob(\"test_files/*.tsv\") # replace this with your input files"
      ],
      "execution_count": 5,
      "outputs": []
    },
    {
      "cell_type": "code",
      "metadata": {
        "id": "9OFF-R3APSRh"
      },
      "source": [
        "classes = [\"saprotroph\",\"necrotroph\",\"hemibiotroph\",\"biotroph\"]"
      ],
      "execution_count": 6,
      "outputs": []
    },
    {
      "cell_type": "markdown",
      "metadata": {
        "id": "6ORn3XCYPSRh"
      },
      "source": [
        "Parse input files to a pandas dataframe where the rows correspond to each file and the columns to all annotations."
      ]
    },
    {
      "cell_type": "code",
      "metadata": {
        "jupyter": {
          "outputs_hidden": false
        },
        "pycharm": {
          "name": "#%%\n"
        },
        "id": "U9fgJZlMPSRh"
      },
      "source": [
        "l=[]\n",
        "for i in t:\n",
        "    r = pd.read_csv(i,\"\\t\")\n",
        "    s = r[r[\"#ofTools\"]==3].groupby(\"DIAMOND\").sum()\n",
        "    d1 = d.merge(s.reset_index(),how=\"left\",left_on=\"classes\",right_on=\"DIAMOND\").iloc[:,[0,2]]\n",
        "    d1.columns = [\"classes\",i.split(\"/\")[1]]\n",
        "    d1 = d1.transpose()\n",
        "    d1.columns = d1.iloc[0]\n",
        "    d1 = d1[1:]\n",
        "    l.append(d1)"
      ],
      "execution_count": 7,
      "outputs": []
    },
    {
      "cell_type": "code",
      "metadata": {
        "jupyter": {
          "outputs_hidden": false
        },
        "pycharm": {
          "name": "#%%\n"
        },
        "id": "922dOXq2PSRi"
      },
      "source": [
        "Xt= pd.concat(l,axis=0)"
      ],
      "execution_count": 8,
      "outputs": []
    },
    {
      "cell_type": "code",
      "metadata": {
        "id": "qpIMtmkgPSRj"
      },
      "source": [
        "# Xt = Xt.transpose()\n",
        "Xt = Xt.replace(np.nan,0).astype(int)"
      ],
      "execution_count": 9,
      "outputs": []
    },
    {
      "cell_type": "code",
      "metadata": {
        "colab": {
          "base_uri": "https://localhost:8080/",
          "height": 193
        },
        "id": "VjvYUVfXQByI",
        "outputId": "fbb08bdb-1c3b-4c4c-f05f-c26b810f08d5"
      },
      "source": [
        "Xt"
      ],
      "execution_count": 10,
      "outputs": [
        {
          "output_type": "execute_result",
          "data": {
            "text/html": [
              "<div>\n",
              "<style scoped>\n",
              "    .dataframe tbody tr th:only-of-type {\n",
              "        vertical-align: middle;\n",
              "    }\n",
              "\n",
              "    .dataframe tbody tr th {\n",
              "        vertical-align: top;\n",
              "    }\n",
              "\n",
              "    .dataframe thead th {\n",
              "        text-align: right;\n",
              "    }\n",
              "</style>\n",
              "<table border=\"1\" class=\"dataframe\">\n",
              "  <thead>\n",
              "    <tr style=\"text-align: right;\">\n",
              "      <th>classes</th>\n",
              "      <th>AA0</th>\n",
              "      <th>AA1</th>\n",
              "      <th>AA1+CBM1</th>\n",
              "      <th>AA10</th>\n",
              "      <th>AA11</th>\n",
              "      <th>AA11+1.14.99.53</th>\n",
              "      <th>AA11+CBM18</th>\n",
              "      <th>AA12</th>\n",
              "      <th>AA12+AA8</th>\n",
              "      <th>AA13</th>\n",
              "      <th>AA13+CBM20</th>\n",
              "      <th>AA13+CBM20+1.14.99.55</th>\n",
              "      <th>AA15</th>\n",
              "      <th>AA15+CBM1</th>\n",
              "      <th>AA15+GH19</th>\n",
              "      <th>AA16</th>\n",
              "      <th>AA1_1</th>\n",
              "      <th>AA1_1+1.10.3.2</th>\n",
              "      <th>AA1_2</th>\n",
              "      <th>AA1_3</th>\n",
              "      <th>AA1_3+1.10.3.-</th>\n",
              "      <th>AA1_3+1.10.3.2</th>\n",
              "      <th>AA1_3+CBM18</th>\n",
              "      <th>AA1_3+CBM20</th>\n",
              "      <th>AA2</th>\n",
              "      <th>AA2+1.11.1.13</th>\n",
              "      <th>AA2+1.11.1.14</th>\n",
              "      <th>AA2+1.11.1.16</th>\n",
              "      <th>AA3</th>\n",
              "      <th>AA3_1</th>\n",
              "      <th>AA3_1+AA8</th>\n",
              "      <th>AA3_1+AA8+1.1.99.18</th>\n",
              "      <th>AA3_1+AA8+CBM1</th>\n",
              "      <th>AA3_1+AA8+CBM1+1.1.99.18</th>\n",
              "      <th>AA3_2</th>\n",
              "      <th>AA3_2+1.1.3.4</th>\n",
              "      <th>AA3_2+1.1.3.7</th>\n",
              "      <th>AA3_2+1.1.99.29</th>\n",
              "      <th>AA3_2+CBM1</th>\n",
              "      <th>AA3_3</th>\n",
              "      <th>...</th>\n",
              "      <th>GT73</th>\n",
              "      <th>GT76</th>\n",
              "      <th>GT8</th>\n",
              "      <th>GT8+2.4.1.186</th>\n",
              "      <th>GT90</th>\n",
              "      <th>GT91</th>\n",
              "      <th>PL1</th>\n",
              "      <th>PL11_1</th>\n",
              "      <th>PL11_2</th>\n",
              "      <th>PL14</th>\n",
              "      <th>PL14_3</th>\n",
              "      <th>PL14_4</th>\n",
              "      <th>PL14_5</th>\n",
              "      <th>PL15_1</th>\n",
              "      <th>PL1_10</th>\n",
              "      <th>PL1_2</th>\n",
              "      <th>PL1_3</th>\n",
              "      <th>PL1_4</th>\n",
              "      <th>PL1_4+4.2.2.10</th>\n",
              "      <th>PL1_7</th>\n",
              "      <th>PL1_7+4.2.2.2</th>\n",
              "      <th>PL1_8</th>\n",
              "      <th>PL1_9</th>\n",
              "      <th>PL20</th>\n",
              "      <th>PL20+4.2.2.14</th>\n",
              "      <th>PL26</th>\n",
              "      <th>PL27</th>\n",
              "      <th>PL33_2</th>\n",
              "      <th>PL35</th>\n",
              "      <th>PL3_2</th>\n",
              "      <th>PL3_2+4.2.2.2</th>\n",
              "      <th>PL4_1</th>\n",
              "      <th>PL4_1+4.2.2.23</th>\n",
              "      <th>PL4_3</th>\n",
              "      <th>PL4_3+4.2.2.23</th>\n",
              "      <th>PL4_5</th>\n",
              "      <th>PL7_4</th>\n",
              "      <th>PL9_1</th>\n",
              "      <th>PL9_2</th>\n",
              "      <th>PL9_3</th>\n",
              "    </tr>\n",
              "  </thead>\n",
              "  <tbody>\n",
              "    <tr>\n",
              "      <th>Albugo_laibachii.ENA1_B.tsv</th>\n",
              "      <td>0</td>\n",
              "      <td>3</td>\n",
              "      <td>0</td>\n",
              "      <td>0</td>\n",
              "      <td>0</td>\n",
              "      <td>0</td>\n",
              "      <td>0</td>\n",
              "      <td>0</td>\n",
              "      <td>0</td>\n",
              "      <td>0</td>\n",
              "      <td>0</td>\n",
              "      <td>0</td>\n",
              "      <td>0</td>\n",
              "      <td>0</td>\n",
              "      <td>0</td>\n",
              "      <td>0</td>\n",
              "      <td>0</td>\n",
              "      <td>0</td>\n",
              "      <td>0</td>\n",
              "      <td>0</td>\n",
              "      <td>0</td>\n",
              "      <td>0</td>\n",
              "      <td>0</td>\n",
              "      <td>0</td>\n",
              "      <td>0</td>\n",
              "      <td>0</td>\n",
              "      <td>0</td>\n",
              "      <td>0</td>\n",
              "      <td>0</td>\n",
              "      <td>0</td>\n",
              "      <td>0</td>\n",
              "      <td>0</td>\n",
              "      <td>0</td>\n",
              "      <td>0</td>\n",
              "      <td>3</td>\n",
              "      <td>0</td>\n",
              "      <td>0</td>\n",
              "      <td>0</td>\n",
              "      <td>0</td>\n",
              "      <td>0</td>\n",
              "      <td>...</td>\n",
              "      <td>0</td>\n",
              "      <td>0</td>\n",
              "      <td>0</td>\n",
              "      <td>0</td>\n",
              "      <td>0</td>\n",
              "      <td>0</td>\n",
              "      <td>0</td>\n",
              "      <td>0</td>\n",
              "      <td>0</td>\n",
              "      <td>0</td>\n",
              "      <td>0</td>\n",
              "      <td>0</td>\n",
              "      <td>0</td>\n",
              "      <td>0</td>\n",
              "      <td>0</td>\n",
              "      <td>0</td>\n",
              "      <td>0</td>\n",
              "      <td>0</td>\n",
              "      <td>0</td>\n",
              "      <td>0</td>\n",
              "      <td>0</td>\n",
              "      <td>0</td>\n",
              "      <td>0</td>\n",
              "      <td>0</td>\n",
              "      <td>0</td>\n",
              "      <td>0</td>\n",
              "      <td>0</td>\n",
              "      <td>0</td>\n",
              "      <td>0</td>\n",
              "      <td>0</td>\n",
              "      <td>0</td>\n",
              "      <td>0</td>\n",
              "      <td>0</td>\n",
              "      <td>0</td>\n",
              "      <td>0</td>\n",
              "      <td>0</td>\n",
              "      <td>0</td>\n",
              "      <td>0</td>\n",
              "      <td>0</td>\n",
              "      <td>0</td>\n",
              "    </tr>\n",
              "    <tr>\n",
              "      <th>GCA_000002495.2.tsv</th>\n",
              "      <td>3</td>\n",
              "      <td>3</td>\n",
              "      <td>0</td>\n",
              "      <td>0</td>\n",
              "      <td>15</td>\n",
              "      <td>0</td>\n",
              "      <td>0</td>\n",
              "      <td>12</td>\n",
              "      <td>0</td>\n",
              "      <td>0</td>\n",
              "      <td>3</td>\n",
              "      <td>0</td>\n",
              "      <td>0</td>\n",
              "      <td>0</td>\n",
              "      <td>0</td>\n",
              "      <td>3</td>\n",
              "      <td>0</td>\n",
              "      <td>0</td>\n",
              "      <td>6</td>\n",
              "      <td>18</td>\n",
              "      <td>0</td>\n",
              "      <td>0</td>\n",
              "      <td>0</td>\n",
              "      <td>0</td>\n",
              "      <td>6</td>\n",
              "      <td>0</td>\n",
              "      <td>0</td>\n",
              "      <td>0</td>\n",
              "      <td>9</td>\n",
              "      <td>9</td>\n",
              "      <td>3</td>\n",
              "      <td>0</td>\n",
              "      <td>3</td>\n",
              "      <td>0</td>\n",
              "      <td>30</td>\n",
              "      <td>0</td>\n",
              "      <td>0</td>\n",
              "      <td>0</td>\n",
              "      <td>0</td>\n",
              "      <td>6</td>\n",
              "      <td>...</td>\n",
              "      <td>0</td>\n",
              "      <td>3</td>\n",
              "      <td>6</td>\n",
              "      <td>0</td>\n",
              "      <td>15</td>\n",
              "      <td>0</td>\n",
              "      <td>0</td>\n",
              "      <td>0</td>\n",
              "      <td>0</td>\n",
              "      <td>0</td>\n",
              "      <td>0</td>\n",
              "      <td>0</td>\n",
              "      <td>0</td>\n",
              "      <td>0</td>\n",
              "      <td>3</td>\n",
              "      <td>0</td>\n",
              "      <td>0</td>\n",
              "      <td>0</td>\n",
              "      <td>0</td>\n",
              "      <td>3</td>\n",
              "      <td>0</td>\n",
              "      <td>0</td>\n",
              "      <td>0</td>\n",
              "      <td>3</td>\n",
              "      <td>0</td>\n",
              "      <td>3</td>\n",
              "      <td>0</td>\n",
              "      <td>0</td>\n",
              "      <td>0</td>\n",
              "      <td>3</td>\n",
              "      <td>0</td>\n",
              "      <td>0</td>\n",
              "      <td>0</td>\n",
              "      <td>3</td>\n",
              "      <td>0</td>\n",
              "      <td>0</td>\n",
              "      <td>0</td>\n",
              "      <td>0</td>\n",
              "      <td>0</td>\n",
              "      <td>0</td>\n",
              "    </tr>\n",
              "    <tr>\n",
              "      <th>GCA_000002525.1.tsv</th>\n",
              "      <td>0</td>\n",
              "      <td>3</td>\n",
              "      <td>0</td>\n",
              "      <td>0</td>\n",
              "      <td>0</td>\n",
              "      <td>0</td>\n",
              "      <td>0</td>\n",
              "      <td>0</td>\n",
              "      <td>0</td>\n",
              "      <td>0</td>\n",
              "      <td>0</td>\n",
              "      <td>0</td>\n",
              "      <td>0</td>\n",
              "      <td>0</td>\n",
              "      <td>0</td>\n",
              "      <td>0</td>\n",
              "      <td>0</td>\n",
              "      <td>0</td>\n",
              "      <td>6</td>\n",
              "      <td>0</td>\n",
              "      <td>0</td>\n",
              "      <td>0</td>\n",
              "      <td>0</td>\n",
              "      <td>0</td>\n",
              "      <td>0</td>\n",
              "      <td>0</td>\n",
              "      <td>0</td>\n",
              "      <td>0</td>\n",
              "      <td>0</td>\n",
              "      <td>0</td>\n",
              "      <td>0</td>\n",
              "      <td>0</td>\n",
              "      <td>0</td>\n",
              "      <td>0</td>\n",
              "      <td>3</td>\n",
              "      <td>0</td>\n",
              "      <td>0</td>\n",
              "      <td>0</td>\n",
              "      <td>0</td>\n",
              "      <td>0</td>\n",
              "      <td>...</td>\n",
              "      <td>0</td>\n",
              "      <td>3</td>\n",
              "      <td>6</td>\n",
              "      <td>0</td>\n",
              "      <td>0</td>\n",
              "      <td>0</td>\n",
              "      <td>0</td>\n",
              "      <td>0</td>\n",
              "      <td>0</td>\n",
              "      <td>0</td>\n",
              "      <td>0</td>\n",
              "      <td>0</td>\n",
              "      <td>0</td>\n",
              "      <td>0</td>\n",
              "      <td>0</td>\n",
              "      <td>0</td>\n",
              "      <td>0</td>\n",
              "      <td>0</td>\n",
              "      <td>0</td>\n",
              "      <td>0</td>\n",
              "      <td>0</td>\n",
              "      <td>0</td>\n",
              "      <td>0</td>\n",
              "      <td>0</td>\n",
              "      <td>0</td>\n",
              "      <td>0</td>\n",
              "      <td>0</td>\n",
              "      <td>0</td>\n",
              "      <td>0</td>\n",
              "      <td>0</td>\n",
              "      <td>0</td>\n",
              "      <td>0</td>\n",
              "      <td>0</td>\n",
              "      <td>0</td>\n",
              "      <td>0</td>\n",
              "      <td>0</td>\n",
              "      <td>0</td>\n",
              "      <td>0</td>\n",
              "      <td>0</td>\n",
              "      <td>0</td>\n",
              "    </tr>\n",
              "  </tbody>\n",
              "</table>\n",
              "<p>3 rows × 593 columns</p>\n",
              "</div>"
            ],
            "text/plain": [
              "classes                      AA0  AA1  AA1+CBM1  ...  PL9_1  PL9_2  PL9_3\n",
              "Albugo_laibachii.ENA1_B.tsv    0    3         0  ...      0      0      0\n",
              "GCA_000002495.2.tsv            3    3         0  ...      0      0      0\n",
              "GCA_000002525.1.tsv            0    3         0  ...      0      0      0\n",
              "\n",
              "[3 rows x 593 columns]"
            ]
          },
          "metadata": {
            "tags": []
          },
          "execution_count": 10
        }
      ]
    },
    {
      "cell_type": "markdown",
      "metadata": {
        "id": "jXPaIWl1PSRj"
      },
      "source": [
        "Read model."
      ]
    },
    {
      "cell_type": "code",
      "metadata": {
        "id": "HGQj-UoBPSRj"
      },
      "source": [
        "model = tf.keras.models.load_model('lspred_6_6_21.h5')"
      ],
      "execution_count": 11,
      "outputs": []
    },
    {
      "cell_type": "code",
      "metadata": {
        "colab": {
          "base_uri": "https://localhost:8080/"
        },
        "id": "TDTo1aBDPSRj",
        "outputId": "cac6b9c7-5bfb-4210-8c9a-06297086fce3"
      },
      "source": [
        "model.summary()"
      ],
      "execution_count": 12,
      "outputs": [
        {
          "output_type": "stream",
          "text": [
            "Model: \"sequential\"\n",
            "_________________________________________________________________\n",
            "Layer (type)                 Output Shape              Param #   \n",
            "=================================================================\n",
            "dense (Dense)                (None, 593)               352242    \n",
            "_________________________________________________________________\n",
            "dense_1 (Dense)              (None, 512)               304128    \n",
            "_________________________________________________________________\n",
            "dense_2 (Dense)              (None, 480)               246240    \n",
            "_________________________________________________________________\n",
            "dense_3 (Dense)              (None, 4)                 1924      \n",
            "=================================================================\n",
            "Total params: 904,534\n",
            "Trainable params: 904,534\n",
            "Non-trainable params: 0\n",
            "_________________________________________________________________\n"
          ],
          "name": "stdout"
        }
      ]
    },
    {
      "cell_type": "markdown",
      "metadata": {
        "id": "XrGVISzgPSRj"
      },
      "source": [
        "Run predict method on the model to get probabilities for all output classes."
      ]
    },
    {
      "cell_type": "code",
      "metadata": {
        "id": "QbPRsiJcPSRk"
      },
      "source": [
        "pred = model.predict(Xt)"
      ],
      "execution_count": 13,
      "outputs": []
    },
    {
      "cell_type": "code",
      "metadata": {
        "colab": {
          "base_uri": "https://localhost:8080/"
        },
        "id": "N14SjT1TPSRk",
        "outputId": "18582eb9-ac7c-4969-b8e5-b01246aaab0a"
      },
      "source": [
        "print(classes)\n",
        "print(pred)"
      ],
      "execution_count": 14,
      "outputs": [
        {
          "output_type": "stream",
          "text": [
            "['saprotroph', 'necrotroph', 'hemibiotroph', 'biotroph']\n",
            "[[1.4210328e-11 1.3124628e-06 1.1535585e-15 9.9999869e-01]\n",
            " [1.2182017e-16 8.3954603e-19 1.0000000e+00 6.5379519e-16]\n",
            " [1.0000000e+00 6.6392282e-19 5.5925851e-18 5.2694670e-13]]\n"
          ],
          "name": "stdout"
        }
      ]
    },
    {
      "cell_type": "markdown",
      "metadata": {
        "id": "3IG9BJaiPSRk"
      },
      "source": [
        "Format probabilities in a dataframe."
      ]
    },
    {
      "cell_type": "code",
      "metadata": {
        "colab": {
          "base_uri": "https://localhost:8080/",
          "height": 143
        },
        "id": "QivsTBHzPSRk",
        "outputId": "9ebde25f-8578-4a3c-a3a5-17501cac9278"
      },
      "source": [
        "p = pd.DataFrame(pred)\n",
        "p.columns = classes\n",
        "p.index = Xt.index\n",
        "p"
      ],
      "execution_count": 15,
      "outputs": [
        {
          "output_type": "execute_result",
          "data": {
            "text/html": [
              "<div>\n",
              "<style scoped>\n",
              "    .dataframe tbody tr th:only-of-type {\n",
              "        vertical-align: middle;\n",
              "    }\n",
              "\n",
              "    .dataframe tbody tr th {\n",
              "        vertical-align: top;\n",
              "    }\n",
              "\n",
              "    .dataframe thead th {\n",
              "        text-align: right;\n",
              "    }\n",
              "</style>\n",
              "<table border=\"1\" class=\"dataframe\">\n",
              "  <thead>\n",
              "    <tr style=\"text-align: right;\">\n",
              "      <th></th>\n",
              "      <th>saprotroph</th>\n",
              "      <th>necrotroph</th>\n",
              "      <th>hemibiotroph</th>\n",
              "      <th>biotroph</th>\n",
              "    </tr>\n",
              "  </thead>\n",
              "  <tbody>\n",
              "    <tr>\n",
              "      <th>Albugo_laibachii.ENA1_B.tsv</th>\n",
              "      <td>1.421033e-11</td>\n",
              "      <td>1.312463e-06</td>\n",
              "      <td>1.153559e-15</td>\n",
              "      <td>9.999987e-01</td>\n",
              "    </tr>\n",
              "    <tr>\n",
              "      <th>GCA_000002495.2.tsv</th>\n",
              "      <td>1.218202e-16</td>\n",
              "      <td>8.395460e-19</td>\n",
              "      <td>1.000000e+00</td>\n",
              "      <td>6.537952e-16</td>\n",
              "    </tr>\n",
              "    <tr>\n",
              "      <th>GCA_000002525.1.tsv</th>\n",
              "      <td>1.000000e+00</td>\n",
              "      <td>6.639228e-19</td>\n",
              "      <td>5.592585e-18</td>\n",
              "      <td>5.269467e-13</td>\n",
              "    </tr>\n",
              "  </tbody>\n",
              "</table>\n",
              "</div>"
            ],
            "text/plain": [
              "                               saprotroph  ...      biotroph\n",
              "Albugo_laibachii.ENA1_B.tsv  1.421033e-11  ...  9.999987e-01\n",
              "GCA_000002495.2.tsv          1.218202e-16  ...  6.537952e-16\n",
              "GCA_000002525.1.tsv          1.000000e+00  ...  5.269467e-13\n",
              "\n",
              "[3 rows x 4 columns]"
            ]
          },
          "metadata": {
            "tags": []
          },
          "execution_count": 15
        }
      ]
    },
    {
      "cell_type": "code",
      "metadata": {
        "id": "ZWcLV-2UQXPA"
      },
      "source": [
        ""
      ],
      "execution_count": null,
      "outputs": []
    }
  ]
}