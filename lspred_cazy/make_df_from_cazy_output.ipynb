{
 "cells": [
  {
   "cell_type": "code",
   "execution_count": 1,
   "id": "d3fb1211-235f-4ce5-8751-ce23eb631fb4",
   "metadata": {},
   "outputs": [
    {
     "data": {
      "text/plain": [
       "10"
      ]
     },
     "execution_count": 1,
     "metadata": {},
     "output_type": "execute_result"
    }
   ],
   "source": [
    "using DataFrames, CSV, Pipe\n",
    "ENV[\"COLUMNS\"] =200\n",
    "ENV[\"LINES\"] = 10"
   ]
  },
  {
   "cell_type": "code",
   "execution_count": 2,
   "id": "b6d5ec99-05a9-4849-8835-369d369409f1",
   "metadata": {
    "collapsed": true,
    "jupyter": {
     "outputs_hidden": true
    },
    "tags": []
   },
   "outputs": [
    {
     "name": "stderr",
     "output_type": "stream",
     "text": [
      "┌ Warning: thread = 1 warning: only found 5 / 6 columns around data row: 2. Filling remaining columns with `missing`\n",
      "└ @ CSV /Users/danielgomezperez/.julia/packages/CSV/Zl2ww/src/file.jl:612\n",
      "┌ Warning: thread = 1 warning: only found 5 / 6 columns around data row: 3. Filling remaining columns with `missing`\n",
      "└ @ CSV /Users/danielgomezperez/.julia/packages/CSV/Zl2ww/src/file.jl:612\n",
      "┌ Warning: thread = 1 warning: only found 5 / 6 columns around data row: 4. Filling remaining columns with `missing`\n",
      "└ @ CSV /Users/danielgomezperez/.julia/packages/CSV/Zl2ww/src/file.jl:612\n",
      "┌ Warning: thread = 1 warning: only found 5 / 6 columns around data row: 5. Filling remaining columns with `missing`\n",
      "└ @ CSV /Users/danielgomezperez/.julia/packages/CSV/Zl2ww/src/file.jl:612\n",
      "┌ Warning: thread = 1 warning: only found 5 / 6 columns around data row: 12. Filling remaining columns with `missing`\n",
      "└ @ CSV /Users/danielgomezperez/.julia/packages/CSV/Zl2ww/src/file.jl:612\n",
      "┌ Warning: thread = 1 warning: only found 5 / 6 columns around data row: 15. Filling remaining columns with `missing`\n",
      "└ @ CSV /Users/danielgomezperez/.julia/packages/CSV/Zl2ww/src/file.jl:612\n",
      "┌ Warning: thread = 1 warning: only found 5 / 6 columns around data row: 17. Filling remaining columns with `missing`\n",
      "└ @ CSV /Users/danielgomezperez/.julia/packages/CSV/Zl2ww/src/file.jl:612\n",
      "┌ Warning: thread = 1 warning: only found 5 / 6 columns around data row: 19. Filling remaining columns with `missing`\n",
      "└ @ CSV /Users/danielgomezperez/.julia/packages/CSV/Zl2ww/src/file.jl:612\n",
      "┌ Warning: thread = 1 warning: only found 5 / 6 columns around data row: 21. Filling remaining columns with `missing`\n",
      "└ @ CSV /Users/danielgomezperez/.julia/packages/CSV/Zl2ww/src/file.jl:612\n",
      "┌ Warning: thread = 1 warning: only found 5 / 6 columns around data row: 23. Filling remaining columns with `missing`\n",
      "└ @ CSV /Users/danielgomezperez/.julia/packages/CSV/Zl2ww/src/file.jl:612\n",
      "┌ Warning: thread = 1 warning: only found 5 / 6 columns around data row: 28. Filling remaining columns with `missing`\n",
      "└ @ CSV /Users/danielgomezperez/.julia/packages/CSV/Zl2ww/src/file.jl:612\n",
      "┌ Warning: thread = 1 warning: only found 5 / 6 columns around data row: 32. Filling remaining columns with `missing`\n",
      "└ @ CSV /Users/danielgomezperez/.julia/packages/CSV/Zl2ww/src/file.jl:612\n",
      "┌ Warning: thread = 1 warning: only found 5 / 6 columns around data row: 33. Filling remaining columns with `missing`\n",
      "└ @ CSV /Users/danielgomezperez/.julia/packages/CSV/Zl2ww/src/file.jl:612\n",
      "┌ Warning: thread = 1 warning: only found 5 / 6 columns around data row: 35. Filling remaining columns with `missing`\n",
      "└ @ CSV /Users/danielgomezperez/.julia/packages/CSV/Zl2ww/src/file.jl:612\n",
      "┌ Warning: thread = 1 warning: only found 5 / 6 columns around data row: 36. Filling remaining columns with `missing`\n",
      "└ @ CSV /Users/danielgomezperez/.julia/packages/CSV/Zl2ww/src/file.jl:612\n",
      "┌ Warning: thread = 1 warning: only found 5 / 6 columns around data row: 38. Filling remaining columns with `missing`\n",
      "└ @ CSV /Users/danielgomezperez/.julia/packages/CSV/Zl2ww/src/file.jl:612\n",
      "┌ Warning: thread = 1 warning: only found 5 / 6 columns around data row: 39. Filling remaining columns with `missing`\n",
      "└ @ CSV /Users/danielgomezperez/.julia/packages/CSV/Zl2ww/src/file.jl:612\n",
      "┌ Warning: thread = 1 warning: only found 5 / 6 columns around data row: 40. Filling remaining columns with `missing`\n",
      "└ @ CSV /Users/danielgomezperez/.julia/packages/CSV/Zl2ww/src/file.jl:612\n",
      "┌ Warning: thread = 1 warning: only found 5 / 6 columns around data row: 42. Filling remaining columns with `missing`\n",
      "└ @ CSV /Users/danielgomezperez/.julia/packages/CSV/Zl2ww/src/file.jl:612\n",
      "┌ Warning: thread = 1 warning: only found 5 / 6 columns around data row: 48. Filling remaining columns with `missing`\n",
      "└ @ CSV /Users/danielgomezperez/.julia/packages/CSV/Zl2ww/src/file.jl:612\n",
      "┌ Warning: thread = 1 warning: only found 5 / 6 columns around data row: 49. Filling remaining columns with `missing`\n",
      "└ @ CSV /Users/danielgomezperez/.julia/packages/CSV/Zl2ww/src/file.jl:612\n",
      "┌ Warning: thread = 1 warning: only found 5 / 6 columns around data row: 50. Filling remaining columns with `missing`\n",
      "└ @ CSV /Users/danielgomezperez/.julia/packages/CSV/Zl2ww/src/file.jl:612\n",
      "┌ Warning: thread = 1 warning: only found 5 / 6 columns around data row: 52. Filling remaining columns with `missing`\n",
      "└ @ CSV /Users/danielgomezperez/.julia/packages/CSV/Zl2ww/src/file.jl:612\n",
      "┌ Warning: thread = 1 warning: only found 5 / 6 columns around data row: 55. Filling remaining columns with `missing`\n",
      "└ @ CSV /Users/danielgomezperez/.julia/packages/CSV/Zl2ww/src/file.jl:612\n",
      "┌ Warning: thread = 1 warning: only found 5 / 6 columns around data row: 58. Filling remaining columns with `missing`\n",
      "└ @ CSV /Users/danielgomezperez/.julia/packages/CSV/Zl2ww/src/file.jl:612\n",
      "┌ Warning: thread = 1 warning: only found 5 / 6 columns around data row: 59. Filling remaining columns with `missing`\n",
      "└ @ CSV /Users/danielgomezperez/.julia/packages/CSV/Zl2ww/src/file.jl:612\n",
      "┌ Warning: thread = 1 warning: only found 5 / 6 columns around data row: 60. Filling remaining columns with `missing`\n",
      "└ @ CSV /Users/danielgomezperez/.julia/packages/CSV/Zl2ww/src/file.jl:612\n",
      "┌ Warning: thread = 1 warning: only found 5 / 6 columns around data row: 61. Filling remaining columns with `missing`\n",
      "└ @ CSV /Users/danielgomezperez/.julia/packages/CSV/Zl2ww/src/file.jl:612\n",
      "┌ Warning: thread = 1 warning: only found 5 / 6 columns around data row: 62. Filling remaining columns with `missing`\n",
      "└ @ CSV /Users/danielgomezperez/.julia/packages/CSV/Zl2ww/src/file.jl:612\n",
      "┌ Warning: thread = 1 warning: only found 5 / 6 columns around data row: 65. Filling remaining columns with `missing`\n",
      "└ @ CSV /Users/danielgomezperez/.julia/packages/CSV/Zl2ww/src/file.jl:612\n",
      "┌ Warning: thread = 1 warning: only found 5 / 6 columns around data row: 66. Filling remaining columns with `missing`\n",
      "└ @ CSV /Users/danielgomezperez/.julia/packages/CSV/Zl2ww/src/file.jl:612\n",
      "┌ Warning: thread = 1 warning: only found 5 / 6 columns around data row: 68. Filling remaining columns with `missing`\n",
      "└ @ CSV /Users/danielgomezperez/.julia/packages/CSV/Zl2ww/src/file.jl:612\n",
      "┌ Warning: thread = 1 warning: only found 5 / 6 columns around data row: 76. Filling remaining columns with `missing`\n",
      "└ @ CSV /Users/danielgomezperez/.julia/packages/CSV/Zl2ww/src/file.jl:612\n",
      "┌ Warning: thread = 1 warning: only found 5 / 6 columns around data row: 85. Filling remaining columns with `missing`\n",
      "└ @ CSV /Users/danielgomezperez/.julia/packages/CSV/Zl2ww/src/file.jl:612\n",
      "┌ Warning: thread = 1 warning: only found 5 / 6 columns around data row: 86. Filling remaining columns with `missing`\n",
      "└ @ CSV /Users/danielgomezperez/.julia/packages/CSV/Zl2ww/src/file.jl:612\n",
      "┌ Warning: thread = 1 warning: only found 5 / 6 columns around data row: 87. Filling remaining columns with `missing`\n",
      "└ @ CSV /Users/danielgomezperez/.julia/packages/CSV/Zl2ww/src/file.jl:612\n",
      "┌ Warning: thread = 1 warning: only found 5 / 6 columns around data row: 88. Filling remaining columns with `missing`\n",
      "└ @ CSV /Users/danielgomezperez/.julia/packages/CSV/Zl2ww/src/file.jl:612\n",
      "┌ Warning: thread = 1 warning: only found 4 / 6 columns around data row: 89. Filling remaining columns with `missing`\n",
      "└ @ CSV /Users/danielgomezperez/.julia/packages/CSV/Zl2ww/src/file.jl:612\n",
      "┌ Warning: thread = 1 warning: only found 4 / 6 columns around data row: 90. Filling remaining columns with `missing`\n",
      "└ @ CSV /Users/danielgomezperez/.julia/packages/CSV/Zl2ww/src/file.jl:612\n",
      "┌ Warning: thread = 1 warning: only found 5 / 6 columns around data row: 91. Filling remaining columns with `missing`\n",
      "└ @ CSV /Users/danielgomezperez/.julia/packages/CSV/Zl2ww/src/file.jl:612\n",
      "┌ Warning: thread = 1 warning: only found 4 / 6 columns around data row: 92. Filling remaining columns with `missing`\n",
      "└ @ CSV /Users/danielgomezperez/.julia/packages/CSV/Zl2ww/src/file.jl:612\n",
      "┌ Warning: thread = 1 warning: only found 5 / 6 columns around data row: 93. Filling remaining columns with `missing`\n",
      "└ @ CSV /Users/danielgomezperez/.julia/packages/CSV/Zl2ww/src/file.jl:612\n",
      "┌ Warning: thread = 1 warning: only found 5 / 6 columns around data row: 94. Filling remaining columns with `missing`\n",
      "└ @ CSV /Users/danielgomezperez/.julia/packages/CSV/Zl2ww/src/file.jl:612\n",
      "┌ Warning: thread = 1 warning: only found 5 / 6 columns around data row: 95. Filling remaining columns with `missing`\n",
      "└ @ CSV /Users/danielgomezperez/.julia/packages/CSV/Zl2ww/src/file.jl:612\n",
      "┌ Warning: thread = 1 warning: only found 5 / 6 columns around data row: 96. Filling remaining columns with `missing`\n",
      "└ @ CSV /Users/danielgomezperez/.julia/packages/CSV/Zl2ww/src/file.jl:612\n",
      "┌ Warning: thread = 1 warning: only found 5 / 6 columns around data row: 97. Filling remaining columns with `missing`\n",
      "└ @ CSV /Users/danielgomezperez/.julia/packages/CSV/Zl2ww/src/file.jl:612\n",
      "┌ Warning: thread = 1 warning: only found 5 / 6 columns around data row: 98. Filling remaining columns with `missing`\n",
      "└ @ CSV /Users/danielgomezperez/.julia/packages/CSV/Zl2ww/src/file.jl:612\n",
      "┌ Warning: thread = 1 warning: only found 5 / 6 columns around data row: 99. Filling remaining columns with `missing`\n",
      "└ @ CSV /Users/danielgomezperez/.julia/packages/CSV/Zl2ww/src/file.jl:612\n",
      "┌ Warning: thread = 1 warning: only found 5 / 6 columns around data row: 100. Filling remaining columns with `missing`\n",
      "└ @ CSV /Users/danielgomezperez/.julia/packages/CSV/Zl2ww/src/file.jl:612\n",
      "┌ Warning: thread = 1 warning: only found 5 / 6 columns around data row: 101. Filling remaining columns with `missing`\n",
      "└ @ CSV /Users/danielgomezperez/.julia/packages/CSV/Zl2ww/src/file.jl:612\n",
      "┌ Warning: thread = 1 warning: only found 5 / 6 columns around data row: 102. Filling remaining columns with `missing`\n",
      "└ @ CSV /Users/danielgomezperez/.julia/packages/CSV/Zl2ww/src/file.jl:612\n",
      "┌ Warning: thread = 1 warning: only found 5 / 6 columns around data row: 103. Filling remaining columns with `missing`\n",
      "└ @ CSV /Users/danielgomezperez/.julia/packages/CSV/Zl2ww/src/file.jl:612\n",
      "┌ Warning: thread = 1 warning: only found 5 / 6 columns around data row: 104. Filling remaining columns with `missing`\n",
      "└ @ CSV /Users/danielgomezperez/.julia/packages/CSV/Zl2ww/src/file.jl:612\n",
      "┌ Warning: thread = 1 warning: only found 5 / 6 columns around data row: 105. Filling remaining columns with `missing`\n",
      "└ @ CSV /Users/danielgomezperez/.julia/packages/CSV/Zl2ww/src/file.jl:612\n",
      "┌ Warning: thread = 1 warning: only found 5 / 6 columns around data row: 106. Filling remaining columns with `missing`\n",
      "└ @ CSV /Users/danielgomezperez/.julia/packages/CSV/Zl2ww/src/file.jl:612\n",
      "┌ Warning: thread = 1 warning: only found 5 / 6 columns around data row: 107. Filling remaining columns with `missing`\n",
      "└ @ CSV /Users/danielgomezperez/.julia/packages/CSV/Zl2ww/src/file.jl:612\n",
      "┌ Warning: thread = 1 warning: only found 5 / 6 columns around data row: 108. Filling remaining columns with `missing`\n",
      "└ @ CSV /Users/danielgomezperez/.julia/packages/CSV/Zl2ww/src/file.jl:612\n",
      "┌ Warning: thread = 1 warning: only found 5 / 6 columns around data row: 109. Filling remaining columns with `missing`\n",
      "└ @ CSV /Users/danielgomezperez/.julia/packages/CSV/Zl2ww/src/file.jl:612\n",
      "┌ Warning: thread = 1 warning: only found 5 / 6 columns around data row: 110. Filling remaining columns with `missing`\n",
      "└ @ CSV /Users/danielgomezperez/.julia/packages/CSV/Zl2ww/src/file.jl:612\n",
      "┌ Warning: thread = 1 warning: only found 5 / 6 columns around data row: 111. Filling remaining columns with `missing`\n",
      "└ @ CSV /Users/danielgomezperez/.julia/packages/CSV/Zl2ww/src/file.jl:612\n",
      "┌ Warning: thread = 1 warning: only found 5 / 6 columns around data row: 112. Filling remaining columns with `missing`\n",
      "└ @ CSV /Users/danielgomezperez/.julia/packages/CSV/Zl2ww/src/file.jl:612\n",
      "┌ Warning: thread = 1 warning: only found 5 / 6 columns around data row: 113. Filling remaining columns with `missing`\n",
      "└ @ CSV /Users/danielgomezperez/.julia/packages/CSV/Zl2ww/src/file.jl:612\n",
      "┌ Warning: thread = 1 warning: only found 5 / 6 columns around data row: 114. Filling remaining columns with `missing`\n",
      "└ @ CSV /Users/danielgomezperez/.julia/packages/CSV/Zl2ww/src/file.jl:612\n",
      "┌ Warning: thread = 1 warning: only found 5 / 6 columns around data row: 115. Filling remaining columns with `missing`\n",
      "└ @ CSV /Users/danielgomezperez/.julia/packages/CSV/Zl2ww/src/file.jl:612\n",
      "┌ Warning: thread = 1 warning: only found 5 / 6 columns around data row: 116. Filling remaining columns with `missing`\n",
      "└ @ CSV /Users/danielgomezperez/.julia/packages/CSV/Zl2ww/src/file.jl:612\n"
     ]
    },
    {
     "data": {
      "text/html": [
       "<table class=\"data-frame\"><thead><tr><th></th><th>species_name</th><th>proteomes</th><th>lifestyle</th><th>genomes</th><th>accession</th><th>alternative_name</th></tr><tr><th></th><th>String</th><th>Float64</th><th>String</th><th>Int64</th><th>String?</th><th>String?</th></tr></thead><tbody><p>115 rows × 6 columns</p><tr><th>1</th><td>Alternaria_alternata</td><td>3.0</td><td>N</td><td>1</td><td>GCA_001572055.1,GCA_001642055.1,GCA_004154755.1</td><td><em>missing</em></td></tr><tr><th>2</th><td>Alternaria_arborescens</td><td>3.0</td><td>N</td><td>1</td><td>GCA_004154815.1,GCA_004154835.1,GCA_004155955.1</td><td><em>missing</em></td></tr><tr><th>3</th><td>Alternaria_gaisen</td><td>1.0</td><td>N</td><td>1</td><td>GCA_004156025.2</td><td><em>missing</em></td></tr><tr><th>4</th><td>Alternaria_tenuissima</td><td>7.0</td><td>N</td><td>1</td><td>GCA_004154735.1,GCA_004154745.1,GCA_004154765.1,GCA_004154845.1,GCA_004156015.1,GCA_004156035.1,GCA_004168565.1</td><td><em>missing</em></td></tr><tr><th>5</th><td>Ascochyta_rabiei</td><td>1.0</td><td>N</td><td>1</td><td>GCA_001630375.1</td><td><em>missing</em></td></tr><tr><th>6</th><td>Bipolaris_zeicola</td><td>1.0</td><td>N</td><td>1</td><td>GCF_000523435.1</td><td>Cochliobolus_carbonum</td></tr><tr><th>7</th><td>Bipolaris_maydis</td><td>2.0</td><td>N</td><td>1</td><td>GCA_000338975.1,GCA_000354255.1</td><td>Cochliobolus_heterostrophus</td></tr><tr><th>8</th><td>Bipolaris_oryzae</td><td>1.0</td><td>N</td><td>1</td><td>GCA_000523455.1</td><td>Cochliobolus_miyabeanus</td></tr><tr><th>9</th><td>Bipolaris_sorokiniana</td><td>2.0</td><td>H</td><td>1</td><td>GCA_000338995.1,GCA_013416765.1</td><td>Cochliobolus_sativus</td></tr><tr><th>10</th><td>Bipolaris_victoriae</td><td>1.0</td><td>N</td><td>1</td><td>GCF_000527765.1</td><td>Cochliobolus_victoriae</td></tr><tr><th>&vellip;</th><td>&vellip;</td><td>&vellip;</td><td>&vellip;</td><td>&vellip;</td><td>&vellip;</td><td>&vellip;</td></tr></tbody></table>"
      ],
      "text/latex": [
       "\\begin{tabular}{r|cccccc}\n",
       "\t& species\\_name & proteomes & lifestyle & genomes & accession & alternative\\_name\\\\\n",
       "\t\\hline\n",
       "\t& String & Float64 & String & Int64 & String? & String?\\\\\n",
       "\t\\hline\n",
       "\t1 & Alternaria\\_alternata & 3.0 & N & 1 & GCA\\_001572055.1,GCA\\_001642055.1,GCA\\_004154755.1 & \\emph{missing} \\\\\n",
       "\t2 & Alternaria\\_arborescens & 3.0 & N & 1 & GCA\\_004154815.1,GCA\\_004154835.1,GCA\\_004155955.1 & \\emph{missing} \\\\\n",
       "\t3 & Alternaria\\_gaisen & 1.0 & N & 1 & GCA\\_004156025.2 & \\emph{missing} \\\\\n",
       "\t4 & Alternaria\\_tenuissima & 7.0 & N & 1 & GCA\\_004154735.1,GCA\\_004154745.1,GCA\\_004154765.1,GCA\\_004154845.1,GCA\\_004156015.1,GCA\\_004156035.1,GCA\\_004168565.1 & \\emph{missing} \\\\\n",
       "\t5 & Ascochyta\\_rabiei & 1.0 & N & 1 & GCA\\_001630375.1 & \\emph{missing} \\\\\n",
       "\t6 & Bipolaris\\_zeicola & 1.0 & N & 1 & GCF\\_000523435.1 & Cochliobolus\\_carbonum \\\\\n",
       "\t7 & Bipolaris\\_maydis & 2.0 & N & 1 & GCA\\_000338975.1,GCA\\_000354255.1 & Cochliobolus\\_heterostrophus \\\\\n",
       "\t8 & Bipolaris\\_oryzae & 1.0 & N & 1 & GCA\\_000523455.1 & Cochliobolus\\_miyabeanus \\\\\n",
       "\t9 & Bipolaris\\_sorokiniana & 2.0 & H & 1 & GCA\\_000338995.1,GCA\\_013416765.1 & Cochliobolus\\_sativus \\\\\n",
       "\t10 & Bipolaris\\_victoriae & 1.0 & N & 1 & GCF\\_000527765.1 & Cochliobolus\\_victoriae \\\\\n",
       "\t$\\dots$ & $\\dots$ & $\\dots$ & $\\dots$ & $\\dots$ & $\\dots$ & $\\dots$ \\\\\n",
       "\\end{tabular}\n"
      ],
      "text/plain": [
       "\u001B[1m115×6 DataFrame\u001B[0m\n",
       "\u001B[1m Row \u001B[0m│\u001B[1m species_name           \u001B[0m\u001B[1m proteomes \u001B[0m\u001B[1m lifestyle \u001B[0m\u001B[1m genomes \u001B[0m\u001B[1m accession                         \u001B[0m\u001B[1m alternative_name \u001B[0m\n",
       "\u001B[1m     \u001B[0m│\u001B[90m String                 \u001B[0m\u001B[90m Float64   \u001B[0m\u001B[90m String    \u001B[0m\u001B[90m Int64   \u001B[0m\u001B[90m String?                           \u001B[0m\u001B[90m String?          \u001B[0m\n",
       "─────┼────────────────────────────────────────────────────────────────────────────────────────────────────────────\n",
       "   1 │ Alternaria_alternata          3.0  N                1  GCA_001572055.1,GCA_001642055.1,… \u001B[90m missing          \u001B[0m\n",
       "  ⋮  │           ⋮                 ⋮          ⋮         ⋮                     ⋮                         ⋮\n",
       "\u001B[36m                                                                                                  114 rows omitted\u001B[0m"
      ]
     },
     "execution_count": 2,
     "metadata": {},
     "output_type": "execute_result"
    }
   ],
   "source": [
    "df = CSV.File(\"genome_list.tsv\", delim = \"\\t\") |> DataFrame"
   ]
  },
  {
   "cell_type": "code",
   "execution_count": 3,
   "id": "9a3baec0-4bc6-43f2-a880-5b57a2c2fdf8",
   "metadata": {
    "tags": []
   },
   "outputs": [
    {
     "data": {
      "text/html": [
       "<table class=\"data-frame\"><thead><tr><th></th><th>accession</th><th>species_name</th><th>proteomes</th><th>lifestyle</th><th>genomes</th><th>alternative_name</th></tr><tr><th></th><th>SubStri…</th><th>String</th><th>Float64</th><th>String</th><th>Int64</th><th>String?</th></tr></thead><tbody><p>320 rows × 6 columns</p><tr><th>1</th><td>GCA_001572055.1</td><td>Alternaria_alternata</td><td>3.0</td><td>N</td><td>1</td><td><em>missing</em></td></tr><tr><th>2</th><td>GCA_001642055.1</td><td>Alternaria_alternata</td><td>3.0</td><td>N</td><td>1</td><td><em>missing</em></td></tr><tr><th>3</th><td>GCA_004154755.1</td><td>Alternaria_alternata</td><td>3.0</td><td>N</td><td>1</td><td><em>missing</em></td></tr><tr><th>4</th><td>GCA_004154815.1</td><td>Alternaria_arborescens</td><td>3.0</td><td>N</td><td>1</td><td><em>missing</em></td></tr><tr><th>5</th><td>GCA_004154835.1</td><td>Alternaria_arborescens</td><td>3.0</td><td>N</td><td>1</td><td><em>missing</em></td></tr><tr><th>6</th><td>GCA_004155955.1</td><td>Alternaria_arborescens</td><td>3.0</td><td>N</td><td>1</td><td><em>missing</em></td></tr><tr><th>7</th><td>GCA_004156025.2</td><td>Alternaria_gaisen</td><td>1.0</td><td>N</td><td>1</td><td><em>missing</em></td></tr><tr><th>8</th><td>GCA_004154735.1</td><td>Alternaria_tenuissima</td><td>7.0</td><td>N</td><td>1</td><td><em>missing</em></td></tr><tr><th>9</th><td>GCA_004154745.1</td><td>Alternaria_tenuissima</td><td>7.0</td><td>N</td><td>1</td><td><em>missing</em></td></tr><tr><th>10</th><td>GCA_004154765.1</td><td>Alternaria_tenuissima</td><td>7.0</td><td>N</td><td>1</td><td><em>missing</em></td></tr><tr><th>&vellip;</th><td>&vellip;</td><td>&vellip;</td><td>&vellip;</td><td>&vellip;</td><td>&vellip;</td><td>&vellip;</td></tr></tbody></table>"
      ],
      "text/latex": [
       "\\begin{tabular}{r|cccccc}\n",
       "\t& accession & species\\_name & proteomes & lifestyle & genomes & alternative\\_name\\\\\n",
       "\t\\hline\n",
       "\t& SubStri… & String & Float64 & String & Int64 & String?\\\\\n",
       "\t\\hline\n",
       "\t1 & GCA\\_001572055.1 & Alternaria\\_alternata & 3.0 & N & 1 & \\emph{missing} \\\\\n",
       "\t2 & GCA\\_001642055.1 & Alternaria\\_alternata & 3.0 & N & 1 & \\emph{missing} \\\\\n",
       "\t3 & GCA\\_004154755.1 & Alternaria\\_alternata & 3.0 & N & 1 & \\emph{missing} \\\\\n",
       "\t4 & GCA\\_004154815.1 & Alternaria\\_arborescens & 3.0 & N & 1 & \\emph{missing} \\\\\n",
       "\t5 & GCA\\_004154835.1 & Alternaria\\_arborescens & 3.0 & N & 1 & \\emph{missing} \\\\\n",
       "\t6 & GCA\\_004155955.1 & Alternaria\\_arborescens & 3.0 & N & 1 & \\emph{missing} \\\\\n",
       "\t7 & GCA\\_004156025.2 & Alternaria\\_gaisen & 1.0 & N & 1 & \\emph{missing} \\\\\n",
       "\t8 & GCA\\_004154735.1 & Alternaria\\_tenuissima & 7.0 & N & 1 & \\emph{missing} \\\\\n",
       "\t9 & GCA\\_004154745.1 & Alternaria\\_tenuissima & 7.0 & N & 1 & \\emph{missing} \\\\\n",
       "\t10 & GCA\\_004154765.1 & Alternaria\\_tenuissima & 7.0 & N & 1 & \\emph{missing} \\\\\n",
       "\t$\\dots$ & $\\dots$ & $\\dots$ & $\\dots$ & $\\dots$ & $\\dots$ & $\\dots$ \\\\\n",
       "\\end{tabular}\n"
      ],
      "text/plain": [
       "\u001B[1m320×6 DataFrame\u001B[0m\n",
       "\u001B[1m Row \u001B[0m│\u001B[1m accession       \u001B[0m\u001B[1m species_name           \u001B[0m\u001B[1m proteomes \u001B[0m\u001B[1m lifestyle \u001B[0m\u001B[1m genomes \u001B[0m\u001B[1m alternative_name \u001B[0m\n",
       "\u001B[1m     \u001B[0m│\u001B[90m SubStrin…       \u001B[0m\u001B[90m String                 \u001B[0m\u001B[90m Float64   \u001B[0m\u001B[90m String    \u001B[0m\u001B[90m Int64   \u001B[0m\u001B[90m String?          \u001B[0m\n",
       "─────┼──────────────────────────────────────────────────────────────────────────────────────────\n",
       "   1 │ GCA_001572055.1  Alternaria_alternata          3.0  N                1 \u001B[90m missing          \u001B[0m\n",
       "  ⋮  │        ⋮                   ⋮                 ⋮          ⋮         ⋮            ⋮\n",
       "\u001B[36m                                                                                319 rows omitted\u001B[0m"
      ]
     },
     "execution_count": 3,
     "metadata": {},
     "output_type": "execute_result"
    }
   ],
   "source": [
    "df = @pipe df |> \n",
    "    dropmissing(_,:accession)|>\n",
    "    select(_,:accession =>( x-> split.(x,\",\"))=>:accession,:) |>\n",
    "    flatten(_,:accession)"
   ]
  },
  {
   "cell_type": "markdown",
   "id": "fe175879-1c9d-447e-b34f-1f131530cdf2",
   "metadata": {},
   "source": [
    "## Read dbcan file "
   ]
  },
  {
   "cell_type": "code",
   "execution_count": 4,
   "id": "6e7413be-b4b6-40d9-b1ef-11e9f1d1c3c5",
   "metadata": {},
   "outputs": [],
   "source": [
    "using Glob"
   ]
  },
  {
   "cell_type": "code",
   "execution_count": 5,
   "id": "c0729388-30d8-4517-9bb1-2ec8b7d81680",
   "metadata": {},
   "outputs": [],
   "source": [
    "dfs = []\n",
    "for i in Glob.glob(\"cazy/*\")\n",
    "    d = CSV.File(i,delim=\"\\t\") |> DataFrame\n",
    "    d = @pipe d |>\n",
    "    filter(r -> r.\"#ofTools\" >2,_) |>\n",
    "    groupby(_,:DIAMOND) |>\n",
    "    combine(_, nrow)\n",
    "    accession = split(i,\"/\")[2]\n",
    "    accession = SubString(accession, 1, length(accession)- 4)\n",
    "    rename!(d,[\"cazy\",accession])\n",
    "    push!(dfs,d)\n",
    "end"
   ]
  },
  {
   "cell_type": "code",
   "execution_count": 6,
   "id": "1cd37119-a476-407d-9de9-291ab04a4e0f",
   "metadata": {},
   "outputs": [
    {
     "data": {
      "text/html": [
       "<table class=\"data-frame\"><thead><tr><th></th><th>cazy</th><th>Albugo_laibachii.ENA1_B</th><th>GCA_000002495.2</th><th>GCA_000002525.1</th><th>GCA_000002655.1</th><th>GCA_000002855.2</th><th>GCA_000002945.2</th><th>GCA_000006445.2</th><th>GCA_000011425.1</th><th>GCA_000027005.1</th><th>GCA_000091065.2</th><th>GCA_000142945.1</th></tr><tr><th></th><th>String</th><th>Int64</th><th>Int64</th><th>Int64</th><th>Int64</th><th>Int64</th><th>Int64</th><th>Int64</th><th>Int64</th><th>Int64</th><th>Int64</th><th>Int64</th></tr></thead><tbody><p>593 rows × 325 columns (omitted printing of 313 columns)</p><tr><th>1</th><td>GT2</td><td>2</td><td>8</td><td>8</td><td>5</td><td>9</td><td>0</td><td>5</td><td>5</td><td>4</td><td>0</td><td>2</td></tr><tr><th>2</th><td>GH5_12</td><td>1</td><td>1</td><td>2</td><td>0</td><td>1</td><td>0</td><td>1</td><td>1</td><td>1</td><td>0</td><td>3</td></tr><tr><th>3</th><td>GH37</td><td>5</td><td>1</td><td>1</td><td>0</td><td>0</td><td>0</td><td>1</td><td>0</td><td>1</td><td>0</td><td>3</td></tr><tr><th>4</th><td>GH3</td><td>2</td><td>14</td><td>5</td><td>10</td><td>13</td><td>0</td><td>3</td><td>12</td><td>1</td><td>0</td><td>8</td></tr><tr><th>5</th><td>GT48</td><td>8</td><td>1</td><td>2</td><td>0</td><td>1</td><td>0</td><td>2</td><td>0</td><td>3</td><td>0</td><td>6</td></tr><tr><th>6</th><td>GH31</td><td>1</td><td>6</td><td>1</td><td>5</td><td>5</td><td>1</td><td>3</td><td>4</td><td>1</td><td>0</td><td>4</td></tr><tr><th>7</th><td>GT20</td><td>6</td><td>2</td><td>3</td><td>7</td><td>4</td><td>3</td><td>3</td><td>3</td><td>3</td><td>0</td><td>7</td></tr><tr><th>8</th><td>GT4</td><td>3</td><td>3</td><td>3</td><td>3</td><td>4</td><td>1</td><td>3</td><td>3</td><td>3</td><td>0</td><td>1</td></tr><tr><th>9</th><td>GT66</td><td>4</td><td>1</td><td>1</td><td>1</td><td>1</td><td>0</td><td>1</td><td>1</td><td>1</td><td>0</td><td>2</td></tr><tr><th>10</th><td>GT22</td><td>1</td><td>4</td><td>4</td><td>4</td><td>3</td><td>2</td><td>4</td><td>4</td><td>4</td><td>0</td><td>2</td></tr><tr><th>&vellip;</th><td>&vellip;</td><td>&vellip;</td><td>&vellip;</td><td>&vellip;</td><td>&vellip;</td><td>&vellip;</td><td>&vellip;</td><td>&vellip;</td><td>&vellip;</td><td>&vellip;</td><td>&vellip;</td><td>&vellip;</td></tr></tbody></table>"
      ],
      "text/latex": [
       "\\begin{tabular}{r|ccccccccccccc}\n",
       "\t& cazy & Albugo\\_laibachii.ENA1\\_B & GCA\\_000002495.2 & GCA\\_000002525.1 & GCA\\_000002655.1 & GCA\\_000002855.2 & GCA\\_000002945.2 & GCA\\_000006445.2 & GCA\\_000011425.1 & GCA\\_000027005.1 & GCA\\_000091065.2 & GCA\\_000142945.1 & \\\\\n",
       "\t\\hline\n",
       "\t& String & Int64 & Int64 & Int64 & Int64 & Int64 & Int64 & Int64 & Int64 & Int64 & Int64 & Int64 & \\\\\n",
       "\t\\hline\n",
       "\t1 & GT2 & 2 & 8 & 8 & 5 & 9 & 0 & 5 & 5 & 4 & 0 & 2 & $\\dots$ \\\\\n",
       "\t2 & GH5\\_12 & 1 & 1 & 2 & 0 & 1 & 0 & 1 & 1 & 1 & 0 & 3 & $\\dots$ \\\\\n",
       "\t3 & GH37 & 5 & 1 & 1 & 0 & 0 & 0 & 1 & 0 & 1 & 0 & 3 & $\\dots$ \\\\\n",
       "\t4 & GH3 & 2 & 14 & 5 & 10 & 13 & 0 & 3 & 12 & 1 & 0 & 8 & $\\dots$ \\\\\n",
       "\t5 & GT48 & 8 & 1 & 2 & 0 & 1 & 0 & 2 & 0 & 3 & 0 & 6 & $\\dots$ \\\\\n",
       "\t6 & GH31 & 1 & 6 & 1 & 5 & 5 & 1 & 3 & 4 & 1 & 0 & 4 & $\\dots$ \\\\\n",
       "\t7 & GT20 & 6 & 2 & 3 & 7 & 4 & 3 & 3 & 3 & 3 & 0 & 7 & $\\dots$ \\\\\n",
       "\t8 & GT4 & 3 & 3 & 3 & 3 & 4 & 1 & 3 & 3 & 3 & 0 & 1 & $\\dots$ \\\\\n",
       "\t9 & GT66 & 4 & 1 & 1 & 1 & 1 & 0 & 1 & 1 & 1 & 0 & 2 & $\\dots$ \\\\\n",
       "\t10 & GT22 & 1 & 4 & 4 & 4 & 3 & 2 & 4 & 4 & 4 & 0 & 2 & $\\dots$ \\\\\n",
       "\t$\\dots$ & $\\dots$ & $\\dots$ & $\\dots$ & $\\dots$ & $\\dots$ & $\\dots$ & $\\dots$ & $\\dots$ & $\\dots$ & $\\dots$ & $\\dots$ & $\\dots$ &  \\\\\n",
       "\\end{tabular}\n"
      ],
      "text/plain": [
       "\u001B[1m593×325 DataFrame\u001B[0m\n",
       "\u001B[1m Row \u001B[0m│\u001B[1m cazy                  \u001B[0m\u001B[1m Albugo_laibachii.ENA1_B \u001B[0m\u001B[1m GCA_000002495.2 \u001B[0m\u001B[1m GCA_000002525.1 \u001B[0m\u001B[1m GCA_000002655.1 \u001B[0m\u001B[1m GCA_000002855.2 \u001B[0m\u001B[1m GCA_000002945.2 \u001B[0m\u001B[1m GCA_000006445.2 \u001B[0m\u001B[1m GCA_000011425.1 \u001B[0m\u001B[1m GCA_000027005.1 \u001B[0m\u001B[1m GCA_000\u001B[0m ⋯\n",
       "\u001B[1m     \u001B[0m│\u001B[90m String                \u001B[0m\u001B[90m Int64                   \u001B[0m\u001B[90m Int64           \u001B[0m\u001B[90m Int64           \u001B[0m\u001B[90m Int64           \u001B[0m\u001B[90m Int64           \u001B[0m\u001B[90m Int64           \u001B[0m\u001B[90m Int64           \u001B[0m\u001B[90m Int64           \u001B[0m\u001B[90m Int64           \u001B[0m\u001B[90m Int64  \u001B[0m ⋯\n",
       "─────┼──────────────────────────────────────────────────────────────────────────────────────────────────────────────────────────────────────────────────────────────────────────────────────────────────\n",
       "   1 │ GT2                                          2                8                8                5                9                0                5                5                4          ⋯\n",
       "  ⋮  │           ⋮                       ⋮                    ⋮                ⋮                ⋮                ⋮                ⋮                ⋮                ⋮                ⋮                 ⋱\n",
       "\u001B[36m                                                                                                                                                                        315 columns and 592 rows omitted\u001B[0m"
      ]
     },
     "execution_count": 6,
     "metadata": {},
     "output_type": "execute_result"
    }
   ],
   "source": [
    "X = coalesce.(outerjoin(dfs...,on=\"cazy\"),0)"
   ]
  },
  {
   "cell_type": "code",
   "execution_count": 11,
   "id": "1e935810-afca-4eb0-97af-a83500b035af",
   "metadata": {},
   "outputs": [
    {
     "data": {
      "text/html": [
       "<table class=\"data-frame\"><thead><tr><th></th><th>cazy</th><th>Albugo_laibachii.ENA1_B</th><th>GCA_000002495.2</th><th>GCA_000002525.1</th><th>GCA_000002655.1</th><th>GCA_000002855.2</th><th>GCA_000002945.2</th><th>GCA_000006445.2</th><th>GCA_000011425.1</th><th>GCA_000027005.1</th><th>GCA_000091065.2</th><th>GCA_000142945.1</th></tr><tr><th></th><th>String</th><th>Int64</th><th>Int64</th><th>Int64</th><th>Int64</th><th>Int64</th><th>Int64</th><th>Int64</th><th>Int64</th><th>Int64</th><th>Int64</th><th>Int64</th></tr></thead><tbody><p>593 rows × 325 columns (omitted printing of 313 columns)</p><tr><th>1</th><td>AA0</td><td>0</td><td>1</td><td>0</td><td>0</td><td>0</td><td>0</td><td>0</td><td>0</td><td>0</td><td>0</td><td>0</td></tr><tr><th>2</th><td>AA1</td><td>1</td><td>1</td><td>1</td><td>1</td><td>0</td><td>0</td><td>1</td><td>0</td><td>0</td><td>0</td><td>0</td></tr><tr><th>3</th><td>AA1+CBM1</td><td>0</td><td>0</td><td>0</td><td>0</td><td>0</td><td>0</td><td>0</td><td>0</td><td>0</td><td>0</td><td>0</td></tr><tr><th>4</th><td>AA10</td><td>0</td><td>0</td><td>0</td><td>0</td><td>0</td><td>0</td><td>0</td><td>0</td><td>0</td><td>0</td><td>0</td></tr><tr><th>5</th><td>AA11</td><td>0</td><td>5</td><td>0</td><td>1</td><td>3</td><td>0</td><td>0</td><td>2</td><td>0</td><td>0</td><td>0</td></tr><tr><th>6</th><td>AA11+1.14.99.53</td><td>0</td><td>0</td><td>0</td><td>1</td><td>0</td><td>0</td><td>0</td><td>0</td><td>0</td><td>0</td><td>0</td></tr><tr><th>7</th><td>AA11+CBM18</td><td>0</td><td>0</td><td>0</td><td>0</td><td>0</td><td>0</td><td>0</td><td>0</td><td>0</td><td>0</td><td>0</td></tr><tr><th>8</th><td>AA12</td><td>0</td><td>4</td><td>0</td><td>0</td><td>0</td><td>0</td><td>0</td><td>0</td><td>0</td><td>0</td><td>0</td></tr><tr><th>9</th><td>AA12+AA8</td><td>0</td><td>0</td><td>0</td><td>0</td><td>0</td><td>0</td><td>0</td><td>0</td><td>0</td><td>0</td><td>0</td></tr><tr><th>10</th><td>AA13</td><td>0</td><td>0</td><td>0</td><td>0</td><td>0</td><td>0</td><td>0</td><td>1</td><td>0</td><td>0</td><td>0</td></tr><tr><th>&vellip;</th><td>&vellip;</td><td>&vellip;</td><td>&vellip;</td><td>&vellip;</td><td>&vellip;</td><td>&vellip;</td><td>&vellip;</td><td>&vellip;</td><td>&vellip;</td><td>&vellip;</td><td>&vellip;</td><td>&vellip;</td></tr></tbody></table>"
      ],
      "text/latex": [
       "\\begin{tabular}{r|ccccccccccccc}\n",
       "\t& cazy & Albugo\\_laibachii.ENA1\\_B & GCA\\_000002495.2 & GCA\\_000002525.1 & GCA\\_000002655.1 & GCA\\_000002855.2 & GCA\\_000002945.2 & GCA\\_000006445.2 & GCA\\_000011425.1 & GCA\\_000027005.1 & GCA\\_000091065.2 & GCA\\_000142945.1 & \\\\\n",
       "\t\\hline\n",
       "\t& String & Int64 & Int64 & Int64 & Int64 & Int64 & Int64 & Int64 & Int64 & Int64 & Int64 & Int64 & \\\\\n",
       "\t\\hline\n",
       "\t1 & AA0 & 0 & 1 & 0 & 0 & 0 & 0 & 0 & 0 & 0 & 0 & 0 & $\\dots$ \\\\\n",
       "\t2 & AA1 & 1 & 1 & 1 & 1 & 0 & 0 & 1 & 0 & 0 & 0 & 0 & $\\dots$ \\\\\n",
       "\t3 & AA1+CBM1 & 0 & 0 & 0 & 0 & 0 & 0 & 0 & 0 & 0 & 0 & 0 & $\\dots$ \\\\\n",
       "\t4 & AA10 & 0 & 0 & 0 & 0 & 0 & 0 & 0 & 0 & 0 & 0 & 0 & $\\dots$ \\\\\n",
       "\t5 & AA11 & 0 & 5 & 0 & 1 & 3 & 0 & 0 & 2 & 0 & 0 & 0 & $\\dots$ \\\\\n",
       "\t6 & AA11+1.14.99.53 & 0 & 0 & 0 & 1 & 0 & 0 & 0 & 0 & 0 & 0 & 0 & $\\dots$ \\\\\n",
       "\t7 & AA11+CBM18 & 0 & 0 & 0 & 0 & 0 & 0 & 0 & 0 & 0 & 0 & 0 & $\\dots$ \\\\\n",
       "\t8 & AA12 & 0 & 4 & 0 & 0 & 0 & 0 & 0 & 0 & 0 & 0 & 0 & $\\dots$ \\\\\n",
       "\t9 & AA12+AA8 & 0 & 0 & 0 & 0 & 0 & 0 & 0 & 0 & 0 & 0 & 0 & $\\dots$ \\\\\n",
       "\t10 & AA13 & 0 & 0 & 0 & 0 & 0 & 0 & 0 & 1 & 0 & 0 & 0 & $\\dots$ \\\\\n",
       "\t$\\dots$ & $\\dots$ & $\\dots$ & $\\dots$ & $\\dots$ & $\\dots$ & $\\dots$ & $\\dots$ & $\\dots$ & $\\dots$ & $\\dots$ & $\\dots$ & $\\dots$ &  \\\\\n",
       "\\end{tabular}\n"
      ],
      "text/plain": [
       "\u001B[1m593×325 DataFrame\u001B[0m\n",
       "\u001B[1m Row \u001B[0m│\u001B[1m cazy     \u001B[0m\u001B[1m Albugo_laibachii.ENA1_B \u001B[0m\u001B[1m GCA_000002495.2 \u001B[0m\u001B[1m GCA_000002525.1 \u001B[0m\u001B[1m GCA_000002655.1 \u001B[0m\u001B[1m GCA_000002855.2 \u001B[0m\u001B[1m GCA_000002945.2 \u001B[0m\u001B[1m GCA_000006445.2 \u001B[0m\u001B[1m GCA_000011425.1 \u001B[0m\u001B[1m GCA_000027005.1 \u001B[0m\u001B[1m GCA_000091065.2 \u001B[0m\u001B[1m GCA\u001B[0m ⋯\n",
       "\u001B[1m     \u001B[0m│\u001B[90m String   \u001B[0m\u001B[90m Int64                   \u001B[0m\u001B[90m Int64           \u001B[0m\u001B[90m Int64           \u001B[0m\u001B[90m Int64           \u001B[0m\u001B[90m Int64           \u001B[0m\u001B[90m Int64           \u001B[0m\u001B[90m Int64           \u001B[0m\u001B[90m Int64           \u001B[0m\u001B[90m Int64           \u001B[0m\u001B[90m Int64           \u001B[0m\u001B[90m Int\u001B[0m ⋯\n",
       "─────┼──────────────────────────────────────────────────────────────────────────────────────────────────────────────────────────────────────────────────────────────────────────────────────────────────\n",
       "   1 │ AA0                             0                1                0                0                0                0                0                0                0                0      ⋯\n",
       "  ⋮  │    ⋮                 ⋮                    ⋮                ⋮                ⋮                ⋮                ⋮                ⋮                ⋮                ⋮                ⋮             ⋱\n",
       "\u001B[36m                                                                                                                                                                        314 columns and 592 rows omitted\u001B[0m"
      ]
     },
     "execution_count": 11,
     "metadata": {},
     "output_type": "execute_result"
    }
   ],
   "source": [
    "sort!(X,:cazy)"
   ]
  },
  {
   "cell_type": "code",
   "execution_count": 21,
   "id": "5a394792-129c-4902-aa8a-ab63f7a922ab",
   "metadata": {},
   "outputs": [
    {
     "data": {
      "text/html": [
       "<table class=\"data-frame\"><thead><tr><th></th><th>column</th><th>1</th><th>2</th><th>3</th><th>4</th><th>5</th><th>6</th><th>7</th><th>8</th><th>9</th><th>10</th><th>11</th><th>12</th><th>13</th><th>14</th><th>15</th><th>16</th><th>17</th><th>18</th><th>19</th><th>20</th><th>21</th><th>22</th><th>23</th><th>24</th><th>25</th><th>26</th><th>27</th><th>28</th><th>29</th><th>30</th><th>31</th><th>32</th><th>33</th><th>34</th><th>35</th><th>36</th><th>37</th></tr><tr><th></th><th>Any</th><th>Any</th><th>Any</th><th>Any</th><th>Any</th><th>Any</th><th>Any</th><th>Any</th><th>Any</th><th>Any</th><th>Any</th><th>Any</th><th>Any</th><th>Any</th><th>Any</th><th>Any</th><th>Any</th><th>Any</th><th>Any</th><th>Any</th><th>Any</th><th>Any</th><th>Any</th><th>Any</th><th>Any</th><th>Any</th><th>Any</th><th>Any</th><th>Any</th><th>Any</th><th>Any</th><th>Any</th><th>Any</th><th>Any</th><th>Any</th><th>Any</th><th>Any</th><th>Any</th></tr></thead><tbody><p>325 rows × 595 columns (omitted printing of 557 columns)</p><tr><th>1</th><td>GCA_000002495.2</td><td>1</td><td>1</td><td>0</td><td>0</td><td>5</td><td>0</td><td>0</td><td>4</td><td>0</td><td>0</td><td>1</td><td>0</td><td>0</td><td>0</td><td>0</td><td>1</td><td>0</td><td>0</td><td>2</td><td>6</td><td>0</td><td>0</td><td>0</td><td>0</td><td>2</td><td>0</td><td>0</td><td>0</td><td>3</td><td>3</td><td>1</td><td>0</td><td>1</td><td>0</td><td>10</td><td>0</td><td>0</td></tr><tr><th>2</th><td>GCA_000002525.1</td><td>0</td><td>1</td><td>0</td><td>0</td><td>0</td><td>0</td><td>0</td><td>0</td><td>0</td><td>0</td><td>0</td><td>0</td><td>0</td><td>0</td><td>0</td><td>0</td><td>0</td><td>0</td><td>2</td><td>0</td><td>0</td><td>0</td><td>0</td><td>0</td><td>0</td><td>0</td><td>0</td><td>0</td><td>0</td><td>0</td><td>0</td><td>0</td><td>0</td><td>0</td><td>1</td><td>0</td><td>0</td></tr><tr><th>3</th><td>GCA_000002655.1</td><td>0</td><td>1</td><td>0</td><td>0</td><td>1</td><td>1</td><td>0</td><td>0</td><td>0</td><td>0</td><td>0</td><td>0</td><td>0</td><td>0</td><td>0</td><td>1</td><td>0</td><td>0</td><td>1</td><td>0</td><td>1</td><td>0</td><td>0</td><td>0</td><td>0</td><td>0</td><td>0</td><td>0</td><td>1</td><td>0</td><td>2</td><td>0</td><td>0</td><td>0</td><td>8</td><td>0</td><td>0</td></tr><tr><th>4</th><td>GCA_000002855.2</td><td>0</td><td>0</td><td>0</td><td>0</td><td>3</td><td>0</td><td>0</td><td>0</td><td>0</td><td>0</td><td>0</td><td>0</td><td>0</td><td>0</td><td>0</td><td>1</td><td>0</td><td>0</td><td>3</td><td>6</td><td>0</td><td>1</td><td>0</td><td>0</td><td>0</td><td>0</td><td>0</td><td>0</td><td>2</td><td>1</td><td>1</td><td>0</td><td>0</td><td>0</td><td>24</td><td>0</td><td>0</td></tr><tr><th>5</th><td>GCA_000002945.2</td><td>0</td><td>0</td><td>0</td><td>0</td><td>0</td><td>0</td><td>0</td><td>0</td><td>0</td><td>0</td><td>0</td><td>0</td><td>0</td><td>0</td><td>0</td><td>0</td><td>0</td><td>0</td><td>1</td><td>0</td><td>0</td><td>0</td><td>0</td><td>0</td><td>0</td><td>0</td><td>0</td><td>0</td><td>0</td><td>0</td><td>0</td><td>0</td><td>0</td><td>0</td><td>0</td><td>0</td><td>0</td></tr><tr><th>6</th><td>GCA_000006445.2</td><td>0</td><td>1</td><td>0</td><td>0</td><td>0</td><td>0</td><td>0</td><td>0</td><td>0</td><td>0</td><td>0</td><td>0</td><td>0</td><td>0</td><td>0</td><td>0</td><td>0</td><td>0</td><td>2</td><td>0</td><td>0</td><td>0</td><td>0</td><td>0</td><td>0</td><td>0</td><td>0</td><td>0</td><td>0</td><td>0</td><td>0</td><td>0</td><td>0</td><td>0</td><td>0</td><td>0</td><td>0</td></tr><tr><th>7</th><td>GCA_000011425.1</td><td>0</td><td>0</td><td>0</td><td>0</td><td>2</td><td>0</td><td>0</td><td>0</td><td>0</td><td>1</td><td>0</td><td>1</td><td>0</td><td>0</td><td>0</td><td>1</td><td>0</td><td>0</td><td>0</td><td>3</td><td>0</td><td>0</td><td>0</td><td>0</td><td>0</td><td>0</td><td>0</td><td>0</td><td>1</td><td>0</td><td>1</td><td>0</td><td>0</td><td>0</td><td>17</td><td>0</td><td>0</td></tr><tr><th>8</th><td>GCA_000027005.1</td><td>0</td><td>0</td><td>0</td><td>0</td><td>0</td><td>0</td><td>0</td><td>0</td><td>0</td><td>0</td><td>0</td><td>0</td><td>0</td><td>0</td><td>0</td><td>0</td><td>0</td><td>0</td><td>2</td><td>0</td><td>0</td><td>0</td><td>0</td><td>0</td><td>0</td><td>0</td><td>0</td><td>0</td><td>0</td><td>0</td><td>0</td><td>0</td><td>0</td><td>0</td><td>0</td><td>0</td><td>0</td></tr><tr><th>9</th><td>GCA_000091065.2</td><td>0</td><td>0</td><td>0</td><td>0</td><td>0</td><td>0</td><td>0</td><td>0</td><td>0</td><td>0</td><td>0</td><td>0</td><td>0</td><td>0</td><td>0</td><td>0</td><td>0</td><td>0</td><td>1</td><td>0</td><td>0</td><td>0</td><td>0</td><td>0</td><td>0</td><td>0</td><td>0</td><td>0</td><td>0</td><td>0</td><td>0</td><td>0</td><td>0</td><td>0</td><td>0</td><td>0</td><td>0</td></tr><tr><th>10</th><td>GCA_000142945.1</td><td>0</td><td>0</td><td>0</td><td>0</td><td>0</td><td>0</td><td>0</td><td>0</td><td>0</td><td>0</td><td>0</td><td>0</td><td>0</td><td>0</td><td>0</td><td>0</td><td>0</td><td>0</td><td>0</td><td>0</td><td>0</td><td>0</td><td>0</td><td>0</td><td>0</td><td>0</td><td>0</td><td>0</td><td>0</td><td>0</td><td>0</td><td>0</td><td>0</td><td>0</td><td>5</td><td>0</td><td>0</td></tr><tr><th>&vellip;</th><td>&vellip;</td><td>&vellip;</td><td>&vellip;</td><td>&vellip;</td><td>&vellip;</td><td>&vellip;</td><td>&vellip;</td><td>&vellip;</td><td>&vellip;</td><td>&vellip;</td><td>&vellip;</td><td>&vellip;</td><td>&vellip;</td><td>&vellip;</td><td>&vellip;</td><td>&vellip;</td><td>&vellip;</td><td>&vellip;</td><td>&vellip;</td><td>&vellip;</td><td>&vellip;</td><td>&vellip;</td><td>&vellip;</td><td>&vellip;</td><td>&vellip;</td><td>&vellip;</td><td>&vellip;</td><td>&vellip;</td><td>&vellip;</td><td>&vellip;</td><td>&vellip;</td><td>&vellip;</td><td>&vellip;</td><td>&vellip;</td><td>&vellip;</td><td>&vellip;</td><td>&vellip;</td><td>&vellip;</td></tr></tbody></table>"
      ],
      "text/latex": [
       "\\begin{tabular}{r|ccccccccccccccccccccccccccccccccccccccc}\n",
       "\t& column & 1 & 2 & 3 & 4 & 5 & 6 & 7 & 8 & 9 & 10 & 11 & 12 & 13 & 14 & 15 & 16 & 17 & 18 & 19 & 20 & 21 & 22 & 23 & 24 & 25 & 26 & 27 & 28 & 29 & 30 & 31 & 32 & 33 & 34 & 35 & 36 & 37 & \\\\\n",
       "\t\\hline\n",
       "\t& Any & Any & Any & Any & Any & Any & Any & Any & Any & Any & Any & Any & Any & Any & Any & Any & Any & Any & Any & Any & Any & Any & Any & Any & Any & Any & Any & Any & Any & Any & Any & Any & Any & Any & Any & Any & Any & Any & \\\\\n",
       "\t\\hline\n",
       "\t1 & GCA\\_000002495.2 & 1 & 1 & 0 & 0 & 5 & 0 & 0 & 4 & 0 & 0 & 1 & 0 & 0 & 0 & 0 & 1 & 0 & 0 & 2 & 6 & 0 & 0 & 0 & 0 & 2 & 0 & 0 & 0 & 3 & 3 & 1 & 0 & 1 & 0 & 10 & 0 & 0 & $\\dots$ \\\\\n",
       "\t2 & GCA\\_000002525.1 & 0 & 1 & 0 & 0 & 0 & 0 & 0 & 0 & 0 & 0 & 0 & 0 & 0 & 0 & 0 & 0 & 0 & 0 & 2 & 0 & 0 & 0 & 0 & 0 & 0 & 0 & 0 & 0 & 0 & 0 & 0 & 0 & 0 & 0 & 1 & 0 & 0 & $\\dots$ \\\\\n",
       "\t3 & GCA\\_000002655.1 & 0 & 1 & 0 & 0 & 1 & 1 & 0 & 0 & 0 & 0 & 0 & 0 & 0 & 0 & 0 & 1 & 0 & 0 & 1 & 0 & 1 & 0 & 0 & 0 & 0 & 0 & 0 & 0 & 1 & 0 & 2 & 0 & 0 & 0 & 8 & 0 & 0 & $\\dots$ \\\\\n",
       "\t4 & GCA\\_000002855.2 & 0 & 0 & 0 & 0 & 3 & 0 & 0 & 0 & 0 & 0 & 0 & 0 & 0 & 0 & 0 & 1 & 0 & 0 & 3 & 6 & 0 & 1 & 0 & 0 & 0 & 0 & 0 & 0 & 2 & 1 & 1 & 0 & 0 & 0 & 24 & 0 & 0 & $\\dots$ \\\\\n",
       "\t5 & GCA\\_000002945.2 & 0 & 0 & 0 & 0 & 0 & 0 & 0 & 0 & 0 & 0 & 0 & 0 & 0 & 0 & 0 & 0 & 0 & 0 & 1 & 0 & 0 & 0 & 0 & 0 & 0 & 0 & 0 & 0 & 0 & 0 & 0 & 0 & 0 & 0 & 0 & 0 & 0 & $\\dots$ \\\\\n",
       "\t6 & GCA\\_000006445.2 & 0 & 1 & 0 & 0 & 0 & 0 & 0 & 0 & 0 & 0 & 0 & 0 & 0 & 0 & 0 & 0 & 0 & 0 & 2 & 0 & 0 & 0 & 0 & 0 & 0 & 0 & 0 & 0 & 0 & 0 & 0 & 0 & 0 & 0 & 0 & 0 & 0 & $\\dots$ \\\\\n",
       "\t7 & GCA\\_000011425.1 & 0 & 0 & 0 & 0 & 2 & 0 & 0 & 0 & 0 & 1 & 0 & 1 & 0 & 0 & 0 & 1 & 0 & 0 & 0 & 3 & 0 & 0 & 0 & 0 & 0 & 0 & 0 & 0 & 1 & 0 & 1 & 0 & 0 & 0 & 17 & 0 & 0 & $\\dots$ \\\\\n",
       "\t8 & GCA\\_000027005.1 & 0 & 0 & 0 & 0 & 0 & 0 & 0 & 0 & 0 & 0 & 0 & 0 & 0 & 0 & 0 & 0 & 0 & 0 & 2 & 0 & 0 & 0 & 0 & 0 & 0 & 0 & 0 & 0 & 0 & 0 & 0 & 0 & 0 & 0 & 0 & 0 & 0 & $\\dots$ \\\\\n",
       "\t9 & GCA\\_000091065.2 & 0 & 0 & 0 & 0 & 0 & 0 & 0 & 0 & 0 & 0 & 0 & 0 & 0 & 0 & 0 & 0 & 0 & 0 & 1 & 0 & 0 & 0 & 0 & 0 & 0 & 0 & 0 & 0 & 0 & 0 & 0 & 0 & 0 & 0 & 0 & 0 & 0 & $\\dots$ \\\\\n",
       "\t10 & GCA\\_000142945.1 & 0 & 0 & 0 & 0 & 0 & 0 & 0 & 0 & 0 & 0 & 0 & 0 & 0 & 0 & 0 & 0 & 0 & 0 & 0 & 0 & 0 & 0 & 0 & 0 & 0 & 0 & 0 & 0 & 0 & 0 & 0 & 0 & 0 & 0 & 5 & 0 & 0 & $\\dots$ \\\\\n",
       "\t$\\dots$ & $\\dots$ & $\\dots$ & $\\dots$ & $\\dots$ & $\\dots$ & $\\dots$ & $\\dots$ & $\\dots$ & $\\dots$ & $\\dots$ & $\\dots$ & $\\dots$ & $\\dots$ & $\\dots$ & $\\dots$ & $\\dots$ & $\\dots$ & $\\dots$ & $\\dots$ & $\\dots$ & $\\dots$ & $\\dots$ & $\\dots$ & $\\dots$ & $\\dots$ & $\\dots$ & $\\dots$ & $\\dots$ & $\\dots$ & $\\dots$ & $\\dots$ & $\\dots$ & $\\dots$ & $\\dots$ & $\\dots$ & $\\dots$ & $\\dots$ & $\\dots$ &  \\\\\n",
       "\\end{tabular}\n"
      ],
      "text/plain": [
       "\u001B[1m325×595 DataFrame\u001B[0m\n",
       "\u001B[1m Row \u001B[0m│\u001B[1m column                            \u001B[0m\u001B[1m 1   \u001B[0m\u001B[1m 2   \u001B[0m\u001B[1m 3   \u001B[0m\u001B[1m 4   \u001B[0m\u001B[1m 5   \u001B[0m\u001B[1m 6   \u001B[0m\u001B[1m 7   \u001B[0m\u001B[1m 8   \u001B[0m\u001B[1m 9   \u001B[0m\u001B[1m 10  \u001B[0m\u001B[1m 11  \u001B[0m\u001B[1m 12  \u001B[0m\u001B[1m 13  \u001B[0m\u001B[1m 14  \u001B[0m\u001B[1m 15  \u001B[0m\u001B[1m 16  \u001B[0m\u001B[1m 17  \u001B[0m\u001B[1m 18  \u001B[0m\u001B[1m 19  \u001B[0m\u001B[1m 20  \u001B[0m\u001B[1m 21  \u001B[0m\u001B[1m 22  \u001B[0m\u001B[1m 23  \u001B[0m\u001B[1m 24  \u001B[0m\u001B[1m 25  \u001B[0m\u001B[1m 26  \u001B[0m\u001B[1m 27  \u001B[0m\u001B[1m 28  \u001B[0m\u001B[1m 29  \u001B[0m\u001B[1m 30  \u001B[0m\u001B[1m 31  \u001B[0m\u001B[1m 3\u001B[0m ⋯\n",
       "\u001B[1m     \u001B[0m│\u001B[90m Any                               \u001B[0m\u001B[90m Any \u001B[0m\u001B[90m Any \u001B[0m\u001B[90m Any \u001B[0m\u001B[90m Any \u001B[0m\u001B[90m Any \u001B[0m\u001B[90m Any \u001B[0m\u001B[90m Any \u001B[0m\u001B[90m Any \u001B[0m\u001B[90m Any \u001B[0m\u001B[90m Any \u001B[0m\u001B[90m Any \u001B[0m\u001B[90m Any \u001B[0m\u001B[90m Any \u001B[0m\u001B[90m Any \u001B[0m\u001B[90m Any \u001B[0m\u001B[90m Any \u001B[0m\u001B[90m Any \u001B[0m\u001B[90m Any \u001B[0m\u001B[90m Any \u001B[0m\u001B[90m Any \u001B[0m\u001B[90m Any \u001B[0m\u001B[90m Any \u001B[0m\u001B[90m Any \u001B[0m\u001B[90m Any \u001B[0m\u001B[90m Any \u001B[0m\u001B[90m Any \u001B[0m\u001B[90m Any \u001B[0m\u001B[90m Any \u001B[0m\u001B[90m Any \u001B[0m\u001B[90m Any \u001B[0m\u001B[90m Any \u001B[0m\u001B[90m A\u001B[0m ⋯\n",
       "─────┼──────────────────────────────────────────────────────────────────────────────────────────────────────────────────────────────────────────────────────────────────────────────────────────────────\n",
       "   1 │ GCA_000002495.2                    1    1    0    0    5    0    0    4    0    0    1    0    0    0    0    1    0    0    2    6    0    0    0    0    2    0    0    0    3    3    1    0 ⋯\n",
       "  ⋮  │                 ⋮                   ⋮    ⋮    ⋮    ⋮    ⋮    ⋮    ⋮    ⋮    ⋮    ⋮    ⋮    ⋮    ⋮    ⋮    ⋮    ⋮    ⋮    ⋮    ⋮    ⋮    ⋮    ⋮    ⋮    ⋮    ⋮    ⋮    ⋮    ⋮    ⋮    ⋮    ⋮     ⋱\n",
       "\u001B[36m                                                                                                                                                                        563 columns and 324 rows omitted\u001B[0m"
      ]
     },
     "execution_count": 21,
     "metadata": {},
     "output_type": "execute_result"
    }
   ],
   "source": [
    "lj = leftjoin(DataFrame([[names(X)]; collect.(eachrow(X))], \n",
    "[:column; Symbol.(axes(X, 1))]),select(df,:accession,:lifestyle),on=\"column\" => \"accession\")"
   ]
  },
  {
   "cell_type": "code",
   "execution_count": 23,
   "id": "8d367fa0-566f-4728-85d1-4b6db412dbbb",
   "metadata": {},
   "outputs": [
    {
     "data": {
      "text/plain": [
       "\"cazy_df.csv\""
      ]
     },
     "execution_count": 23,
     "metadata": {},
     "output_type": "execute_result"
    }
   ],
   "source": [
    "CSV.write(\"cazy_df.csv\",lj)"
   ]
  },
  {
   "cell_type": "code",
   "execution_count": null,
   "id": "e1777cbd-d958-448e-8f1f-e42a46b5491e",
   "metadata": {},
   "outputs": [],
   "source": []
  }
 ],
 "metadata": {
  "kernelspec": {
   "name": "julia-4-threads-1.8",
   "language": "julia",
   "display_name": "Julia (4 threads) 1.8.0-DEV"
  },
  "language_info": {
   "file_extension": ".jl",
   "mimetype": "application/julia",
   "name": "julia",
   "version": "1.8.0"
  }
 },
 "nbformat": 4,
 "nbformat_minor": 5
}